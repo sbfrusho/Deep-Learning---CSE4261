{
  "nbformat": 4,
  "nbformat_minor": 0,
  "metadata": {
    "colab": {
      "provenance": [],
      "gpuType": "T4"
    },
    "kernelspec": {
      "name": "python3",
      "display_name": "Python 3"
    },
    "language_info": {
      "name": "python"
    },
    "accelerator": "GPU"
  },
  "cells": [
    {
      "cell_type": "code",
      "execution_count": null,
      "metadata": {
        "colab": {
          "base_uri": "https://localhost:8080/"
        },
        "id": "96VdLM3WbUFZ",
        "outputId": "1782bcf3-8044-439a-c5ad-33595300429d"
      },
      "outputs": [
        {
          "output_type": "stream",
          "name": "stdout",
          "text": [
            "Collecting ultralytics\n",
            "  Downloading ultralytics-8.3.162-py3-none-any.whl.metadata (37 kB)\n",
            "Requirement already satisfied: numpy>=1.23.0 in /usr/local/lib/python3.11/dist-packages (from ultralytics) (2.0.2)\n",
            "Requirement already satisfied: matplotlib>=3.3.0 in /usr/local/lib/python3.11/dist-packages (from ultralytics) (3.10.0)\n",
            "Requirement already satisfied: opencv-python>=4.6.0 in /usr/local/lib/python3.11/dist-packages (from ultralytics) (4.11.0.86)\n",
            "Requirement already satisfied: pillow>=7.1.2 in /usr/local/lib/python3.11/dist-packages (from ultralytics) (11.2.1)\n",
            "Requirement already satisfied: pyyaml>=5.3.1 in /usr/local/lib/python3.11/dist-packages (from ultralytics) (6.0.2)\n",
            "Requirement already satisfied: requests>=2.23.0 in /usr/local/lib/python3.11/dist-packages (from ultralytics) (2.32.3)\n",
            "Requirement already satisfied: scipy>=1.4.1 in /usr/local/lib/python3.11/dist-packages (from ultralytics) (1.15.3)\n",
            "Requirement already satisfied: torch>=1.8.0 in /usr/local/lib/python3.11/dist-packages (from ultralytics) (2.6.0+cu124)\n",
            "Requirement already satisfied: torchvision>=0.9.0 in /usr/local/lib/python3.11/dist-packages (from ultralytics) (0.21.0+cu124)\n",
            "Requirement already satisfied: tqdm>=4.64.0 in /usr/local/lib/python3.11/dist-packages (from ultralytics) (4.67.1)\n",
            "Requirement already satisfied: psutil in /usr/local/lib/python3.11/dist-packages (from ultralytics) (5.9.5)\n",
            "Requirement already satisfied: py-cpuinfo in /usr/local/lib/python3.11/dist-packages (from ultralytics) (9.0.0)\n",
            "Requirement already satisfied: pandas>=1.1.4 in /usr/local/lib/python3.11/dist-packages (from ultralytics) (2.2.2)\n",
            "Collecting ultralytics-thop>=2.0.0 (from ultralytics)\n",
            "  Downloading ultralytics_thop-2.0.14-py3-none-any.whl.metadata (9.4 kB)\n",
            "Requirement already satisfied: contourpy>=1.0.1 in /usr/local/lib/python3.11/dist-packages (from matplotlib>=3.3.0->ultralytics) (1.3.2)\n",
            "Requirement already satisfied: cycler>=0.10 in /usr/local/lib/python3.11/dist-packages (from matplotlib>=3.3.0->ultralytics) (0.12.1)\n",
            "Requirement already satisfied: fonttools>=4.22.0 in /usr/local/lib/python3.11/dist-packages (from matplotlib>=3.3.0->ultralytics) (4.58.4)\n",
            "Requirement already satisfied: kiwisolver>=1.3.1 in /usr/local/lib/python3.11/dist-packages (from matplotlib>=3.3.0->ultralytics) (1.4.8)\n",
            "Requirement already satisfied: packaging>=20.0 in /usr/local/lib/python3.11/dist-packages (from matplotlib>=3.3.0->ultralytics) (24.2)\n",
            "Requirement already satisfied: pyparsing>=2.3.1 in /usr/local/lib/python3.11/dist-packages (from matplotlib>=3.3.0->ultralytics) (3.2.3)\n",
            "Requirement already satisfied: python-dateutil>=2.7 in /usr/local/lib/python3.11/dist-packages (from matplotlib>=3.3.0->ultralytics) (2.9.0.post0)\n",
            "Requirement already satisfied: pytz>=2020.1 in /usr/local/lib/python3.11/dist-packages (from pandas>=1.1.4->ultralytics) (2025.2)\n",
            "Requirement already satisfied: tzdata>=2022.7 in /usr/local/lib/python3.11/dist-packages (from pandas>=1.1.4->ultralytics) (2025.2)\n",
            "Requirement already satisfied: charset-normalizer<4,>=2 in /usr/local/lib/python3.11/dist-packages (from requests>=2.23.0->ultralytics) (3.4.2)\n",
            "Requirement already satisfied: idna<4,>=2.5 in /usr/local/lib/python3.11/dist-packages (from requests>=2.23.0->ultralytics) (3.10)\n",
            "Requirement already satisfied: urllib3<3,>=1.21.1 in /usr/local/lib/python3.11/dist-packages (from requests>=2.23.0->ultralytics) (2.4.0)\n",
            "Requirement already satisfied: certifi>=2017.4.17 in /usr/local/lib/python3.11/dist-packages (from requests>=2.23.0->ultralytics) (2025.6.15)\n",
            "Requirement already satisfied: filelock in /usr/local/lib/python3.11/dist-packages (from torch>=1.8.0->ultralytics) (3.18.0)\n",
            "Requirement already satisfied: typing-extensions>=4.10.0 in /usr/local/lib/python3.11/dist-packages (from torch>=1.8.0->ultralytics) (4.14.0)\n",
            "Requirement already satisfied: networkx in /usr/local/lib/python3.11/dist-packages (from torch>=1.8.0->ultralytics) (3.5)\n",
            "Requirement already satisfied: jinja2 in /usr/local/lib/python3.11/dist-packages (from torch>=1.8.0->ultralytics) (3.1.6)\n",
            "Requirement already satisfied: fsspec in /usr/local/lib/python3.11/dist-packages (from torch>=1.8.0->ultralytics) (2025.3.2)\n",
            "Collecting nvidia-cuda-nvrtc-cu12==12.4.127 (from torch>=1.8.0->ultralytics)\n",
            "  Downloading nvidia_cuda_nvrtc_cu12-12.4.127-py3-none-manylinux2014_x86_64.whl.metadata (1.5 kB)\n",
            "Collecting nvidia-cuda-runtime-cu12==12.4.127 (from torch>=1.8.0->ultralytics)\n",
            "  Downloading nvidia_cuda_runtime_cu12-12.4.127-py3-none-manylinux2014_x86_64.whl.metadata (1.5 kB)\n",
            "Collecting nvidia-cuda-cupti-cu12==12.4.127 (from torch>=1.8.0->ultralytics)\n",
            "  Downloading nvidia_cuda_cupti_cu12-12.4.127-py3-none-manylinux2014_x86_64.whl.metadata (1.6 kB)\n",
            "Collecting nvidia-cudnn-cu12==9.1.0.70 (from torch>=1.8.0->ultralytics)\n",
            "  Downloading nvidia_cudnn_cu12-9.1.0.70-py3-none-manylinux2014_x86_64.whl.metadata (1.6 kB)\n",
            "Collecting nvidia-cublas-cu12==12.4.5.8 (from torch>=1.8.0->ultralytics)\n",
            "  Downloading nvidia_cublas_cu12-12.4.5.8-py3-none-manylinux2014_x86_64.whl.metadata (1.5 kB)\n",
            "Collecting nvidia-cufft-cu12==11.2.1.3 (from torch>=1.8.0->ultralytics)\n",
            "  Downloading nvidia_cufft_cu12-11.2.1.3-py3-none-manylinux2014_x86_64.whl.metadata (1.5 kB)\n",
            "Collecting nvidia-curand-cu12==10.3.5.147 (from torch>=1.8.0->ultralytics)\n",
            "  Downloading nvidia_curand_cu12-10.3.5.147-py3-none-manylinux2014_x86_64.whl.metadata (1.5 kB)\n",
            "Collecting nvidia-cusolver-cu12==11.6.1.9 (from torch>=1.8.0->ultralytics)\n",
            "  Downloading nvidia_cusolver_cu12-11.6.1.9-py3-none-manylinux2014_x86_64.whl.metadata (1.6 kB)\n",
            "Collecting nvidia-cusparse-cu12==12.3.1.170 (from torch>=1.8.0->ultralytics)\n",
            "  Downloading nvidia_cusparse_cu12-12.3.1.170-py3-none-manylinux2014_x86_64.whl.metadata (1.6 kB)\n",
            "Requirement already satisfied: nvidia-cusparselt-cu12==0.6.2 in /usr/local/lib/python3.11/dist-packages (from torch>=1.8.0->ultralytics) (0.6.2)\n",
            "Requirement already satisfied: nvidia-nccl-cu12==2.21.5 in /usr/local/lib/python3.11/dist-packages (from torch>=1.8.0->ultralytics) (2.21.5)\n",
            "Requirement already satisfied: nvidia-nvtx-cu12==12.4.127 in /usr/local/lib/python3.11/dist-packages (from torch>=1.8.0->ultralytics) (12.4.127)\n",
            "Collecting nvidia-nvjitlink-cu12==12.4.127 (from torch>=1.8.0->ultralytics)\n",
            "  Downloading nvidia_nvjitlink_cu12-12.4.127-py3-none-manylinux2014_x86_64.whl.metadata (1.5 kB)\n",
            "Requirement already satisfied: triton==3.2.0 in /usr/local/lib/python3.11/dist-packages (from torch>=1.8.0->ultralytics) (3.2.0)\n",
            "Requirement already satisfied: sympy==1.13.1 in /usr/local/lib/python3.11/dist-packages (from torch>=1.8.0->ultralytics) (1.13.1)\n",
            "Requirement already satisfied: mpmath<1.4,>=1.1.0 in /usr/local/lib/python3.11/dist-packages (from sympy==1.13.1->torch>=1.8.0->ultralytics) (1.3.0)\n",
            "Requirement already satisfied: six>=1.5 in /usr/local/lib/python3.11/dist-packages (from python-dateutil>=2.7->matplotlib>=3.3.0->ultralytics) (1.17.0)\n",
            "Requirement already satisfied: MarkupSafe>=2.0 in /usr/local/lib/python3.11/dist-packages (from jinja2->torch>=1.8.0->ultralytics) (3.0.2)\n",
            "Downloading ultralytics-8.3.162-py3-none-any.whl (1.0 MB)\n",
            "\u001b[2K   \u001b[90m━━━━━━━━━━━━━━━━━━━━━━━━━━━━━━━━━━━━━━━━\u001b[0m \u001b[32m1.0/1.0 MB\u001b[0m \u001b[31m60.8 MB/s\u001b[0m eta \u001b[36m0:00:00\u001b[0m\n",
            "\u001b[?25hDownloading nvidia_cublas_cu12-12.4.5.8-py3-none-manylinux2014_x86_64.whl (363.4 MB)\n",
            "\u001b[2K   \u001b[90m━━━━━━━━━━━━━━━━━━━━━━━━━━━━━━━━━━━━━━━━\u001b[0m \u001b[32m363.4/363.4 MB\u001b[0m \u001b[31m2.7 MB/s\u001b[0m eta \u001b[36m0:00:00\u001b[0m\n",
            "\u001b[?25hDownloading nvidia_cuda_cupti_cu12-12.4.127-py3-none-manylinux2014_x86_64.whl (13.8 MB)\n",
            "\u001b[2K   \u001b[90m━━━━━━━━━━━━━━━━━━━━━━━━━━━━━━━━━━━━━━━━\u001b[0m \u001b[32m13.8/13.8 MB\u001b[0m \u001b[31m130.4 MB/s\u001b[0m eta \u001b[36m0:00:00\u001b[0m\n",
            "\u001b[?25hDownloading nvidia_cuda_nvrtc_cu12-12.4.127-py3-none-manylinux2014_x86_64.whl (24.6 MB)\n",
            "\u001b[2K   \u001b[90m━━━━━━━━━━━━━━━━━━━━━━━━━━━━━━━━━━━━━━━━\u001b[0m \u001b[32m24.6/24.6 MB\u001b[0m \u001b[31m97.2 MB/s\u001b[0m eta \u001b[36m0:00:00\u001b[0m\n",
            "\u001b[?25hDownloading nvidia_cuda_runtime_cu12-12.4.127-py3-none-manylinux2014_x86_64.whl (883 kB)\n",
            "\u001b[2K   \u001b[90m━━━━━━━━━━━━━━━━━━━━━━━━━━━━━━━━━━━━━━━━\u001b[0m \u001b[32m883.7/883.7 kB\u001b[0m \u001b[31m62.6 MB/s\u001b[0m eta \u001b[36m0:00:00\u001b[0m\n",
            "\u001b[?25hDownloading nvidia_cudnn_cu12-9.1.0.70-py3-none-manylinux2014_x86_64.whl (664.8 MB)\n",
            "\u001b[2K   \u001b[90m━━━━━━━━━━━━━━━━━━━━━━━━━━━━━━━━━━━━━━━━\u001b[0m \u001b[32m664.8/664.8 MB\u001b[0m \u001b[31m3.0 MB/s\u001b[0m eta \u001b[36m0:00:00\u001b[0m\n",
            "\u001b[?25hDownloading nvidia_cufft_cu12-11.2.1.3-py3-none-manylinux2014_x86_64.whl (211.5 MB)\n",
            "\u001b[2K   \u001b[90m━━━━━━━━━━━━━━━━━━━━━━━━━━━━━━━━━━━━━━━━\u001b[0m \u001b[32m211.5/211.5 MB\u001b[0m \u001b[31m5.3 MB/s\u001b[0m eta \u001b[36m0:00:00\u001b[0m\n",
            "\u001b[?25hDownloading nvidia_curand_cu12-10.3.5.147-py3-none-manylinux2014_x86_64.whl (56.3 MB)\n",
            "\u001b[2K   \u001b[90m━━━━━━━━━━━━━━━━━━━━━━━━━━━━━━━━━━━━━━━━\u001b[0m \u001b[32m56.3/56.3 MB\u001b[0m \u001b[31m13.1 MB/s\u001b[0m eta \u001b[36m0:00:00\u001b[0m\n",
            "\u001b[?25hDownloading nvidia_cusolver_cu12-11.6.1.9-py3-none-manylinux2014_x86_64.whl (127.9 MB)\n",
            "\u001b[2K   \u001b[90m━━━━━━━━━━━━━━━━━━━━━━━━━━━━━━━━━━━━━━━━\u001b[0m \u001b[32m127.9/127.9 MB\u001b[0m \u001b[31m7.5 MB/s\u001b[0m eta \u001b[36m0:00:00\u001b[0m\n",
            "\u001b[?25hDownloading nvidia_cusparse_cu12-12.3.1.170-py3-none-manylinux2014_x86_64.whl (207.5 MB)\n",
            "\u001b[2K   \u001b[90m━━━━━━━━━━━━━━━━━━━━━━━━━━━━━━━━━━━━━━━━\u001b[0m \u001b[32m207.5/207.5 MB\u001b[0m \u001b[31m6.3 MB/s\u001b[0m eta \u001b[36m0:00:00\u001b[0m\n",
            "\u001b[?25hDownloading nvidia_nvjitlink_cu12-12.4.127-py3-none-manylinux2014_x86_64.whl (21.1 MB)\n",
            "\u001b[2K   \u001b[90m━━━━━━━━━━━━━━━━━━━━━━━━━━━━━━━━━━━━━━━━\u001b[0m \u001b[32m21.1/21.1 MB\u001b[0m \u001b[31m103.6 MB/s\u001b[0m eta \u001b[36m0:00:00\u001b[0m\n",
            "\u001b[?25hDownloading ultralytics_thop-2.0.14-py3-none-any.whl (26 kB)\n",
            "Installing collected packages: nvidia-nvjitlink-cu12, nvidia-curand-cu12, nvidia-cufft-cu12, nvidia-cuda-runtime-cu12, nvidia-cuda-nvrtc-cu12, nvidia-cuda-cupti-cu12, nvidia-cublas-cu12, nvidia-cusparse-cu12, nvidia-cudnn-cu12, nvidia-cusolver-cu12, ultralytics-thop, ultralytics\n",
            "  Attempting uninstall: nvidia-nvjitlink-cu12\n",
            "    Found existing installation: nvidia-nvjitlink-cu12 12.5.82\n",
            "    Uninstalling nvidia-nvjitlink-cu12-12.5.82:\n",
            "      Successfully uninstalled nvidia-nvjitlink-cu12-12.5.82\n",
            "  Attempting uninstall: nvidia-curand-cu12\n",
            "    Found existing installation: nvidia-curand-cu12 10.3.6.82\n",
            "    Uninstalling nvidia-curand-cu12-10.3.6.82:\n",
            "      Successfully uninstalled nvidia-curand-cu12-10.3.6.82\n",
            "  Attempting uninstall: nvidia-cufft-cu12\n",
            "    Found existing installation: nvidia-cufft-cu12 11.2.3.61\n",
            "    Uninstalling nvidia-cufft-cu12-11.2.3.61:\n",
            "      Successfully uninstalled nvidia-cufft-cu12-11.2.3.61\n",
            "  Attempting uninstall: nvidia-cuda-runtime-cu12\n",
            "    Found existing installation: nvidia-cuda-runtime-cu12 12.5.82\n",
            "    Uninstalling nvidia-cuda-runtime-cu12-12.5.82:\n",
            "      Successfully uninstalled nvidia-cuda-runtime-cu12-12.5.82\n",
            "  Attempting uninstall: nvidia-cuda-nvrtc-cu12\n",
            "    Found existing installation: nvidia-cuda-nvrtc-cu12 12.5.82\n",
            "    Uninstalling nvidia-cuda-nvrtc-cu12-12.5.82:\n",
            "      Successfully uninstalled nvidia-cuda-nvrtc-cu12-12.5.82\n",
            "  Attempting uninstall: nvidia-cuda-cupti-cu12\n",
            "    Found existing installation: nvidia-cuda-cupti-cu12 12.5.82\n",
            "    Uninstalling nvidia-cuda-cupti-cu12-12.5.82:\n",
            "      Successfully uninstalled nvidia-cuda-cupti-cu12-12.5.82\n",
            "  Attempting uninstall: nvidia-cublas-cu12\n",
            "    Found existing installation: nvidia-cublas-cu12 12.5.3.2\n",
            "    Uninstalling nvidia-cublas-cu12-12.5.3.2:\n",
            "      Successfully uninstalled nvidia-cublas-cu12-12.5.3.2\n",
            "  Attempting uninstall: nvidia-cusparse-cu12\n",
            "    Found existing installation: nvidia-cusparse-cu12 12.5.1.3\n",
            "    Uninstalling nvidia-cusparse-cu12-12.5.1.3:\n",
            "      Successfully uninstalled nvidia-cusparse-cu12-12.5.1.3\n",
            "  Attempting uninstall: nvidia-cudnn-cu12\n",
            "    Found existing installation: nvidia-cudnn-cu12 9.3.0.75\n",
            "    Uninstalling nvidia-cudnn-cu12-9.3.0.75:\n",
            "      Successfully uninstalled nvidia-cudnn-cu12-9.3.0.75\n",
            "  Attempting uninstall: nvidia-cusolver-cu12\n",
            "    Found existing installation: nvidia-cusolver-cu12 11.6.3.83\n",
            "    Uninstalling nvidia-cusolver-cu12-11.6.3.83:\n",
            "      Successfully uninstalled nvidia-cusolver-cu12-11.6.3.83\n",
            "Successfully installed nvidia-cublas-cu12-12.4.5.8 nvidia-cuda-cupti-cu12-12.4.127 nvidia-cuda-nvrtc-cu12-12.4.127 nvidia-cuda-runtime-cu12-12.4.127 nvidia-cudnn-cu12-9.1.0.70 nvidia-cufft-cu12-11.2.1.3 nvidia-curand-cu12-10.3.5.147 nvidia-cusolver-cu12-11.6.1.9 nvidia-cusparse-cu12-12.3.1.170 nvidia-nvjitlink-cu12-12.4.127 ultralytics-8.3.162 ultralytics-thop-2.0.14\n"
          ]
        }
      ],
      "source": [
        "!pip install ultralytics"
      ]
    },
    {
      "cell_type": "code",
      "source": [
        "from ultralytics import YOLO\n",
        "import cv2\n",
        "import os\n",
        "\n",
        "source = \"/content/drive/MyDrive/dataset/video/background video _ people _ walking _.mp4\"\n",
        "base_output = \"/content/drive/MyDrive/dataset/video/\"\n",
        "\n",
        "for model_path in ['yolov8n.pt', 'yolo11n.pt', 'yolo12n.pt']:\n",
        "    model = YOLO(model_path)\n",
        "    cap = cv2.VideoCapture(source)\n",
        "\n",
        "    width  = int(cap.get(cv2.CAP_PROP_FRAME_WIDTH))\n",
        "    height = int(cap.get(cv2.CAP_PROP_FRAME_HEIGHT))\n",
        "    fps = cap.get(cv2.CAP_PROP_FPS)\n",
        "\n",
        "    output_path = os.path.join(base_output, f\"result_{model_path.replace('.pt','')}.mp4\")\n",
        "    fourcc = cv2.VideoWriter_fourcc(*'mp4v')\n",
        "    out = cv2.VideoWriter(output_path, fourcc, fps, (width, height))\n",
        "\n",
        "    count = 0\n",
        "    while cap.isOpened():\n",
        "        ret, frame = cap.read()\n",
        "        if not ret:\n",
        "            break\n",
        "        results = model(frame, verbose=False)\n",
        "        for r in results:\n",
        "            count += len(r.boxes)\n",
        "            annotated_frame = r.plot()\n",
        "            out.write(annotated_frame)\n",
        "\n",
        "    cap.release()\n",
        "    out.release()\n",
        "    print(f\"Model {model_path}: Total objects detected = {count}\")\n",
        "    print(f\"Saved annotated video to: {output_path}\")\n"
      ],
      "metadata": {
        "colab": {
          "base_uri": "https://localhost:8080/"
        },
        "id": "BquSHS00c1CY",
        "outputId": "df90a589-dc38-4754-8221-e4e3bd82d17f"
      },
      "execution_count": null,
      "outputs": [
        {
          "output_type": "stream",
          "name": "stdout",
          "text": [
            "Creating new Ultralytics Settings v0.0.6 file ✅ \n",
            "View Ultralytics Settings with 'yolo settings' or at '/root/.config/Ultralytics/settings.json'\n",
            "Update Settings with 'yolo settings key=value', i.e. 'yolo settings runs_dir=path/to/dir'. For help see https://docs.ultralytics.com/quickstart/#ultralytics-settings.\n",
            "Downloading https://github.com/ultralytics/assets/releases/download/v8.3.0/yolov8n.pt to 'yolov8n.pt'...\n"
          ]
        },
        {
          "output_type": "stream",
          "name": "stderr",
          "text": [
            "100%|██████████| 6.25M/6.25M [00:00<00:00, 174MB/s]\n"
          ]
        },
        {
          "output_type": "stream",
          "name": "stdout",
          "text": [
            "Model yolov8n.pt: Total objects detected = 0\n",
            "Saved annotated video to: /content/drive/MyDrive/dataset/video/result_yolov8n.mp4\n",
            "Downloading https://github.com/ultralytics/assets/releases/download/v8.3.0/yolo11n.pt to 'yolo11n.pt'...\n"
          ]
        },
        {
          "output_type": "stream",
          "name": "stderr",
          "text": [
            "100%|██████████| 5.35M/5.35M [00:00<00:00, 254MB/s]"
          ]
        },
        {
          "output_type": "stream",
          "name": "stdout",
          "text": [
            "Model yolo11n.pt: Total objects detected = 0\n",
            "Saved annotated video to: /content/drive/MyDrive/dataset/video/result_yolo11n.mp4\n",
            "Downloading https://github.com/ultralytics/assets/releases/download/v8.3.0/yolo12n.pt to 'yolo12n.pt'...\n"
          ]
        },
        {
          "output_type": "stream",
          "name": "stderr",
          "text": [
            "\n",
            "100%|██████████| 5.34M/5.34M [00:00<00:00, 346MB/s]"
          ]
        },
        {
          "output_type": "stream",
          "name": "stdout",
          "text": [
            "Model yolo12n.pt: Total objects detected = 0\n",
            "Saved annotated video to: /content/drive/MyDrive/dataset/video/result_yolo12n.mp4\n"
          ]
        },
        {
          "output_type": "stream",
          "name": "stderr",
          "text": [
            "\n"
          ]
        }
      ]
    },
    {
      "cell_type": "code",
      "source": [
        "import matplotlib.pyplot as plt\n",
        "import os\n",
        "\n",
        "# Example inputs — replace with your actual data\n",
        "model_path = ['yolov8n.pt', 'yolo11n.pt', 'yolo12n.pt']\n",
        "count = [11230, 6450, 7900]  # must be a list of integers\n",
        "base_output = '/content/drive/MyDrive/YOLO/output'\n",
        "\n",
        "# Extract model names without \".pt\"\n",
        "model_names = [os.path.splitext(os.path.basename(p))[0] for p in model_path]\n",
        "colors = ['skyblue', 'salmon', 'lightgreen']\n",
        "\n",
        "plt.figure(figsize=(10, 6))\n",
        "plt.bar(model_names, count, color=colors)\n",
        "plt.title('Total Objects Detected by Different YOLO Models')\n",
        "plt.xlabel('Model')\n",
        "plt.ylabel('Total Objects Detected')\n",
        "plt.grid(axis='y', linestyle='--', alpha=0.7)\n",
        "\n",
        "# ✅ Use different variable name than \"count\"\n",
        "for i, val in enumerate(count):\n",
        "    plt.text(i, val + 100, str(val), ha='center', fontsize=12, fontweight='bold')\n",
        "\n",
        "plt.tight_layout()\n",
        "os.makedirs(base_output, exist_ok=True)\n",
        "plt.savefig(os.path.join(base_output, \"detection_comparison.png\"))\n",
        "plt.show()\n"
      ],
      "metadata": {
        "colab": {
          "base_uri": "https://localhost:8080/",
          "height": 416
        },
        "id": "0X3IlyM5c3Jo",
        "outputId": "ecfbeb12-da3f-4f48-8b03-4e90531c5acc"
      },
      "execution_count": null,
      "outputs": [
        {
          "output_type": "display_data",
          "data": {
            "text/plain": [
              "<Figure size 1000x600 with 1 Axes>"
            ],
            "image/png": "[encoded data removed]"
          },
          "metadata": {}
        }
      ]
    },
    {
      "cell_type": "code",
      "source": [
        "from ultralytics import YOLO\n",
        "import cv2\n",
        "import os\n",
        "\n",
        "source = \"/content/drive/MyDrive/dataset/video/background video _ people _ walking _.mp4\"\n",
        "base_output = \"/content/drive/MyDrive/dataset/video/\"\n",
        "\n",
        "for model_path in ['yolov8m.pt', 'yolo11m.pt', 'yolo12m.pt']:\n",
        "    model = YOLO(model_path)\n",
        "    cap = cv2.VideoCapture(source)\n",
        "\n",
        "    width  = int(cap.get(cv2.CAP_PROP_FRAME_WIDTH))\n",
        "    height = int(cap.get(cv2.CAP_PROP_FRAME_HEIGHT))\n",
        "    fps = cap.get(cv2.CAP_PROP_FPS)\n",
        "\n",
        "    output_path = os.path.join(base_output, f\"result_{model_path.replace('.pt','')}.mp4\")\n",
        "    fourcc = cv2.VideoWriter_fourcc(*'mp4v')\n",
        "    out = cv2.VideoWriter(output_path, fourcc, fps, (width, height))\n",
        "\n",
        "    count = 0\n",
        "    while cap.isOpened():\n",
        "        ret, frame = cap.read()\n",
        "        if not ret:\n",
        "            break\n",
        "        results = model(frame, verbose=False)\n",
        "        for r in results:\n",
        "            count += len(r.boxes)\n",
        "            annotated_frame = r.plot()\n",
        "            out.write(annotated_frame)\n",
        "\n",
        "    cap.release()\n",
        "    out.release()\n",
        "    print(f\"Model {model_path}: Total objects detected = {count}\")\n",
        "    print(f\"Saved annotated video to: {output_path}\")\n"
      ],
      "metadata": {
        "colab": {
          "base_uri": "https://localhost:8080/"
        },
        "id": "S40K5N1_c65B",
        "outputId": "beae10ee-e4de-4206-eb97-6a95c585a461"
      },
      "execution_count": null,
      "outputs": [
        {
          "output_type": "stream",
          "name": "stdout",
          "text": [
            "Downloading https://github.com/ultralytics/assets/releases/download/v8.3.0/yolov8m.pt to 'yolov8m.pt'...\n"
          ]
        },
        {
          "output_type": "stream",
          "name": "stderr",
          "text": [
            "100%|██████████| 49.7M/49.7M [00:01<00:00, 45.7MB/s]\n"
          ]
        },
        {
          "output_type": "stream",
          "name": "stdout",
          "text": [
            "Model yolov8m.pt: Total objects detected = 0\n",
            "Saved annotated video to: /content/drive/MyDrive/dataset/video/result_yolov8m.mp4\n",
            "Downloading https://github.com/ultralytics/assets/releases/download/v8.3.0/yolo11m.pt to 'yolo11m.pt'...\n"
          ]
        },
        {
          "output_type": "stream",
          "name": "stderr",
          "text": [
            "100%|██████████| 38.8M/38.8M [00:00<00:00, 154MB/s]\n"
          ]
        },
        {
          "output_type": "stream",
          "name": "stdout",
          "text": [
            "Model yolo11m.pt: Total objects detected = 0\n",
            "Saved annotated video to: /content/drive/MyDrive/dataset/video/result_yolo11m.mp4\n",
            "Downloading https://github.com/ultralytics/assets/releases/download/v8.3.0/yolo12m.pt to 'yolo12m.pt'...\n"
          ]
        },
        {
          "output_type": "stream",
          "name": "stderr",
          "text": [
            "100%|██████████| 39.0M/39.0M [00:00<00:00, 45.3MB/s]\n"
          ]
        },
        {
          "output_type": "stream",
          "name": "stdout",
          "text": [
            "Model yolo12m.pt: Total objects detected = 0\n",
            "Saved annotated video to: /content/drive/MyDrive/dataset/video/result_yolo12m.mp4\n"
          ]
        }
      ]
    },
    {
      "cell_type": "code",
      "source": [
        "import matplotlib.pyplot as plt\n",
        "import os\n",
        "\n",
        "\n",
        "model_path = ['yolov8n.pt', 'yolo11n.pt', 'yolo12n.pt']\n",
        "count = [10857, 8333, 5082]\n",
        "base_output = '/content/drive/MyDrive/YOLO/output'\n",
        "\n",
        "\n",
        "model_names = [os.path.splitext(os.path.basename(p))[0] for p in model_path]\n",
        "colors = ['skyblue', 'salmon', 'lightgreen']\n",
        "\n",
        "plt.figure(figsize=(10, 6))\n",
        "plt.bar(model_names, count, color=colors)\n",
        "plt.title('Total Objects Detected by Different YOLO Models')\n",
        "plt.xlabel('Model')\n",
        "plt.ylabel('Total Objects Detected')\n",
        "plt.grid(axis='y', linestyle='--', alpha=0.7)\n",
        "\n",
        "for i, val in enumerate(count):\n",
        "    plt.text(i, val + 100, str(val), ha='center', fontsize=12, fontweight='bold')\n",
        "\n",
        "plt.tight_layout()\n",
        "os.makedirs(base_output, exist_ok=True)\n",
        "plt.savefig(os.path.join(base_output, \"detection_comparison.png\"))\n",
        "plt.show()\n"
      ],
      "metadata": {
        "colab": {
          "base_uri": "https://localhost:8080/",
          "height": 416
        },
        "id": "QAtwR2XSc81A",
        "outputId": "d374ac7a-26a3-4858-c990-5fb7c3f27544"
      },
      "execution_count": null,
      "outputs": [
        {
          "output_type": "display_data",
          "data": {
            "text/plain": [
              "<Figure size 1000x600 with 1 Axes>"
            ],
            "image/png": "[encoded data removed]"
          },
          "metadata": {}
        }
      ]
    },
    {
      "cell_type": "code",
      "source": [
        "# ✅ Download WIDER FACE training, validation, and split annotations\n",
        "!wget -q https://huggingface.co/datasets/CUHK-CSE/wider_face/resolve/main/data/WIDER_train.zip -O WIDER_train.zip\n",
        "!wget -q https://huggingface.co/datasets/CUHK-CSE/wider_face/resolve/main/data/WIDER_val.zip -O WIDER_val.zip\n",
        "!wget -q https://huggingface.co/datasets/CUHK-CSE/wider_face/resolve/main/data/wider_face_split.zip -O split.zip\n",
        "\n",
        "# ✅ Create directory\n",
        "!mkdir -p /content/datasets/widerface\n",
        "\n",
        "# ✅ Unzip all contents to the appropriate folder\n",
        "!unzip -q WIDER_train.zip -d /content/datasets/widerface/\n",
        "!unzip -q WIDER_val.zip -d /content/datasets/widerface/\n",
        "!unzip -q split.zip -d /content/datasets/widerface/\n",
        "\n",
        "# ✅ Check what's inside (optional)\n",
        "!ls /content/datasets/widerface"
      ],
      "metadata": {
        "colab": {
          "base_uri": "https://localhost:8080/"
        },
        "id": "PUOFXrJGojRW",
        "outputId": "7bfcd850-91c4-4429-ee09-3c7740e5c716"
      },
      "execution_count": null,
      "outputs": [
        {
          "output_type": "stream",
          "name": "stdout",
          "text": [
            "wider_face_split  WIDER_train  WIDER_val\n"
          ]
        }
      ]
    },
    {
      "cell_type": "code",
      "source": [
        "import os\n",
        "import shutil\n",
        "\n",
        "# 1. Create YOLO format directory structure\n",
        "base_path = \"/content/widerface_yolo_format\"\n",
        "for split in [\"train\", \"val\"]:\n",
        "    os.makedirs(os.path.join(base_path, \"images\", split), exist_ok=True)\n",
        "    os.makedirs(os.path.join(base_path, \"labels\", split), exist_ok=True)\n",
        "\n",
        "# 2. Path to original dataset\n",
        "wider_img_base = \"/content/datasets/widerface/WIDER_{}\"\n",
        "label_txt_path = \"/content/datasets/widerface/wider_face_split/wider_face_{}_bbx_gt.txt\"\n",
        "\n",
        "# 3. Convert function\n",
        "def convert_widerface_to_yolo(split):\n",
        "    img_src_dir = wider_img_base.format(split) + \"/images\"\n",
        "    out_img_dir = os.path.join(base_path, \"images\", split)\n",
        "    out_lbl_dir = os.path.join(base_path, \"labels\", split)\n",
        "    ann_file = label_txt_path.format(split)\n",
        "\n",
        "    with open(ann_file, \"r\") as f:\n",
        "        lines = f.read().split(\"\\n\")\n",
        "\n",
        "    i = 0\n",
        "    while i < len(lines):\n",
        "        if lines[i].endswith(\".jpg\"):\n",
        "            img_rel_path = lines[i]\n",
        "            num_faces = int(lines[i+1])\n",
        "            img_path = os.path.join(img_src_dir, img_rel_path)\n",
        "            label_lines = lines[i+2:i+2+num_faces]\n",
        "\n",
        "            if not os.path.exists(img_path):\n",
        "                i = i + 2 + num_faces\n",
        "                continue\n",
        "\n",
        "            # Copy image\n",
        "            dest_img_path = os.path.join(out_img_dir, os.path.basename(img_rel_path))\n",
        "            os.makedirs(os.path.dirname(dest_img_path), exist_ok=True)\n",
        "            shutil.copy(img_path, dest_img_path)\n",
        "\n",
        "            # Read original image size\n",
        "            from PIL import Image\n",
        "            img = Image.open(img_path)\n",
        "            w, h = img.size\n",
        "\n",
        "            # Create YOLO label\n",
        "            with open(os.path.join(out_lbl_dir, os.path.splitext(os.path.basename(img_rel_path))[0] + \".txt\"), \"w\") as f_out:\n",
        "                for line in label_lines:\n",
        "                    vals = list(map(int, line.strip().split()))\n",
        "                    if len(vals) < 4: continue\n",
        "                    x, y, bw, bh = vals[:4]\n",
        "\n",
        "                    xc = (x + bw / 2) / w\n",
        "                    yc = (y + bh / 2) / h\n",
        "                    nw = bw / w\n",
        "                    nh = bh / h\n",
        "\n",
        "                    f_out.write(f\"0 {xc:.6f} {yc:.6f} {nw:.6f} {nh:.6f}\\n\")\n",
        "\n",
        "            i = i + 2 + num_faces\n",
        "        else:\n",
        "            i += 1\n",
        "\n",
        "# 4. Run for train and val\n",
        "convert_widerface_to_yolo(\"train\")\n",
        "convert_widerface_to_yolo(\"val\")\n"
      ],
      "metadata": {
        "id": "kG941qwg3u_4"
      },
      "execution_count": null,
      "outputs": []
    },
    {
      "cell_type": "code",
      "source": [
        "yaml_content = \"\"\"\n",
        "path: /content/widerface_yolo_format\n",
        "train: images/train\n",
        "val: images/val\n",
        "nc: 1\n",
        "names: ['face']\n",
        "\"\"\"\n",
        "\n",
        "with open('/content/widerface_yolo_format/dataset.yaml', 'w') as f:\n",
        "    f.write(yaml_content)\n"
      ],
      "metadata": {
        "id": "Xd_RbQmK4Di4"
      },
      "execution_count": null,
      "outputs": []
    },
    {
      "cell_type": "code",
      "source": [
        "# === Task 3: Train YOLOv8 model on 700-image subset ===\n",
        "\n",
        "from ultralytics import YOLO\n",
        "\n",
        "model = YOLO('yolov8n.pt')\n",
        "\n",
        "model.train(\n",
        "    data='/content/widerface_yolo_format/dataset.yaml',\n",
        "    epochs=10,\n",
        ")\n"
      ],
      "metadata": {
        "colab": {
          "base_uri": "https://localhost:8080/"
        },
        "id": "_qBSzQOogv7u",
        "outputId": "61fa6f00-8717-4721-88be-9b6cb42d4121"
      },
      "execution_count": null,
      "outputs": [
        {
          "output_type": "stream",
          "name": "stdout",
          "text": [
            "Ultralytics 8.3.162 🚀 Python-3.11.13 torch-2.6.0+cu124 CUDA:0 (Tesla T4, 15095MiB)\n",
            "\u001b[34m\u001b[1mengine/trainer: \u001b[0magnostic_nms=False, amp=True, augment=False, auto_augment=randaugment, batch=16, bgr=0.0, box=7.5, cache=False, cfg=None, classes=None, close_mosaic=10, cls=0.5, conf=None, copy_paste=0.0, copy_paste_mode=flip, cos_lr=False, cutmix=0.0, data=/content/widerface_yolo_format/dataset.yaml, degrees=0.0, deterministic=True, device=None, dfl=1.5, dnn=False, dropout=0.0, dynamic=False, embed=None, epochs=10, erasing=0.4, exist_ok=False, fliplr=0.5, flipud=0.0, format=torchscript, fraction=1.0, freeze=None, half=False, hsv_h=0.015, hsv_s=0.7, hsv_v=0.4, imgsz=640, int8=False, iou=0.7, keras=False, kobj=1.0, line_width=None, lr0=0.01, lrf=0.01, mask_ratio=4, max_det=300, mixup=0.0, mode=train, model=yolov8n.pt, momentum=0.937, mosaic=1.0, multi_scale=False, name=train, nbs=64, nms=False, opset=None, optimize=False, optimizer=auto, overlap_mask=True, patience=100, perspective=0.0, plots=True, pose=12.0, pretrained=True, profile=False, project=None, rect=False, resume=False, retina_masks=False, save=True, save_conf=False, save_crop=False, save_dir=runs/detect/train, save_frames=False, save_json=False, save_period=-1, save_txt=False, scale=0.5, seed=0, shear=0.0, show=False, show_boxes=True, show_conf=True, show_labels=True, simplify=True, single_cls=False, source=None, split=val, stream_buffer=False, task=detect, time=None, tracker=botsort.yaml, translate=0.1, val=True, verbose=True, vid_stride=1, visualize=False, warmup_bias_lr=0.1, warmup_epochs=3.0, warmup_momentum=0.8, weight_decay=0.0005, workers=8, workspace=None\n",
            "Downloading https://ultralytics.com/assets/Arial.ttf to '/root/.config/Ultralytics/Arial.ttf'...\n"
          ]
        },
        {
          "output_type": "stream",
          "name": "stderr",
          "text": [
            "100%|██████████| 755k/755k [00:00<00:00, 149MB/s]"
          ]
        },
        {
          "output_type": "stream",
          "name": "stdout",
          "text": [
            "Overriding model.yaml nc=80 with nc=1\n",
            "\n",
            "                   from  n    params  module                                       arguments                     \n",
            "  0                  -1  1       464  ultralytics.nn.modules.conv.Conv             [3, 16, 3, 2]                 \n",
            "  1                  -1  1      4672  ultralytics.nn.modules.conv.Conv             [16, 32, 3, 2]                \n",
            "  2                  -1  1      7360  ultralytics.nn.modules.block.C2f             [32, 32, 1, True]             \n",
            "  3                  -1  1     18560  ultralytics.nn.modules.conv.Conv             [32, 64, 3, 2]                \n",
            "  4                  -1  2     49664  ultralytics.nn.modules.block.C2f             [64, 64, 2, True]             \n",
            "  5                  -1  1     73984  ultralytics.nn.modules.conv.Conv             [64, 128, 3, 2]               \n",
            "  6                  -1  2    197632  ultralytics.nn.modules.block.C2f             [128, 128, 2, True]           \n",
            "  7                  -1  1    295424  ultralytics.nn.modules.conv.Conv             [128, 256, 3, 2]              \n",
            "  8                  -1  1    460288  ultralytics.nn.modules.block.C2f             [256, 256, 1, True]           \n",
            "  9                  -1  1    164608  ultralytics.nn.modules.block.SPPF            [256, 256, 5]                 \n",
            " 10                  -1  1         0  torch.nn.modules.upsampling.Upsample         [None, 2, 'nearest']          \n",
            " 11             [-1, 6]  1         0  ultralytics.nn.modules.conv.Concat           [1]                           \n",
            " 12                  -1  1    148224  ultralytics.nn.modules.block.C2f             [384, 128, 1]                 \n",
            " 13                  -1  1         0  torch.nn.modules.upsampling.Upsample         [None, 2, 'nearest']          \n",
            " 14             [-1, 4]  1         0  ultralytics.nn.modules.conv.Concat           [1]                           \n",
            " 15                  -1  1     37248  ultralytics.nn.modules.block.C2f             [192, 64, 1]                  \n",
            " 16                  -1  1     36992  ultralytics.nn.modules.conv.Conv             [64, 64, 3, 2]                \n",
            " 17            [-1, 12]  1         0  ultralytics.nn.modules.conv.Concat           [1]                           \n",
            " 18                  -1  1    123648  ultralytics.nn.modules.block.C2f             [192, 128, 1]                 \n",
            " 19                  -1  1    147712  ultralytics.nn.modules.conv.Conv             [128, 128, 3, 2]              \n",
            " 20             [-1, 9]  1         0  ultralytics.nn.modules.conv.Concat           [1]                           \n",
            " 21                  -1  1    493056  ultralytics.nn.modules.block.C2f             [384, 256, 1]                 \n",
            " 22        [15, 18, 21]  1    751507  ultralytics.nn.modules.head.Detect           [1, [64, 128, 256]]           \n"
          ]
        },
        {
          "output_type": "stream",
          "name": "stderr",
          "text": [
            "\n"
          ]
        },
        {
          "output_type": "stream",
          "name": "stdout",
          "text": [
            "Model summary: 129 layers, 3,011,043 parameters, 3,011,027 gradients, 8.2 GFLOPs\n",
            "\n",
            "Transferred 319/355 items from pretrained weights\n",
            "Freezing layer 'model.22.dfl.conv.weight'\n",
            "\u001b[34m\u001b[1mAMP: \u001b[0mrunning Automatic Mixed Precision (AMP) checks...\n",
            "\u001b[34m\u001b[1mAMP: \u001b[0mchecks passed ✅\n",
            "\u001b[34m\u001b[1mtrain: \u001b[0mFast image access ✅ (ping: 0.0±0.0 ms, read: 1765.2±919.5 MB/s, size: 101.9 KB)\n"
          ]
        },
        {
          "output_type": "stream",
          "name": "stderr",
          "text": [
            "\u001b[34m\u001b[1mtrain: \u001b[0mScanning /content/widerface_yolo_format/labels/train... 12880 images, 4 backgrounds, 1 corrupt: 100%|██████████| 12880/12880 [00:06<00:00, 2047.24it/s]"
          ]
        },
        {
          "output_type": "stream",
          "name": "stdout",
          "text": [
            "\u001b[34m\u001b[1mtrain: \u001b[0m/content/widerface_yolo_format/images/train/2_Demonstration_Protesters_2_231.jpg: 1 duplicate labels removed\n",
            "\u001b[34m\u001b[1mtrain: \u001b[0m/content/widerface_yolo_format/images/train/37_Soccer_Soccer_37_851.jpg: 1 duplicate labels removed\n",
            "\u001b[34m\u001b[1mtrain: \u001b[0m/content/widerface_yolo_format/images/train/54_Rescue_rescuepeople_54_29.jpg: ignoring corrupt image/label: non-normalized or out of bounds coordinates [     1.0254]\n",
            "\u001b[34m\u001b[1mtrain: \u001b[0m/content/widerface_yolo_format/images/train/7_Cheering_Cheering_7_17.jpg: 1 duplicate labels removed\n"
          ]
        },
        {
          "output_type": "stream",
          "name": "stderr",
          "text": [
            "\n"
          ]
        },
        {
          "output_type": "stream",
          "name": "stdout",
          "text": [
            "\u001b[34m\u001b[1mtrain: \u001b[0mNew cache created: /content/widerface_yolo_format/labels/train.cache\n",
            "\u001b[34m\u001b[1malbumentations: \u001b[0mBlur(p=0.01, blur_limit=(3, 7)), MedianBlur(p=0.01, blur_limit=(3, 7)), ToGray(p=0.01, method='weighted_average', num_output_channels=3), CLAHE(p=0.01, clip_limit=(1.0, 4.0), tile_grid_size=(8, 8))\n",
            "\u001b[34m\u001b[1mval: \u001b[0mFast image access ✅ (ping: 0.0±0.0 ms, read: 797.6±194.8 MB/s, size: 99.9 KB)\n"
          ]
        },
        {
          "output_type": "stream",
          "name": "stderr",
          "text": [
            "\u001b[34m\u001b[1mval: \u001b[0mScanning /content/widerface_yolo_format/labels/val... 3226 images, 0 backgrounds, 1 corrupt: 100%|██████████| 3226/3226 [00:04<00:00, 674.25it/s] "
          ]
        },
        {
          "output_type": "stream",
          "name": "stdout",
          "text": [
            "\u001b[34m\u001b[1mval: \u001b[0m/content/widerface_yolo_format/images/val/21_Festival_Festival_21_604.jpg: 1 duplicate labels removed\n",
            "\u001b[34m\u001b[1mval: \u001b[0m/content/widerface_yolo_format/images/val/39_Ice_Skating_iceskiing_39_583.jpg: ignoring corrupt image/label: non-normalized or out of bounds coordinates [      1.002]\n"
          ]
        },
        {
          "output_type": "stream",
          "name": "stderr",
          "text": [
            "\n"
          ]
        },
        {
          "output_type": "stream",
          "name": "stdout",
          "text": [
            "\u001b[34m\u001b[1mval: \u001b[0mNew cache created: /content/widerface_yolo_format/labels/val.cache\n",
            "Plotting labels to runs/detect/train/labels.jpg... \n",
            "\u001b[34m\u001b[1moptimizer:\u001b[0m 'optimizer=auto' found, ignoring 'lr0=0.01' and 'momentum=0.937' and determining best 'optimizer', 'lr0' and 'momentum' automatically... \n",
            "\u001b[34m\u001b[1moptimizer:\u001b[0m AdamW(lr=0.002, momentum=0.9) with parameter groups 57 weight(decay=0.0), 64 weight(decay=0.0005), 63 bias(decay=0.0)\n",
            "Image sizes 640 train, 640 val\n",
            "Using 2 dataloader workers\n",
            "Logging results to \u001b[1mruns/detect/train\u001b[0m\n",
            "Starting training for 10 epochs...\n",
            "Closing dataloader mosaic\n",
            "\u001b[34m\u001b[1malbumentations: \u001b[0mBlur(p=0.01, blur_limit=(3, 7)), MedianBlur(p=0.01, blur_limit=(3, 7)), ToGray(p=0.01, method='weighted_average', num_output_channels=3), CLAHE(p=0.01, clip_limit=(1.0, 4.0), tile_grid_size=(8, 8))\n",
            "\n",
            "      Epoch    GPU_mem   box_loss   cls_loss   dfl_loss  Instances       Size\n"
          ]
        },
        {
          "output_type": "stream",
          "name": "stderr",
          "text": [
            "       1/10      10.3G      1.868      1.552      1.167         87        640: 100%|██████████| 805/805 [04:19<00:00,  3.10it/s]\n",
            "                 Class     Images  Instances      Box(P          R      mAP50  mAP50-95): 100%|██████████| 101/101 [00:36<00:00,  2.78it/s]\n"
          ]
        },
        {
          "output_type": "stream",
          "name": "stdout",
          "text": [
            "                   all       3225      39675      0.725      0.437      0.488      0.234\n",
            "\n",
            "      Epoch    GPU_mem   box_loss   cls_loss   dfl_loss  Instances       Size\n"
          ]
        },
        {
          "output_type": "stream",
          "name": "stderr",
          "text": [
            "       2/10      9.39G      1.706       1.07       1.09        322        640: 100%|██████████| 805/805 [04:13<00:00,  3.17it/s]\n",
            "                 Class     Images  Instances      Box(P          R      mAP50  mAP50-95): 100%|██████████| 101/101 [00:34<00:00,  2.95it/s]\n"
          ]
        },
        {
          "output_type": "stream",
          "name": "stdout",
          "text": [
            "                   all       3225      39675      0.735      0.431      0.498      0.251\n",
            "\n",
            "      Epoch    GPU_mem   box_loss   cls_loss   dfl_loss  Instances       Size\n"
          ]
        },
        {
          "output_type": "stream",
          "name": "stderr",
          "text": [
            "       3/10      13.3G      1.664          1      1.075        286        640: 100%|██████████| 805/805 [04:11<00:00,  3.21it/s]\n",
            "                 Class     Images  Instances      Box(P          R      mAP50  mAP50-95): 100%|██████████| 101/101 [00:34<00:00,  2.96it/s]\n"
          ]
        },
        {
          "output_type": "stream",
          "name": "stdout",
          "text": [
            "                   all       3225      39675      0.764      0.429      0.498      0.253\n",
            "\n",
            "      Epoch    GPU_mem   box_loss   cls_loss   dfl_loss  Instances       Size\n"
          ]
        },
        {
          "output_type": "stream",
          "name": "stderr",
          "text": [
            "       4/10      13.8G      1.619     0.9509      1.064        478        640: 100%|██████████| 805/805 [04:26<00:00,  3.02it/s]\n",
            "                 Class     Images  Instances      Box(P          R      mAP50  mAP50-95): 100%|██████████| 101/101 [00:36<00:00,  2.80it/s]\n"
          ]
        },
        {
          "output_type": "stream",
          "name": "stdout",
          "text": [
            "                   all       3225      39675      0.768      0.469      0.533      0.275\n",
            "\n",
            "      Epoch    GPU_mem   box_loss   cls_loss   dfl_loss  Instances       Size\n"
          ]
        },
        {
          "output_type": "stream",
          "name": "stderr",
          "text": [
            "       5/10      10.3G      1.581     0.8971       1.05        190        640: 100%|██████████| 805/805 [04:10<00:00,  3.21it/s]\n",
            "                 Class     Images  Instances      Box(P          R      mAP50  mAP50-95): 100%|██████████| 101/101 [00:34<00:00,  2.91it/s]\n"
          ]
        },
        {
          "output_type": "stream",
          "name": "stdout",
          "text": [
            "                   all       3225      39675      0.776      0.475      0.545      0.288\n",
            "\n",
            "      Epoch    GPU_mem   box_loss   cls_loss   dfl_loss  Instances       Size\n"
          ]
        },
        {
          "output_type": "stream",
          "name": "stderr",
          "text": [
            "       6/10      8.91G      1.546     0.8551      1.036         48        640: 100%|██████████| 805/805 [04:12<00:00,  3.19it/s]\n",
            "                 Class     Images  Instances      Box(P          R      mAP50  mAP50-95): 100%|██████████| 101/101 [00:33<00:00,  3.00it/s]\n"
          ]
        },
        {
          "output_type": "stream",
          "name": "stdout",
          "text": [
            "                   all       3225      39675       0.79      0.501       0.57      0.297\n",
            "\n",
            "      Epoch    GPU_mem   box_loss   cls_loss   dfl_loss  Instances       Size\n"
          ]
        },
        {
          "output_type": "stream",
          "name": "stderr",
          "text": [
            "       7/10      9.64G      1.513      0.819      1.027         77        640: 100%|██████████| 805/805 [04:12<00:00,  3.18it/s]\n",
            "                 Class     Images  Instances      Box(P          R      mAP50  mAP50-95): 100%|██████████| 101/101 [00:34<00:00,  2.96it/s]\n"
          ]
        },
        {
          "output_type": "stream",
          "name": "stdout",
          "text": [
            "                   all       3225      39675      0.803       0.51      0.585      0.307\n",
            "\n",
            "      Epoch    GPU_mem   box_loss   cls_loss   dfl_loss  Instances       Size\n"
          ]
        },
        {
          "output_type": "stream",
          "name": "stderr",
          "text": [
            "       8/10       9.3G      1.487      0.788      1.019        114        640: 100%|██████████| 805/805 [04:12<00:00,  3.19it/s]\n",
            "                 Class     Images  Instances      Box(P          R      mAP50  mAP50-95): 100%|██████████| 101/101 [00:34<00:00,  2.91it/s]\n"
          ]
        },
        {
          "output_type": "stream",
          "name": "stdout",
          "text": [
            "                   all       3225      39675      0.798      0.514       0.59      0.313\n",
            "\n",
            "      Epoch    GPU_mem   box_loss   cls_loss   dfl_loss  Instances       Size\n"
          ]
        },
        {
          "output_type": "stream",
          "name": "stderr",
          "text": [
            "       9/10       9.1G      1.465     0.7634      1.009        203        640: 100%|██████████| 805/805 [04:13<00:00,  3.17it/s]\n",
            "                 Class     Images  Instances      Box(P          R      mAP50  mAP50-95): 100%|██████████| 101/101 [00:34<00:00,  2.96it/s]\n"
          ]
        },
        {
          "output_type": "stream",
          "name": "stdout",
          "text": [
            "                   all       3225      39675      0.806       0.52      0.593      0.318\n",
            "\n",
            "      Epoch    GPU_mem   box_loss   cls_loss   dfl_loss  Instances       Size\n"
          ]
        },
        {
          "output_type": "stream",
          "name": "stderr",
          "text": [
            "      10/10      9.82G      1.439     0.7327          1        247        640: 100%|██████████| 805/805 [04:18<00:00,  3.12it/s]\n",
            "                 Class     Images  Instances      Box(P          R      mAP50  mAP50-95): 100%|██████████| 101/101 [00:33<00:00,  3.03it/s]\n"
          ]
        },
        {
          "output_type": "stream",
          "name": "stdout",
          "text": [
            "                   all       3225      39675      0.812      0.526      0.603      0.324\n",
            "\n",
            "10 epochs completed in 0.811 hours.\n",
            "Optimizer stripped from runs/detect/train/weights/last.pt, 6.2MB\n",
            "Optimizer stripped from runs/detect/train/weights/best.pt, 6.2MB\n",
            "\n",
            "Validating runs/detect/train/weights/best.pt...\n",
            "Ultralytics 8.3.162 🚀 Python-3.11.13 torch-2.6.0+cu124 CUDA:0 (Tesla T4, 15095MiB)\n",
            "Model summary (fused): 72 layers, 3,005,843 parameters, 0 gradients, 8.1 GFLOPs\n"
          ]
        },
        {
          "output_type": "stream",
          "name": "stderr",
          "text": [
            "                 Class     Images  Instances      Box(P          R      mAP50  mAP50-95): 100%|██████████| 101/101 [00:35<00:00,  2.82it/s]\n"
          ]
        },
        {
          "output_type": "stream",
          "name": "stdout",
          "text": [
            "                   all       3225      39675      0.812      0.526      0.603      0.323\n",
            "Speed: 0.2ms preprocess, 1.9ms inference, 0.0ms loss, 2.4ms postprocess per image\n",
            "Results saved to \u001b[1mruns/detect/train\u001b[0m\n"
          ]
        },
        {
          "output_type": "execute_result",
          "data": {
            "text/plain": [
              "ultralytics.utils.metrics.DetMetrics object with attributes:\n",
              "\n",
              "ap_class_index: array([0])\n",
              "box: ultralytics.utils.metrics.Metric object\n",
              "confusion_matrix: <ultralytics.utils.metrics.ConfusionMatrix object at 0x7fa2145bf610>\n",
              "curves: ['Precision-Recall(B)', 'F1-Confidence(B)', 'Precision-Confidence(B)', 'Recall-Confidence(B)']\n",
              "curves_results: [[array([          0,    0.001001,    0.002002,    0.003003,    0.004004,    0.005005,    0.006006,    0.007007,    0.008008,    0.009009,     0.01001,    0.011011,    0.012012,    0.013013,    0.014014,    0.015015,    0.016016,    0.017017,    0.018018,    0.019019,     0.02002,    0.021021,    0.022022,    0.023023,\n",
              "          0.024024,    0.025025,    0.026026,    0.027027,    0.028028,    0.029029,     0.03003,    0.031031,    0.032032,    0.033033,    0.034034,    0.035035,    0.036036,    0.037037,    0.038038,    0.039039,     0.04004,    0.041041,    0.042042,    0.043043,    0.044044,    0.045045,    0.046046,    0.047047,\n",
              "          0.048048,    0.049049,     0.05005,    0.051051,    0.052052,    0.053053,    0.054054,    0.055055,    0.056056,    0.057057,    0.058058,    0.059059,     0.06006,    0.061061,    0.062062,    0.063063,    0.064064,    0.065065,    0.066066,    0.067067,    0.068068,    0.069069,     0.07007,    0.071071,\n",
              "          0.072072,    0.073073,    0.074074,    0.075075,    0.076076,    0.077077,    0.078078,    0.079079,     0.08008,    0.081081,    0.082082,    0.083083,    0.084084,    0.085085,    0.086086,    0.087087,    0.088088,    0.089089,     0.09009,    0.091091,    0.092092,    0.093093,    0.094094,    0.095095,\n",
              "          0.096096,    0.097097,    0.098098,    0.099099,      0.1001,      0.1011,      0.1021,      0.1031,      0.1041,     0.10511,     0.10611,     0.10711,     0.10811,     0.10911,     0.11011,     0.11111,     0.11211,     0.11311,     0.11411,     0.11512,     0.11612,     0.11712,     0.11812,     0.11912,\n",
              "           0.12012,     0.12112,     0.12212,     0.12312,     0.12412,     0.12513,     0.12613,     0.12713,     0.12813,     0.12913,     0.13013,     0.13113,     0.13213,     0.13313,     0.13413,     0.13514,     0.13614,     0.13714,     0.13814,     0.13914,     0.14014,     0.14114,     0.14214,     0.14314,\n",
              "           0.14414,     0.14515,     0.14615,     0.14715,     0.14815,     0.14915,     0.15015,     0.15115,     0.15215,     0.15315,     0.15415,     0.15516,     0.15616,     0.15716,     0.15816,     0.15916,     0.16016,     0.16116,     0.16216,     0.16316,     0.16416,     0.16517,     0.16617,     0.16717,\n",
              "           0.16817,     0.16917,     0.17017,     0.17117,     0.17217,     0.17317,     0.17417,     0.17518,     0.17618,     0.17718,     0.17818,     0.17918,     0.18018,     0.18118,     0.18218,     0.18318,     0.18418,     0.18519,     0.18619,     0.18719,     0.18819,     0.18919,     0.19019,     0.19119,\n",
              "           0.19219,     0.19319,     0.19419,      0.1952,      0.1962,      0.1972,      0.1982,      0.1992,      0.2002,      0.2012,      0.2022,      0.2032,      0.2042,     0.20521,     0.20621,     0.20721,     0.20821,     0.20921,     0.21021,     0.21121,     0.21221,     0.21321,     0.21421,     0.21522,\n",
              "           0.21622,     0.21722,     0.21822,     0.21922,     0.22022,     0.22122,     0.22222,     0.22322,     0.22422,     0.22523,     0.22623,     0.22723,     0.22823,     0.22923,     0.23023,     0.23123,     0.23223,     0.23323,     0.23423,     0.23524,     0.23624,     0.23724,     0.23824,     0.23924,\n",
              "           0.24024,     0.24124,     0.24224,     0.24324,     0.24424,     0.24525,     0.24625,     0.24725,     0.24825,     0.24925,     0.25025,     0.25125,     0.25225,     0.25325,     0.25425,     0.25526,     0.25626,     0.25726,     0.25826,     0.25926,     0.26026,     0.26126,     0.26226,     0.26326,\n",
              "           0.26426,     0.26527,     0.26627,     0.26727,     0.26827,     0.26927,     0.27027,     0.27127,     0.27227,     0.27327,     0.27427,     0.27528,     0.27628,     0.27728,     0.27828,     0.27928,     0.28028,     0.28128,     0.28228,     0.28328,     0.28428,     0.28529,     0.28629,     0.28729,\n",
              "           0.28829,     0.28929,     0.29029,     0.29129,     0.29229,     0.29329,     0.29429,      0.2953,      0.2963,      0.2973,      0.2983,      0.2993,      0.3003,      0.3013,      0.3023,      0.3033,      0.3043,     0.30531,     0.30631,     0.30731,     0.30831,     0.30931,     0.31031,     0.31131,\n",
              "           0.31231,     0.31331,     0.31431,     0.31532,     0.31632,     0.31732,     0.31832,     0.31932,     0.32032,     0.32132,     0.32232,     0.32332,     0.32432,     0.32533,     0.32633,     0.32733,     0.32833,     0.32933,     0.33033,     0.33133,     0.33233,     0.33333,     0.33433,     0.33534,\n",
              "           0.33634,     0.33734,     0.33834,     0.33934,     0.34034,     0.34134,     0.34234,     0.34334,     0.34434,     0.34535,     0.34635,     0.34735,     0.34835,     0.34935,     0.35035,     0.35135,     0.35235,     0.35335,     0.35435,     0.35536,     0.35636,     0.35736,     0.35836,     0.35936,\n",
              "           0.36036,     0.36136,     0.36236,     0.36336,     0.36436,     0.36537,     0.36637,     0.36737,     0.36837,     0.36937,     0.37037,     0.37137,     0.37237,     0.37337,     0.37437,     0.37538,     0.37638,     0.37738,     0.37838,     0.37938,     0.38038,     0.38138,     0.38238,     0.38338,\n",
              "           0.38438,     0.38539,     0.38639,     0.38739,     0.38839,     0.38939,     0.39039,     0.39139,     0.39239,     0.39339,     0.39439,      0.3954,      0.3964,      0.3974,      0.3984,      0.3994,      0.4004,      0.4014,      0.4024,      0.4034,      0.4044,     0.40541,     0.40641,     0.40741,\n",
              "           0.40841,     0.40941,     0.41041,     0.41141,     0.41241,     0.41341,     0.41441,     0.41542,     0.41642,     0.41742,     0.41842,     0.41942,     0.42042,     0.42142,     0.42242,     0.42342,     0.42442,     0.42543,     0.42643,     0.42743,     0.42843,     0.42943,     0.43043,     0.43143,\n",
              "           0.43243,     0.43343,     0.43443,     0.43544,     0.43644,     0.43744,     0.43844,     0.43944,     0.44044,     0.44144,     0.44244,     0.44344,     0.44444,     0.44545,     0.44645,     0.44745,     0.44845,     0.44945,     0.45045,     0.45145,     0.45245,     0.45345,     0.45445,     0.45546,\n",
              "           0.45646,     0.45746,     0.45846,     0.45946,     0.46046,     0.46146,     0.46246,     0.46346,     0.46446,     0.46547,     0.46647,     0.46747,     0.46847,     0.46947,     0.47047,     0.47147,     0.47247,     0.47347,     0.47447,     0.47548,     0.47648,     0.47748,     0.47848,     0.47948,\n",
              "           0.48048,     0.48148,     0.48248,     0.48348,     0.48448,     0.48549,     0.48649,     0.48749,     0.48849,     0.48949,     0.49049,     0.49149,     0.49249,     0.49349,     0.49449,      0.4955,      0.4965,      0.4975,      0.4985,      0.4995,      0.5005,      0.5015,      0.5025,      0.5035,\n",
              "            0.5045,     0.50551,     0.50651,     0.50751,     0.50851,     0.50951,     0.51051,     0.51151,     0.51251,     0.51351,     0.51451,     0.51552,     0.51652,     0.51752,     0.51852,     0.51952,     0.52052,     0.52152,     0.52252,     0.52352,     0.52452,     0.52553,     0.52653,     0.52753,\n",
              "           0.52853,     0.52953,     0.53053,     0.53153,     0.53253,     0.53353,     0.53453,     0.53554,     0.53654,     0.53754,     0.53854,     0.53954,     0.54054,     0.54154,     0.54254,     0.54354,     0.54454,     0.54555,     0.54655,     0.54755,     0.54855,     0.54955,     0.55055,     0.55155,\n",
              "           0.55255,     0.55355,     0.55455,     0.55556,     0.55656,     0.55756,     0.55856,     0.55956,     0.56056,     0.56156,     0.56256,     0.56356,     0.56456,     0.56557,     0.56657,     0.56757,     0.56857,     0.56957,     0.57057,     0.57157,     0.57257,     0.57357,     0.57457,     0.57558,\n",
              "           0.57658,     0.57758,     0.57858,     0.57958,     0.58058,     0.58158,     0.58258,     0.58358,     0.58458,     0.58559,     0.58659,     0.58759,     0.58859,     0.58959,     0.59059,     0.59159,     0.59259,     0.59359,     0.59459,      0.5956,      0.5966,      0.5976,      0.5986,      0.5996,\n",
              "            0.6006,      0.6016,      0.6026,      0.6036,      0.6046,     0.60561,     0.60661,     0.60761,     0.60861,     0.60961,     0.61061,     0.61161,     0.61261,     0.61361,     0.61461,     0.61562,     0.61662,     0.61762,     0.61862,     0.61962,     0.62062,     0.62162,     0.62262,     0.62362,\n",
              "           0.62462,     0.62563,     0.62663,     0.62763,     0.62863,     0.62963,     0.63063,     0.63163,     0.63263,     0.63363,     0.63463,     0.63564,     0.63664,     0.63764,     0.63864,     0.63964,     0.64064,     0.64164,     0.64264,     0.64364,     0.64464,     0.64565,     0.64665,     0.64765,\n",
              "           0.64865,     0.64965,     0.65065,     0.65165,     0.65265,     0.65365,     0.65465,     0.65566,     0.65666,     0.65766,     0.65866,     0.65966,     0.66066,     0.66166,     0.66266,     0.66366,     0.66466,     0.66567,     0.66667,     0.66767,     0.66867,     0.66967,     0.67067,     0.67167,\n",
              "           0.67267,     0.67367,     0.67467,     0.67568,     0.67668,     0.67768,     0.67868,     0.67968,     0.68068,     0.68168,     0.68268,     0.68368,     0.68468,     0.68569,     0.68669,     0.68769,     0.68869,     0.68969,     0.69069,     0.69169,     0.69269,     0.69369,     0.69469,      0.6957,\n",
              "            0.6967,      0.6977,      0.6987,      0.6997,      0.7007,      0.7017,      0.7027,      0.7037,      0.7047,     0.70571,     0.70671,     0.70771,     0.70871,     0.70971,     0.71071,     0.71171,     0.71271,     0.71371,     0.71471,     0.71572,     0.71672,     0.71772,     0.71872,     0.71972,\n",
              "           0.72072,     0.72172,     0.72272,     0.72372,     0.72472,     0.72573,     0.72673,     0.72773,     0.72873,     0.72973,     0.73073,     0.73173,     0.73273,     0.73373,     0.73473,     0.73574,     0.73674,     0.73774,     0.73874,     0.73974,     0.74074,     0.74174,     0.74274,     0.74374,\n",
              "           0.74474,     0.74575,     0.74675,     0.74775,     0.74875,     0.74975,     0.75075,     0.75175,     0.75275,     0.75375,     0.75475,     0.75576,     0.75676,     0.75776,     0.75876,     0.75976,     0.76076,     0.76176,     0.76276,     0.76376,     0.76476,     0.76577,     0.76677,     0.76777,\n",
              "           0.76877,     0.76977,     0.77077,     0.77177,     0.77277,     0.77377,     0.77477,     0.77578,     0.77678,     0.77778,     0.77878,     0.77978,     0.78078,     0.78178,     0.78278,     0.78378,     0.78478,     0.78579,     0.78679,     0.78779,     0.78879,     0.78979,     0.79079,     0.79179,\n",
              "           0.79279,     0.79379,     0.79479,      0.7958,      0.7968,      0.7978,      0.7988,      0.7998,      0.8008,      0.8018,      0.8028,      0.8038,      0.8048,     0.80581,     0.80681,     0.80781,     0.80881,     0.80981,     0.81081,     0.81181,     0.81281,     0.81381,     0.81481,     0.81582,\n",
              "           0.81682,     0.81782,     0.81882,     0.81982,     0.82082,     0.82182,     0.82282,     0.82382,     0.82482,     0.82583,     0.82683,     0.82783,     0.82883,     0.82983,     0.83083,     0.83183,     0.83283,     0.83383,     0.83483,     0.83584,     0.83684,     0.83784,     0.83884,     0.83984,\n",
              "           0.84084,     0.84184,     0.84284,     0.84384,     0.84484,     0.84585,     0.84685,     0.84785,     0.84885,     0.84985,     0.85085,     0.85185,     0.85285,     0.85385,     0.85485,     0.85586,     0.85686,     0.85786,     0.85886,     0.85986,     0.86086,     0.86186,     0.86286,     0.86386,\n",
              "           0.86486,     0.86587,     0.86687,     0.86787,     0.86887,     0.86987,     0.87087,     0.87187,     0.87287,     0.87387,     0.87487,     0.87588,     0.87688,     0.87788,     0.87888,     0.87988,     0.88088,     0.88188,     0.88288,     0.88388,     0.88488,     0.88589,     0.88689,     0.88789,\n",
              "           0.88889,     0.88989,     0.89089,     0.89189,     0.89289,     0.89389,     0.89489,      0.8959,      0.8969,      0.8979,      0.8989,      0.8999,      0.9009,      0.9019,      0.9029,      0.9039,      0.9049,     0.90591,     0.90691,     0.90791,     0.90891,     0.90991,     0.91091,     0.91191,\n",
              "           0.91291,     0.91391,     0.91491,     0.91592,     0.91692,     0.91792,     0.91892,     0.91992,     0.92092,     0.92192,     0.92292,     0.92392,     0.92492,     0.92593,     0.92693,     0.92793,     0.92893,     0.92993,     0.93093,     0.93193,     0.93293,     0.93393,     0.93493,     0.93594,\n",
              "           0.93694,     0.93794,     0.93894,     0.93994,     0.94094,     0.94194,     0.94294,     0.94394,     0.94494,     0.94595,     0.94695,     0.94795,     0.94895,     0.94995,     0.95095,     0.95195,     0.95295,     0.95395,     0.95495,     0.95596,     0.95696,     0.95796,     0.95896,     0.95996,\n",
              "           0.96096,     0.96196,     0.96296,     0.96396,     0.96496,     0.96597,     0.96697,     0.96797,     0.96897,     0.96997,     0.97097,     0.97197,     0.97297,     0.97397,     0.97497,     0.97598,     0.97698,     0.97798,     0.97898,     0.97998,     0.98098,     0.98198,     0.98298,     0.98398,\n",
              "           0.98498,     0.98599,     0.98699,     0.98799,     0.98899,     0.98999,     0.99099,     0.99199,     0.99299,     0.99399,     0.99499,       0.996,       0.997,       0.998,       0.999,           1]), array([[          1,           1,           1,           1,           1,           1,           1,           1,           1,           1,           1,           1,           1,           1,           1,           1,           1,           1,           1,           1,           1,           1,           1,\n",
              "                  1,           1,           1,           1,           1,           1,           1,           1,           1,           1,           1,           1,           1,           1,           1,           1,           1,           1,           1,           1,           1,           1,           1,\n",
              "                  1,           1,           1,           1,           1,           1,           1,           1,           1,           1,           1,           1,           1,           1,           1,           1,           1,           1,           1,           1,           1,           1,           1,\n",
              "                  1,           1,           1,           1,           1,           1,           1,           1,           1,           1,           1,           1,           1,           1,           1,           1,           1,           1,           1,           1,           1,           1,           1,\n",
              "                  1,           1,           1,           1,           1,           1,           1,           1,           1,           1,           1,           1,           1,           1,           1,           1,           1,           1,           1,           1,           1,           1,           1,\n",
              "                  1,           1,           1,           1,           1,           1,           1,           1,           1,      0.9998,     0.99962,     0.99962,     0.99962,     0.99962,     0.99962,     0.99962,     0.99962,     0.99948,     0.99948,     0.99948,     0.99948,     0.99948,     0.99948,\n",
              "            0.99948,     0.99948,     0.99948,     0.99948,     0.99948,     0.99948,     0.99948,     0.99948,     0.99931,     0.99921,     0.99921,     0.99921,     0.99921,     0.99921,     0.99921,     0.99921,     0.99921,     0.99921,     0.99921,     0.99921,     0.99921,     0.99921,     0.99906,\n",
              "            0.99893,     0.99893,     0.99893,     0.99893,     0.99887,     0.99887,     0.99887,     0.99887,     0.99887,     0.99887,     0.99887,     0.99887,     0.99887,     0.99887,     0.99887,     0.99887,     0.99887,     0.99887,     0.99849,     0.99849,     0.99849,     0.99849,     0.99849,\n",
              "            0.99844,     0.99844,     0.99844,     0.99844,     0.99844,     0.99844,     0.99844,     0.99844,     0.99844,     0.99844,     0.99837,     0.99837,     0.99837,     0.99837,     0.99837,     0.99837,     0.99837,     0.99827,     0.99827,     0.99827,     0.99816,     0.99816,     0.99806,\n",
              "            0.99806,     0.99797,     0.99797,     0.99787,     0.99787,     0.99787,     0.99777,     0.99767,     0.99767,     0.99757,      0.9975,      0.9975,      0.9975,      0.9975,      0.9974,      0.9974,     0.99737,     0.99737,     0.99737,     0.99737,     0.99737,     0.99737,     0.99737,\n",
              "            0.99735,     0.99735,     0.99735,     0.99735,     0.99735,     0.99735,     0.99735,     0.99735,     0.99716,     0.99712,     0.99712,     0.99712,     0.99712,     0.99712,     0.99712,     0.99704,     0.99695,     0.99695,     0.99679,     0.99679,     0.99679,     0.99671,     0.99663,\n",
              "            0.99663,     0.99655,     0.99646,     0.99619,      0.9961,     0.99583,     0.99568,     0.99568,      0.9956,      0.9956,     0.99552,     0.99546,     0.99546,     0.99539,     0.99523,     0.99511,     0.99511,     0.99511,     0.99511,     0.99477,      0.9947,     0.99461,     0.99446,\n",
              "            0.99413,     0.99413,     0.99382,     0.99382,     0.99375,     0.99361,     0.99354,     0.99346,      0.9934,     0.99335,     0.99327,     0.99312,     0.99297,     0.99291,     0.99287,     0.99279,     0.99265,      0.9925,     0.99237,     0.99233,     0.99233,      0.9921,     0.99187,\n",
              "            0.99166,      0.9916,      0.9913,     0.99108,     0.99087,     0.99082,      0.9906,     0.99049,     0.99042,      0.9903,     0.99024,     0.98995,     0.98969,     0.98962,      0.9895,     0.98921,      0.9891,     0.98905,     0.98893,      0.9889,     0.98884,     0.98883,     0.98877,\n",
              "            0.98872,      0.9886,      0.9884,     0.98833,     0.98833,     0.98806,     0.98795,     0.98778,     0.98749,     0.98724,     0.98684,     0.98666,     0.98654,     0.98624,     0.98612,     0.98571,     0.98564,     0.98552,     0.98541,     0.98519,     0.98499,     0.98446,     0.98426,\n",
              "            0.98407,     0.98405,     0.98401,     0.98365,      0.9834,     0.98319,     0.98281,      0.9821,     0.98187,     0.98116,     0.98101,     0.98047,     0.98024,     0.98011,     0.97993,     0.97967,     0.97911,     0.97872,     0.97825,     0.97796,     0.97735,     0.97682,     0.97638,\n",
              "            0.97603,      0.9757,     0.97533,     0.97482,      0.9746,      0.9743,     0.97407,     0.97387,     0.97342,      0.9731,      0.9726,     0.97218,      0.9718,     0.97126,     0.97072,     0.97017,     0.96982,      0.9695,     0.96873,     0.96845,     0.96804,     0.96775,     0.96752,\n",
              "            0.96707,     0.96692,     0.96674,     0.96599,      0.9653,     0.96444,     0.96393,     0.96346,     0.96323,     0.96267,     0.96201,     0.96152,     0.96133,     0.96026,     0.95951,     0.95909,     0.95872,     0.95831,     0.95796,     0.95672,     0.95624,      0.9559,     0.95538,\n",
              "            0.95399,     0.95299,     0.95255,     0.95201,     0.95126,     0.95081,        0.95,     0.94924,      0.9484,     0.94782,     0.94725,     0.94656,     0.94605,     0.94564,     0.94487,     0.94399,     0.94292,     0.94237,     0.94186,     0.94101,     0.94032,     0.93958,     0.93933,\n",
              "            0.93878,     0.93821,     0.93737,     0.93655,     0.93559,     0.93447,     0.93357,     0.93262,     0.93218,     0.93153,     0.93099,     0.92962,     0.92827,     0.92764,     0.92685,     0.92617,     0.92513,     0.92383,     0.92261,     0.92187,       0.921,     0.91948,     0.91826,\n",
              "            0.91731,     0.91577,     0.91443,     0.91374,     0.91229,     0.91164,     0.91079,     0.90988,     0.90847,     0.90782,     0.90704,      0.9065,     0.90517,     0.90341,     0.90249,     0.90083,     0.89964,     0.89818,     0.89725,     0.89555,      0.8944,     0.89291,     0.89145,\n",
              "            0.89009,     0.88826,     0.88728,     0.88562,     0.88421,       0.883,     0.88111,     0.87972,     0.87846,     0.87694,     0.87466,     0.87325,     0.87122,     0.86941,      0.8677,     0.86628,     0.86508,     0.86287,     0.86099,     0.85984,      0.8586,     0.85645,     0.85457,\n",
              "            0.85239,     0.85063,     0.84924,     0.84745,     0.84523,     0.84324,     0.84072,     0.83999,      0.8371,     0.83435,     0.83251,     0.83025,     0.82772,     0.82514,      0.8228,     0.82062,     0.81881,     0.81682,     0.81456,     0.81199,     0.81035,     0.80808,     0.80632,\n",
              "            0.80434,     0.80247,     0.79929,     0.79642,     0.79433,     0.79254,     0.78949,     0.78677,      0.7845,     0.78161,     0.77883,     0.77666,     0.77376,     0.77182,     0.76928,     0.76603,     0.76204,     0.75912,     0.75549,     0.75342,     0.75031,     0.74749,     0.74317,\n",
              "            0.73927,     0.73622,     0.73301,     0.72917,       0.726,     0.72285,     0.71901,     0.71515,     0.71217,     0.70863,     0.70406,     0.70109,     0.69682,     0.69239,     0.68935,     0.68503,     0.68116,     0.67787,     0.67349,     0.67015,     0.66768,     0.66395,     0.66025,\n",
              "            0.65632,       0.652,     0.64782,     0.64472,     0.64023,     0.63403,     0.63005,     0.62618,      0.6226,     0.61828,     0.61271,     0.60967,     0.60596,     0.60311,     0.59796,     0.59191,     0.58736,     0.58233,      0.5775,     0.57314,      0.5685,     0.56363,     0.55901,\n",
              "            0.55404,     0.54922,     0.54328,      0.5389,     0.53343,     0.52916,     0.52356,     0.51853,     0.51511,     0.51061,     0.50654,     0.50127,     0.49381,     0.48911,     0.48386,     0.47848,      0.4743,     0.46761,     0.46073,     0.45432,     0.44765,      0.4414,     0.43532,\n",
              "            0.42938,     0.42295,     0.41689,     0.41226,     0.40726,     0.40124,     0.39565,     0.39006,     0.38332,     0.37638,     0.37024,     0.36474,     0.35847,     0.35265,     0.34692,     0.33979,      0.3343,     0.32839,     0.32157,     0.31577,     0.30916,     0.30318,     0.29551,\n",
              "             0.2893,     0.28327,     0.27788,     0.27183,     0.26625,     0.26055,     0.25449,     0.24782,     0.24222,     0.23414,     0.22555,     0.21792,     0.21172,     0.20273,     0.19608,      0.1883,     0.17981,     0.17351,     0.16554,     0.15834,     0.14869,     0.14083,     0.13208,\n",
              "            0.12406,     0.11623,     0.10632,    0.097808,    0.092332,    0.092051,    0.091769,    0.091488,    0.091206,    0.090925,    0.090643,    0.090362,     0.09008,    0.089799,    0.089517,    0.089236,    0.088954,    0.088673,    0.088391,     0.08811,    0.087828,    0.087547,    0.087265,\n",
              "           0.086984,    0.086702,    0.086421,    0.086139,    0.085858,    0.085576,    0.085295,    0.085013,    0.084732,     0.08445,    0.084169,    0.083887,    0.083606,    0.083324,    0.083043,    0.082761,     0.08248,    0.082198,    0.081917,    0.081635,    0.081354,    0.081072,    0.080791,\n",
              "           0.080509,    0.080228,    0.079946,    0.079665,    0.079383,    0.079102,     0.07882,    0.078539,    0.078257,    0.077976,    0.077694,    0.077413,    0.077131,     0.07685,    0.076568,    0.076287,    0.076005,    0.075724,    0.075442,    0.075161,    0.074879,    0.074598,    0.074316,\n",
              "           0.074035,    0.073753,    0.073472,     0.07319,    0.072909,    0.072627,    0.072346,    0.072064,    0.071783,    0.071501,     0.07122,    0.070938,    0.070657,    0.070375,    0.070094,    0.069812,    0.069531,    0.069249,    0.068968,    0.068686,    0.068405,    0.068123,    0.067842,\n",
              "            0.06756,    0.067279,    0.066997,    0.066716,    0.066434,    0.066153,    0.065871,     0.06559,    0.065308,    0.065027,    0.064745,    0.064464,    0.064182,    0.063901,    0.063619,    0.063338,    0.063056,    0.062775,    0.062493,    0.062212,     0.06193,    0.061649,    0.061367,\n",
              "           0.061086,    0.060804,    0.060523,    0.060241,     0.05996,    0.059678,    0.059397,    0.059115,    0.058834,    0.058552,    0.058271,    0.057989,    0.057708,    0.057426,    0.057145,    0.056863,    0.056582,      0.0563,    0.056019,    0.055737,    0.055456,    0.055174,    0.054893,\n",
              "           0.054611,     0.05433,    0.054048,    0.053767,    0.053485,    0.053204,    0.052922,    0.052641,    0.052359,    0.052078,    0.051796,    0.051515,    0.051233,    0.050952,     0.05067,    0.050389,    0.050107,    0.049826,    0.049544,    0.049263,    0.048981,      0.0487,    0.048418,\n",
              "           0.048137,    0.047855,    0.047574,    0.047292,    0.047011,    0.046729,    0.046448,    0.046166,    0.045885,    0.045603,    0.045322,     0.04504,    0.044759,    0.044477,    0.044196,    0.043914,    0.043633,    0.043351,     0.04307,    0.042788,    0.042507,    0.042225,    0.041944,\n",
              "           0.041662,    0.041381,    0.041099,    0.040818,    0.040536,    0.040255,    0.039973,    0.039692,     0.03941,    0.039129,    0.038847,    0.038566,    0.038284,    0.038003,    0.037721,     0.03744,    0.037158,    0.036877,    0.036595,    0.036314,    0.036032,    0.035751,    0.035469,\n",
              "           0.035188,    0.034906,    0.034625,    0.034343,    0.034062,     0.03378,    0.033499,    0.033217,    0.032936,    0.032654,    0.032373,    0.032091,     0.03181,    0.031528,    0.031247,    0.030965,    0.030684,    0.030402,    0.030121,    0.029839,    0.029558,    0.029276,    0.028995,\n",
              "           0.028713,    0.028432,     0.02815,    0.027869,    0.027587,    0.027306,    0.027024,    0.026743,    0.026461,     0.02618,    0.025898,    0.025617,    0.025335,    0.025054,    0.024772,    0.024491,    0.024209,    0.023928,    0.023646,    0.023365,    0.023083,    0.022802,     0.02252,\n",
              "           0.022239,    0.021957,    0.021676,    0.021394,    0.021113,    0.020831,     0.02055,    0.020268,    0.019987,    0.019705,    0.019424,    0.019142,    0.018861,    0.018579,    0.018298,    0.018016,    0.017735,    0.017453,    0.017172,     0.01689,    0.016609,    0.016327,    0.016046,\n",
              "           0.015764,    0.015483,    0.015201,     0.01492,    0.014638,    0.014357,    0.014075,    0.013794,    0.013512,    0.013231,    0.012949,    0.012668,    0.012386,    0.012105,    0.011823,    0.011542,     0.01126,    0.010979,    0.010697,    0.010416,    0.010134,   0.0098525,    0.009571,\n",
              "          0.0092895,    0.009008,   0.0087265,    0.008445,   0.0081635,    0.007882,   0.0076005,    0.007319,   0.0070375,    0.006756,   0.0064745,    0.006193,   0.0059115,     0.00563,   0.0053485,    0.005067,   0.0047855,    0.004504,   0.0042225,    0.003941,   0.0036595,    0.003378,   0.0030965,\n",
              "           0.002815,   0.0025335,    0.002252,   0.0019705,    0.001689,   0.0014075,    0.001126,   0.0008445,    0.000563,   0.0002815,           0]]), 'Recall', 'Precision'], [array([          0,    0.001001,    0.002002,    0.003003,    0.004004,    0.005005,    0.006006,    0.007007,    0.008008,    0.009009,     0.01001,    0.011011,    0.012012,    0.013013,    0.014014,    0.015015,    0.016016,    0.017017,    0.018018,    0.019019,     0.02002,    0.021021,    0.022022,    0.023023,\n",
              "          0.024024,    0.025025,    0.026026,    0.027027,    0.028028,    0.029029,     0.03003,    0.031031,    0.032032,    0.033033,    0.034034,    0.035035,    0.036036,    0.037037,    0.038038,    0.039039,     0.04004,    0.041041,    0.042042,    0.043043,    0.044044,    0.045045,    0.046046,    0.047047,\n",
              "          0.048048,    0.049049,     0.05005,    0.051051,    0.052052,    0.053053,    0.054054,    0.055055,    0.056056,    0.057057,    0.058058,    0.059059,     0.06006,    0.061061,    0.062062,    0.063063,    0.064064,    0.065065,    0.066066,    0.067067,    0.068068,    0.069069,     0.07007,    0.071071,\n",
              "          0.072072,    0.073073,    0.074074,    0.075075,    0.076076,    0.077077,    0.078078,    0.079079,     0.08008,    0.081081,    0.082082,    0.083083,    0.084084,    0.085085,    0.086086,    0.087087,    0.088088,    0.089089,     0.09009,    0.091091,    0.092092,    0.093093,    0.094094,    0.095095,\n",
              "          0.096096,    0.097097,    0.098098,    0.099099,      0.1001,      0.1011,      0.1021,      0.1031,      0.1041,     0.10511,     0.10611,     0.10711,     0.10811,     0.10911,     0.11011,     0.11111,     0.11211,     0.11311,     0.11411,     0.11512,     0.11612,     0.11712,     0.11812,     0.11912,\n",
              "           0.12012,     0.12112,     0.12212,     0.12312,     0.12412,     0.12513,     0.12613,     0.12713,     0.12813,     0.12913,     0.13013,     0.13113,     0.13213,     0.13313,     0.13413,     0.13514,     0.13614,     0.13714,     0.13814,     0.13914,     0.14014,     0.14114,     0.14214,     0.14314,\n",
              "           0.14414,     0.14515,     0.14615,     0.14715,     0.14815,     0.14915,     0.15015,     0.15115,     0.15215,     0.15315,     0.15415,     0.15516,     0.15616,     0.15716,     0.15816,     0.15916,     0.16016,     0.16116,     0.16216,     0.16316,     0.16416,     0.16517,     0.16617,     0.16717,\n",
              "           0.16817,     0.16917,     0.17017,     0.17117,     0.17217,     0.17317,     0.17417,     0.17518,     0.17618,     0.17718,     0.17818,     0.17918,     0.18018,     0.18118,     0.18218,     0.18318,     0.18418,     0.18519,     0.18619,     0.18719,     0.18819,     0.18919,     0.19019,     0.19119,\n",
              "           0.19219,     0.19319,     0.19419,      0.1952,      0.1962,      0.1972,      0.1982,      0.1992,      0.2002,      0.2012,      0.2022,      0.2032,      0.2042,     0.20521,     0.20621,     0.20721,     0.20821,     0.20921,     0.21021,     0.21121,     0.21221,     0.21321,     0.21421,     0.21522,\n",
              "           0.21622,     0.21722,     0.21822,     0.21922,     0.22022,     0.22122,     0.22222,     0.22322,     0.22422,     0.22523,     0.22623,     0.22723,     0.22823,     0.22923,     0.23023,     0.23123,     0.23223,     0.23323,     0.23423,     0.23524,     0.23624,     0.23724,     0.23824,     0.23924,\n",
              "           0.24024,     0.24124,     0.24224,     0.24324,     0.24424,     0.24525,     0.24625,     0.24725,     0.24825,     0.24925,     0.25025,     0.25125,     0.25225,     0.25325,     0.25425,     0.25526,     0.25626,     0.25726,     0.25826,     0.25926,     0.26026,     0.26126,     0.26226,     0.26326,\n",
              "           0.26426,     0.26527,     0.26627,     0.26727,     0.26827,     0.26927,     0.27027,     0.27127,     0.27227,     0.27327,     0.27427,     0.27528,     0.27628,     0.27728,     0.27828,     0.27928,     0.28028,     0.28128,     0.28228,     0.28328,     0.28428,     0.28529,     0.28629,     0.28729,\n",
              "           0.28829,     0.28929,     0.29029,     0.29129,     0.29229,     0.29329,     0.29429,      0.2953,      0.2963,      0.2973,      0.2983,      0.2993,      0.3003,      0.3013,      0.3023,      0.3033,      0.3043,     0.30531,     0.30631,     0.30731,     0.30831,     0.30931,     0.31031,     0.31131,\n",
              "           0.31231,     0.31331,     0.31431,     0.31532,     0.31632,     0.31732,     0.31832,     0.31932,     0.32032,     0.32132,     0.32232,     0.32332,     0.32432,     0.32533,     0.32633,     0.32733,     0.32833,     0.32933,     0.33033,     0.33133,     0.33233,     0.33333,     0.33433,     0.33534,\n",
              "           0.33634,     0.33734,     0.33834,     0.33934,     0.34034,     0.34134,     0.34234,     0.34334,     0.34434,     0.34535,     0.34635,     0.34735,     0.34835,     0.34935,     0.35035,     0.35135,     0.35235,     0.35335,     0.35435,     0.35536,     0.35636,     0.35736,     0.35836,     0.35936,\n",
              "           0.36036,     0.36136,     0.36236,     0.36336,     0.36436,     0.36537,     0.36637,     0.36737,     0.36837,     0.36937,     0.37037,     0.37137,     0.37237,     0.37337,     0.37437,     0.37538,     0.37638,     0.37738,     0.37838,     0.37938,     0.38038,     0.38138,     0.38238,     0.38338,\n",
              "           0.38438,     0.38539,     0.38639,     0.38739,     0.38839,     0.38939,     0.39039,     0.39139,     0.39239,     0.39339,     0.39439,      0.3954,      0.3964,      0.3974,      0.3984,      0.3994,      0.4004,      0.4014,      0.4024,      0.4034,      0.4044,     0.40541,     0.40641,     0.40741,\n",
              "           0.40841,     0.40941,     0.41041,     0.41141,     0.41241,     0.41341,     0.41441,     0.41542,     0.41642,     0.41742,     0.41842,     0.41942,     0.42042,     0.42142,     0.42242,     0.42342,     0.42442,     0.42543,     0.42643,     0.42743,     0.42843,     0.42943,     0.43043,     0.43143,\n",
              "           0.43243,     0.43343,     0.43443,     0.43544,     0.43644,     0.43744,     0.43844,     0.43944,     0.44044,     0.44144,     0.44244,     0.44344,     0.44444,     0.44545,     0.44645,     0.44745,     0.44845,     0.44945,     0.45045,     0.45145,     0.45245,     0.45345,     0.45445,     0.45546,\n",
              "           0.45646,     0.45746,     0.45846,     0.45946,     0.46046,     0.46146,     0.46246,     0.46346,     0.46446,     0.46547,     0.46647,     0.46747,     0.46847,     0.46947,     0.47047,     0.47147,     0.47247,     0.47347,     0.47447,     0.47548,     0.47648,     0.47748,     0.47848,     0.47948,\n",
              "           0.48048,     0.48148,     0.48248,     0.48348,     0.48448,     0.48549,     0.48649,     0.48749,     0.48849,     0.48949,     0.49049,     0.49149,     0.49249,     0.49349,     0.49449,      0.4955,      0.4965,      0.4975,      0.4985,      0.4995,      0.5005,      0.5015,      0.5025,      0.5035,\n",
              "            0.5045,     0.50551,     0.50651,     0.50751,     0.50851,     0.50951,     0.51051,     0.51151,     0.51251,     0.51351,     0.51451,     0.51552,     0.51652,     0.51752,     0.51852,     0.51952,     0.52052,     0.52152,     0.52252,     0.52352,     0.52452,     0.52553,     0.52653,     0.52753,\n",
              "           0.52853,     0.52953,     0.53053,     0.53153,     0.53253,     0.53353,     0.53453,     0.53554,     0.53654,     0.53754,     0.53854,     0.53954,     0.54054,     0.54154,     0.54254,     0.54354,     0.54454,     0.54555,     0.54655,     0.54755,     0.54855,     0.54955,     0.55055,     0.55155,\n",
              "           0.55255,     0.55355,     0.55455,     0.55556,     0.55656,     0.55756,     0.55856,     0.55956,     0.56056,     0.56156,     0.56256,     0.56356,     0.56456,     0.56557,     0.56657,     0.56757,     0.56857,     0.56957,     0.57057,     0.57157,     0.57257,     0.57357,     0.57457,     0.57558,\n",
              "           0.57658,     0.57758,     0.57858,     0.57958,     0.58058,     0.58158,     0.58258,     0.58358,     0.58458,     0.58559,     0.58659,     0.58759,     0.58859,     0.58959,     0.59059,     0.59159,     0.59259,     0.59359,     0.59459,      0.5956,      0.5966,      0.5976,      0.5986,      0.5996,\n",
              "            0.6006,      0.6016,      0.6026,      0.6036,      0.6046,     0.60561,     0.60661,     0.60761,     0.60861,     0.60961,     0.61061,     0.61161,     0.61261,     0.61361,     0.61461,     0.61562,     0.61662,     0.61762,     0.61862,     0.61962,     0.62062,     0.62162,     0.62262,     0.62362,\n",
              "           0.62462,     0.62563,     0.62663,     0.62763,     0.62863,     0.62963,     0.63063,     0.63163,     0.63263,     0.63363,     0.63463,     0.63564,     0.63664,     0.63764,     0.63864,     0.63964,     0.64064,     0.64164,     0.64264,     0.64364,     0.64464,     0.64565,     0.64665,     0.64765,\n",
              "           0.64865,     0.64965,     0.65065,     0.65165,     0.65265,     0.65365,     0.65465,     0.65566,     0.65666,     0.65766,     0.65866,     0.65966,     0.66066,     0.66166,     0.66266,     0.66366,     0.66466,     0.66567,     0.66667,     0.66767,     0.66867,     0.66967,     0.67067,     0.67167,\n",
              "           0.67267,     0.67367,     0.67467,     0.67568,     0.67668,     0.67768,     0.67868,     0.67968,     0.68068,     0.68168,     0.68268,     0.68368,     0.68468,     0.68569,     0.68669,     0.68769,     0.68869,     0.68969,     0.69069,     0.69169,     0.69269,     0.69369,     0.69469,      0.6957,\n",
              "            0.6967,      0.6977,      0.6987,      0.6997,      0.7007,      0.7017,      0.7027,      0.7037,      0.7047,     0.70571,     0.70671,     0.70771,     0.70871,     0.70971,     0.71071,     0.71171,     0.71271,     0.71371,     0.71471,     0.71572,     0.71672,     0.71772,     0.71872,     0.71972,\n",
              "           0.72072,     0.72172,     0.72272,     0.72372,     0.72472,     0.72573,     0.72673,     0.72773,     0.72873,     0.72973,     0.73073,     0.73173,     0.73273,     0.73373,     0.73473,     0.73574,     0.73674,     0.73774,     0.73874,     0.73974,     0.74074,     0.74174,     0.74274,     0.74374,\n",
              "           0.74474,     0.74575,     0.74675,     0.74775,     0.74875,     0.74975,     0.75075,     0.75175,     0.75275,     0.75375,     0.75475,     0.75576,     0.75676,     0.75776,     0.75876,     0.75976,     0.76076,     0.76176,     0.76276,     0.76376,     0.76476,     0.76577,     0.76677,     0.76777,\n",
              "           0.76877,     0.76977,     0.77077,     0.77177,     0.77277,     0.77377,     0.77477,     0.77578,     0.77678,     0.77778,     0.77878,     0.77978,     0.78078,     0.78178,     0.78278,     0.78378,     0.78478,     0.78579,     0.78679,     0.78779,     0.78879,     0.78979,     0.79079,     0.79179,\n",
              "           0.79279,     0.79379,     0.79479,      0.7958,      0.7968,      0.7978,      0.7988,      0.7998,      0.8008,      0.8018,      0.8028,      0.8038,      0.8048,     0.80581,     0.80681,     0.80781,     0.80881,     0.80981,     0.81081,     0.81181,     0.81281,     0.81381,     0.81481,     0.81582,\n",
              "           0.81682,     0.81782,     0.81882,     0.81982,     0.82082,     0.82182,     0.82282,     0.82382,     0.82482,     0.82583,     0.82683,     0.82783,     0.82883,     0.82983,     0.83083,     0.83183,     0.83283,     0.83383,     0.83483,     0.83584,     0.83684,     0.83784,     0.83884,     0.83984,\n",
              "           0.84084,     0.84184,     0.84284,     0.84384,     0.84484,     0.84585,     0.84685,     0.84785,     0.84885,     0.84985,     0.85085,     0.85185,     0.85285,     0.85385,     0.85485,     0.85586,     0.85686,     0.85786,     0.85886,     0.85986,     0.86086,     0.86186,     0.86286,     0.86386,\n",
              "           0.86486,     0.86587,     0.86687,     0.86787,     0.86887,     0.86987,     0.87087,     0.87187,     0.87287,     0.87387,     0.87487,     0.87588,     0.87688,     0.87788,     0.87888,     0.87988,     0.88088,     0.88188,     0.88288,     0.88388,     0.88488,     0.88589,     0.88689,     0.88789,\n",
              "           0.88889,     0.88989,     0.89089,     0.89189,     0.89289,     0.89389,     0.89489,      0.8959,      0.8969,      0.8979,      0.8989,      0.8999,      0.9009,      0.9019,      0.9029,      0.9039,      0.9049,     0.90591,     0.90691,     0.90791,     0.90891,     0.90991,     0.91091,     0.91191,\n",
              "           0.91291,     0.91391,     0.91491,     0.91592,     0.91692,     0.91792,     0.91892,     0.91992,     0.92092,     0.92192,     0.92292,     0.92392,     0.92492,     0.92593,     0.92693,     0.92793,     0.92893,     0.92993,     0.93093,     0.93193,     0.93293,     0.93393,     0.93493,     0.93594,\n",
              "           0.93694,     0.93794,     0.93894,     0.93994,     0.94094,     0.94194,     0.94294,     0.94394,     0.94494,     0.94595,     0.94695,     0.94795,     0.94895,     0.94995,     0.95095,     0.95195,     0.95295,     0.95395,     0.95495,     0.95596,     0.95696,     0.95796,     0.95896,     0.95996,\n",
              "           0.96096,     0.96196,     0.96296,     0.96396,     0.96496,     0.96597,     0.96697,     0.96797,     0.96897,     0.96997,     0.97097,     0.97197,     0.97297,     0.97397,     0.97497,     0.97598,     0.97698,     0.97798,     0.97898,     0.97998,     0.98098,     0.98198,     0.98298,     0.98398,\n",
              "           0.98498,     0.98599,     0.98699,     0.98799,     0.98899,     0.98999,     0.99099,     0.99199,     0.99299,     0.99399,     0.99499,       0.996,       0.997,       0.998,       0.999,           1]), array([[     0.1626,      0.1626,     0.20144,     0.22882,     0.24995,      0.2674,     0.28271,     0.29601,     0.30862,      0.3197,     0.33006,     0.33948,     0.34829,     0.35595,     0.36402,     0.37113,     0.37759,     0.38412,     0.39044,     0.39624,     0.40169,     0.40717,     0.41231,\n",
              "            0.41734,     0.42227,     0.42712,     0.43161,     0.43604,     0.44003,     0.44401,      0.4482,     0.45221,     0.45569,     0.45948,     0.46305,     0.46656,     0.47011,     0.47331,     0.47704,     0.48004,     0.48314,     0.48636,     0.48913,     0.49223,       0.495,     0.49737,\n",
              "            0.49991,     0.50232,     0.50502,     0.50761,     0.51022,     0.51242,     0.51521,     0.51721,     0.51961,     0.52198,     0.52437,     0.52638,     0.52871,     0.53073,     0.53285,     0.53522,     0.53704,     0.53913,     0.54101,     0.54273,     0.54448,     0.54615,     0.54857,\n",
              "             0.5504,     0.55224,     0.55373,     0.55505,     0.55668,     0.55829,     0.55981,     0.56102,     0.56281,     0.56425,     0.56573,     0.56749,     0.56874,     0.57002,     0.57147,     0.57266,     0.57438,      0.5754,     0.57651,     0.57765,      0.5786,     0.58002,     0.58115,\n",
              "            0.58205,      0.5832,      0.5842,     0.58526,     0.58623,     0.58732,     0.58834,     0.58901,     0.58995,       0.591,     0.59206,     0.59322,     0.59396,     0.59498,     0.59603,     0.59661,     0.59718,     0.59787,     0.59867,     0.59921,     0.60013,     0.60105,     0.60199,\n",
              "            0.60256,     0.60327,     0.60385,     0.60454,       0.605,     0.60573,     0.60652,     0.60715,     0.60813,     0.60895,     0.60971,      0.6102,     0.61054,     0.61108,     0.61166,     0.61226,     0.61296,     0.61351,     0.61412,     0.61458,     0.61515,      0.6157,     0.61601,\n",
              "            0.61648,     0.61674,      0.6172,     0.61765,     0.61805,     0.61857,     0.61901,     0.61965,     0.61992,     0.62032,     0.62081,     0.62139,     0.62174,     0.62211,     0.62245,     0.62277,     0.62312,     0.62341,     0.62406,     0.62444,     0.62475,     0.62497,      0.6253,\n",
              "            0.62572,      0.6262,     0.62658,     0.62691,     0.62727,     0.62769,     0.62778,     0.62799,     0.62846,     0.62878,     0.62913,     0.62955,     0.62961,     0.63006,     0.63037,     0.63056,     0.63066,     0.63095,     0.63139,      0.6316,     0.63174,     0.63211,     0.63228,\n",
              "            0.63234,     0.63275,     0.63314,     0.63351,     0.63372,     0.63409,     0.63426,     0.63437,      0.6345,     0.63477,     0.63482,      0.6349,     0.63508,     0.63531,     0.63554,     0.63555,     0.63591,     0.63623,     0.63628,     0.63657,     0.63671,     0.63704,     0.63699,\n",
              "            0.63715,     0.63728,     0.63719,     0.63711,     0.63734,     0.63744,     0.63746,     0.63742,     0.63743,     0.63768,     0.63775,     0.63793,     0.63802,     0.63803,      0.6381,     0.63822,      0.6382,     0.63827,     0.63845,     0.63852,     0.63838,     0.63832,     0.63823,\n",
              "            0.63842,     0.63848,     0.63843,      0.6386,     0.63866,     0.63879,     0.63882,     0.63867,     0.63862,     0.63846,     0.63835,     0.63827,     0.63835,      0.6383,     0.63826,     0.63812,     0.63811,     0.63813,     0.63808,     0.63812,      0.6381,     0.63802,     0.63803,\n",
              "            0.63803,     0.63777,     0.63769,     0.63765,     0.63762,     0.63764,     0.63764,     0.63761,      0.6377,     0.63762,      0.6375,     0.63762,     0.63749,     0.63755,     0.63753,      0.6373,     0.63722,     0.63729,     0.63725,     0.63736,     0.63739,     0.63747,     0.63724,\n",
              "            0.63697,      0.6368,     0.63668,     0.63664,     0.63657,     0.63658,     0.63643,     0.63639,     0.63634,     0.63626,     0.63606,     0.63594,     0.63566,     0.63556,     0.63536,     0.63536,     0.63523,     0.63518,     0.63505,     0.63491,     0.63482,      0.6348,     0.63464,\n",
              "            0.63423,     0.63399,     0.63387,     0.63378,     0.63356,     0.63339,     0.63342,     0.63335,     0.63317,     0.63285,     0.63281,     0.63254,     0.63235,     0.63209,     0.63199,     0.63187,      0.6317,     0.63158,     0.63151,      0.6314,     0.63109,     0.63093,     0.63078,\n",
              "            0.63078,      0.6307,     0.63039,     0.63015,     0.62996,     0.62982,     0.62966,      0.6295,     0.62931,     0.62919,     0.62903,     0.62875,     0.62855,     0.62839,     0.62832,     0.62792,     0.62779,     0.62754,     0.62722,     0.62707,     0.62685,     0.62655,     0.62626,\n",
              "            0.62621,     0.62605,     0.62572,     0.62562,     0.62537,     0.62507,     0.62481,     0.62446,     0.62437,     0.62412,     0.62383,     0.62372,     0.62342,     0.62326,     0.62298,     0.62253,     0.62226,     0.62213,     0.62207,     0.62181,     0.62175,     0.62135,     0.62117,\n",
              "            0.62094,     0.62086,     0.62051,     0.62017,     0.61991,     0.61941,     0.61915,     0.61864,     0.61835,     0.61807,      0.6177,     0.61744,     0.61677,     0.61658,     0.61629,     0.61575,     0.61555,     0.61544,     0.61515,     0.61488,     0.61447,     0.61427,     0.61385,\n",
              "             0.6135,     0.61338,      0.6131,     0.61282,      0.6125,     0.61223,     0.61199,     0.61182,     0.61155,     0.61141,     0.61097,     0.61068,     0.61044,     0.61002,     0.60969,     0.60943,     0.60895,     0.60867,     0.60841,     0.60814,     0.60781,     0.60731,     0.60696,\n",
              "            0.60646,     0.60621,     0.60562,     0.60548,     0.60508,     0.60492,     0.60468,     0.60441,     0.60381,     0.60325,     0.60263,     0.60208,     0.60185,     0.60144,     0.60113,     0.60075,     0.60057,     0.60032,     0.60005,     0.59967,      0.5993,     0.59899,     0.59858,\n",
              "            0.59806,     0.59772,     0.59745,     0.59703,     0.59659,     0.59622,      0.5959,     0.59541,     0.59484,      0.5944,     0.59403,     0.59365,     0.59328,     0.59244,     0.59197,     0.59163,     0.59118,     0.59081,     0.59056,     0.59021,     0.58989,     0.58943,       0.589,\n",
              "            0.58859,     0.58814,     0.58768,     0.58736,     0.58691,     0.58668,     0.58616,     0.58567,     0.58526,     0.58488,     0.58438,       0.584,     0.58367,     0.58328,     0.58288,     0.58264,      0.5822,     0.58177,     0.58147,     0.58104,      0.5802,     0.57977,     0.57927,\n",
              "            0.57857,     0.57826,     0.57777,     0.57753,      0.5771,     0.57673,     0.57628,     0.57568,     0.57521,     0.57467,     0.57435,     0.57404,     0.57371,     0.57329,      0.5729,     0.57256,     0.57217,     0.57162,      0.5712,     0.57062,     0.57013,     0.56954,     0.56905,\n",
              "            0.56864,     0.56842,     0.56804,     0.56737,      0.5669,     0.56644,     0.56591,     0.56528,     0.56476,      0.5641,     0.56366,     0.56328,     0.56277,     0.56253,     0.56167,     0.56128,     0.56077,     0.56018,     0.55973,     0.55935,     0.55874,     0.55812,     0.55758,\n",
              "            0.55712,     0.55668,       0.556,     0.55515,     0.55482,     0.55418,     0.55368,     0.55302,     0.55257,     0.55205,     0.55162,     0.55124,     0.55071,     0.55016,     0.54957,     0.54918,     0.54852,     0.54793,     0.54766,     0.54713,     0.54653,     0.54602,     0.54534,\n",
              "             0.5449,     0.54456,     0.54412,     0.54376,     0.54305,     0.54173,     0.54116,     0.54029,      0.5397,     0.53925,     0.53866,      0.5379,     0.53729,     0.53692,     0.53624,      0.5357,     0.53508,     0.53464,     0.53402,     0.53331,     0.53286,     0.53217,      0.5317,\n",
              "            0.53117,     0.53065,     0.52999,     0.52971,      0.5292,     0.52786,     0.52733,     0.52655,       0.526,     0.52568,     0.52511,     0.52428,     0.52357,     0.52305,     0.52231,     0.52155,     0.52096,     0.52028,     0.51962,     0.51888,     0.51842,     0.51713,     0.51667,\n",
              "            0.51604,     0.51547,     0.51489,     0.51423,     0.51362,     0.51296,     0.51244,      0.5117,     0.51106,      0.5096,     0.50896,      0.5083,     0.50783,     0.50726,      0.5068,     0.50614,     0.50541,     0.50488,     0.50424,     0.50337,     0.50273,     0.50222,      0.5007,\n",
              "            0.49977,      0.4992,     0.49857,     0.49791,      0.4973,      0.4966,     0.49561,     0.49509,     0.49476,     0.49402,     0.49314,     0.49191,     0.49123,      0.4907,     0.48995,     0.48909,     0.48846,     0.48788,     0.48726,     0.48589,     0.48495,      0.4845,      0.4838,\n",
              "            0.48256,      0.4821,     0.48126,     0.48043,     0.47963,     0.47823,     0.47752,     0.47697,     0.47612,     0.47528,     0.47451,      0.4735,     0.47295,     0.47232,     0.47056,     0.46971,     0.46904,     0.46837,     0.46661,     0.46612,     0.46551,     0.46483,     0.46428,\n",
              "             0.4633,     0.46274,     0.46208,     0.46061,     0.45991,     0.45933,     0.45832,     0.45772,     0.45672,     0.45608,     0.45448,     0.45373,     0.45302,     0.45134,     0.45033,     0.44953,     0.44874,     0.44776,     0.44761,     0.44622,     0.44502,     0.44499,     0.44359,\n",
              "            0.44352,     0.44161,     0.44155,     0.43981,     0.43828,     0.43824,     0.43651,     0.43623,     0.43514,     0.43372,     0.43212,     0.43191,     0.43032,     0.43024,     0.42849,     0.42645,     0.42639,     0.42476,     0.42466,     0.42278,     0.42131,     0.42121,     0.41996,\n",
              "             0.4198,     0.41795,     0.41611,     0.41597,     0.41389,     0.41368,     0.41188,     0.41018,     0.40803,     0.40784,     0.40587,     0.40577,     0.40327,     0.40131,     0.40101,     0.39929,     0.39764,      0.3976,     0.39541,     0.39352,     0.39344,     0.39142,     0.39132,\n",
              "            0.38938,      0.3875,      0.3874,     0.38539,     0.38348,     0.38141,     0.38129,     0.37941,      0.3772,     0.37707,     0.37523,     0.37285,     0.37271,     0.37096,     0.36904,     0.36893,     0.36684,     0.36453,     0.36425,     0.36176,     0.35889,     0.35878,     0.35652,\n",
              "              0.354,     0.35161,     0.35142,     0.34894,     0.34637,     0.34351,     0.34333,     0.34083,     0.33814,     0.33783,     0.33504,     0.33245,     0.33227,     0.32972,     0.32788,     0.32525,     0.32505,     0.32212,     0.31878,     0.31867,     0.31481,     0.31184,     0.30924,\n",
              "            0.30564,     0.30534,     0.30279,     0.29984,     0.29638,     0.29611,       0.293,     0.29001,     0.28651,     0.28628,     0.28274,     0.28005,     0.27628,     0.27598,     0.27205,     0.26856,     0.26532,     0.26119,     0.25713,     0.25353,      0.2531,     0.24894,     0.24447,\n",
              "            0.24004,     0.23653,      0.2362,     0.23232,     0.22824,     0.22333,     0.21924,     0.21883,     0.21434,     0.20944,     0.20508,     0.20085,     0.19674,     0.19659,      0.1924,      0.1833,     0.18304,      0.1787,     0.17401,     0.16969,     0.16484,     0.16011,     0.15554,\n",
              "            0.15502,     0.15033,     0.14518,     0.14014,     0.13593,     0.13111,     0.12727,     0.12288,     0.11901,     0.11455,     0.11399,     0.10977,     0.10326,    0.099397,    0.095472,    0.091714,    0.088355,    0.084668,    0.084289,    0.080162,    0.077229,    0.073445,    0.070116,\n",
              "           0.067434,    0.064273,    0.061386,     0.05811,    0.055729,    0.053103,    0.050613,    0.048165,    0.045904,    0.041609,    0.039768,    0.037584,    0.035687,    0.034322,    0.032614,    0.030659,    0.029042,     0.02595,    0.024965,    0.023684,    0.022351,    0.020721,    0.019385,\n",
              "           0.017799,    0.016756,    0.015662,    0.014667,    0.014019,    0.012922,    0.012272,    0.011274,    0.010623,    0.010221,   0.0092203,   0.0086683,   0.0078159,   0.0070628,   0.0062591,   0.0058558,   0.0053019,   0.0046473,   0.0043939,   0.0040902,   0.0038366,   0.0035328,   0.0031283,\n",
              "          0.0027237,   0.0025187,   0.0021655,   0.0018108,   0.0014836,   0.0011047,  0.00099785,  0.00080005,  0.00065015,  0.00061573,  0.00034882,  0.00032816,   0.0003075,  0.00019245,  0.00015801,  0.00014745,  0.00014275,  0.00013805,  0.00013336,  0.00012866,  0.00012396,  0.00011927,  0.00011457,\n",
              "         0.00010987,  0.00010518,  9.3448e-05,           0,           0,           0,           0,           0,           0,           0,           0,           0,           0,           0,           0,           0,           0,           0,           0,           0,           0,           0,           0,\n",
              "                  0,           0,           0,           0,           0,           0,           0,           0,           0,           0,           0,           0,           0,           0,           0,           0,           0,           0,           0,           0,           0,           0,           0,\n",
              "                  0,           0,           0,           0,           0,           0,           0,           0,           0,           0,           0,           0,           0,           0,           0,           0,           0,           0,           0,           0,           0,           0,           0,\n",
              "                  0,           0,           0,           0,           0,           0,           0,           0,           0,           0,           0]]), 'Confidence', 'F1'], [array([          0,    0.001001,    0.002002,    0.003003,    0.004004,    0.005005,    0.006006,    0.007007,    0.008008,    0.009009,     0.01001,    0.011011,    0.012012,    0.013013,    0.014014,    0.015015,    0.016016,    0.017017,    0.018018,    0.019019,     0.02002,    0.021021,    0.022022,    0.023023,\n",
              "          0.024024,    0.025025,    0.026026,    0.027027,    0.028028,    0.029029,     0.03003,    0.031031,    0.032032,    0.033033,    0.034034,    0.035035,    0.036036,    0.037037,    0.038038,    0.039039,     0.04004,    0.041041,    0.042042,    0.043043,    0.044044,    0.045045,    0.046046,    0.047047,\n",
              "          0.048048,    0.049049,     0.05005,    0.051051,    0.052052,    0.053053,    0.054054,    0.055055,    0.056056,    0.057057,    0.058058,    0.059059,     0.06006,    0.061061,    0.062062,    0.063063,    0.064064,    0.065065,    0.066066,    0.067067,    0.068068,    0.069069,     0.07007,    0.071071,\n",
              "          0.072072,    0.073073,    0.074074,    0.075075,    0.076076,    0.077077,    0.078078,    0.079079,     0.08008,    0.081081,    0.082082,    0.083083,    0.084084,    0.085085,    0.086086,    0.087087,    0.088088,    0.089089,     0.09009,    0.091091,    0.092092,    0.093093,    0.094094,    0.095095,\n",
              "          0.096096,    0.097097,    0.098098,    0.099099,      0.1001,      0.1011,      0.1021,      0.1031,      0.1041,     0.10511,     0.10611,     0.10711,     0.10811,     0.10911,     0.11011,     0.11111,     0.11211,     0.11311,     0.11411,     0.11512,     0.11612,     0.11712,     0.11812,     0.11912,\n",
              "           0.12012,     0.12112,     0.12212,     0.12312,     0.12412,     0.12513,     0.12613,     0.12713,     0.12813,     0.12913,     0.13013,     0.13113,     0.13213,     0.13313,     0.13413,     0.13514,     0.13614,     0.13714,     0.13814,     0.13914,     0.14014,     0.14114,     0.14214,     0.14314,\n",
              "           0.14414,     0.14515,     0.14615,     0.14715,     0.14815,     0.14915,     0.15015,     0.15115,     0.15215,     0.15315,     0.15415,     0.15516,     0.15616,     0.15716,     0.15816,     0.15916,     0.16016,     0.16116,     0.16216,     0.16316,     0.16416,     0.16517,     0.16617,     0.16717,\n",
              "           0.16817,     0.16917,     0.17017,     0.17117,     0.17217,     0.17317,     0.17417,     0.17518,     0.17618,     0.17718,     0.17818,     0.17918,     0.18018,     0.18118,     0.18218,     0.18318,     0.18418,     0.18519,     0.18619,     0.18719,     0.18819,     0.18919,     0.19019,     0.19119,\n",
              "           0.19219,     0.19319,     0.19419,      0.1952,      0.1962,      0.1972,      0.1982,      0.1992,      0.2002,      0.2012,      0.2022,      0.2032,      0.2042,     0.20521,     0.20621,     0.20721,     0.20821,     0.20921,     0.21021,     0.21121,     0.21221,     0.21321,     0.21421,     0.21522,\n",
              "           0.21622,     0.21722,     0.21822,     0.21922,     0.22022,     0.22122,     0.22222,     0.22322,     0.22422,     0.22523,     0.22623,     0.22723,     0.22823,     0.22923,     0.23023,     0.23123,     0.23223,     0.23323,     0.23423,     0.23524,     0.23624,     0.23724,     0.23824,     0.23924,\n",
              "           0.24024,     0.24124,     0.24224,     0.24324,     0.24424,     0.24525,     0.24625,     0.24725,     0.24825,     0.24925,     0.25025,     0.25125,     0.25225,     0.25325,     0.25425,     0.25526,     0.25626,     0.25726,     0.25826,     0.25926,     0.26026,     0.26126,     0.26226,     0.26326,\n",
              "           0.26426,     0.26527,     0.26627,     0.26727,     0.26827,     0.26927,     0.27027,     0.27127,     0.27227,     0.27327,     0.27427,     0.27528,     0.27628,     0.27728,     0.27828,     0.27928,     0.28028,     0.28128,     0.28228,     0.28328,     0.28428,     0.28529,     0.28629,     0.28729,\n",
              "           0.28829,     0.28929,     0.29029,     0.29129,     0.29229,     0.29329,     0.29429,      0.2953,      0.2963,      0.2973,      0.2983,      0.2993,      0.3003,      0.3013,      0.3023,      0.3033,      0.3043,     0.30531,     0.30631,     0.30731,     0.30831,     0.30931,     0.31031,     0.31131,\n",
              "           0.31231,     0.31331,     0.31431,     0.31532,     0.31632,     0.31732,     0.31832,     0.31932,     0.32032,     0.32132,     0.32232,     0.32332,     0.32432,     0.32533,     0.32633,     0.32733,     0.32833,     0.32933,     0.33033,     0.33133,     0.33233,     0.33333,     0.33433,     0.33534,\n",
              "           0.33634,     0.33734,     0.33834,     0.33934,     0.34034,     0.34134,     0.34234,     0.34334,     0.34434,     0.34535,     0.34635,     0.34735,     0.34835,     0.34935,     0.35035,     0.35135,     0.35235,     0.35335,     0.35435,     0.35536,     0.35636,     0.35736,     0.35836,     0.35936,\n",
              "           0.36036,     0.36136,     0.36236,     0.36336,     0.36436,     0.36537,     0.36637,     0.36737,     0.36837,     0.36937,     0.37037,     0.37137,     0.37237,     0.37337,     0.37437,     0.37538,     0.37638,     0.37738,     0.37838,     0.37938,     0.38038,     0.38138,     0.38238,     0.38338,\n",
              "           0.38438,     0.38539,     0.38639,     0.38739,     0.38839,     0.38939,     0.39039,     0.39139,     0.39239,     0.39339,     0.39439,      0.3954,      0.3964,      0.3974,      0.3984,      0.3994,      0.4004,      0.4014,      0.4024,      0.4034,      0.4044,     0.40541,     0.40641,     0.40741,\n",
              "           0.40841,     0.40941,     0.41041,     0.41141,     0.41241,     0.41341,     0.41441,     0.41542,     0.41642,     0.41742,     0.41842,     0.41942,     0.42042,     0.42142,     0.42242,     0.42342,     0.42442,     0.42543,     0.42643,     0.42743,     0.42843,     0.42943,     0.43043,     0.43143,\n",
              "           0.43243,     0.43343,     0.43443,     0.43544,     0.43644,     0.43744,     0.43844,     0.43944,     0.44044,     0.44144,     0.44244,     0.44344,     0.44444,     0.44545,     0.44645,     0.44745,     0.44845,     0.44945,     0.45045,     0.45145,     0.45245,     0.45345,     0.45445,     0.45546,\n",
              "           0.45646,     0.45746,     0.45846,     0.45946,     0.46046,     0.46146,     0.46246,     0.46346,     0.46446,     0.46547,     0.46647,     0.46747,     0.46847,     0.46947,     0.47047,     0.47147,     0.47247,     0.47347,     0.47447,     0.47548,     0.47648,     0.47748,     0.47848,     0.47948,\n",
              "           0.48048,     0.48148,     0.48248,     0.48348,     0.48448,     0.48549,     0.48649,     0.48749,     0.48849,     0.48949,     0.49049,     0.49149,     0.49249,     0.49349,     0.49449,      0.4955,      0.4965,      0.4975,      0.4985,      0.4995,      0.5005,      0.5015,      0.5025,      0.5035,\n",
              "            0.5045,     0.50551,     0.50651,     0.50751,     0.50851,     0.50951,     0.51051,     0.51151,     0.51251,     0.51351,     0.51451,     0.51552,     0.51652,     0.51752,     0.51852,     0.51952,     0.52052,     0.52152,     0.52252,     0.52352,     0.52452,     0.52553,     0.52653,     0.52753,\n",
              "           0.52853,     0.52953,     0.53053,     0.53153,     0.53253,     0.53353,     0.53453,     0.53554,     0.53654,     0.53754,     0.53854,     0.53954,     0.54054,     0.54154,     0.54254,     0.54354,     0.54454,     0.54555,     0.54655,     0.54755,     0.54855,     0.54955,     0.55055,     0.55155,\n",
              "           0.55255,     0.55355,     0.55455,     0.55556,     0.55656,     0.55756,     0.55856,     0.55956,     0.56056,     0.56156,     0.56256,     0.56356,     0.56456,     0.56557,     0.56657,     0.56757,     0.56857,     0.56957,     0.57057,     0.57157,     0.57257,     0.57357,     0.57457,     0.57558,\n",
              "           0.57658,     0.57758,     0.57858,     0.57958,     0.58058,     0.58158,     0.58258,     0.58358,     0.58458,     0.58559,     0.58659,     0.58759,     0.58859,     0.58959,     0.59059,     0.59159,     0.59259,     0.59359,     0.59459,      0.5956,      0.5966,      0.5976,      0.5986,      0.5996,\n",
              "            0.6006,      0.6016,      0.6026,      0.6036,      0.6046,     0.60561,     0.60661,     0.60761,     0.60861,     0.60961,     0.61061,     0.61161,     0.61261,     0.61361,     0.61461,     0.61562,     0.61662,     0.61762,     0.61862,     0.61962,     0.62062,     0.62162,     0.62262,     0.62362,\n",
              "           0.62462,     0.62563,     0.62663,     0.62763,     0.62863,     0.62963,     0.63063,     0.63163,     0.63263,     0.63363,     0.63463,     0.63564,     0.63664,     0.63764,     0.63864,     0.63964,     0.64064,     0.64164,     0.64264,     0.64364,     0.64464,     0.64565,     0.64665,     0.64765,\n",
              "           0.64865,     0.64965,     0.65065,     0.65165,     0.65265,     0.65365,     0.65465,     0.65566,     0.65666,     0.65766,     0.65866,     0.65966,     0.66066,     0.66166,     0.66266,     0.66366,     0.66466,     0.66567,     0.66667,     0.66767,     0.66867,     0.66967,     0.67067,     0.67167,\n",
              "           0.67267,     0.67367,     0.67467,     0.67568,     0.67668,     0.67768,     0.67868,     0.67968,     0.68068,     0.68168,     0.68268,     0.68368,     0.68468,     0.68569,     0.68669,     0.68769,     0.68869,     0.68969,     0.69069,     0.69169,     0.69269,     0.69369,     0.69469,      0.6957,\n",
              "            0.6967,      0.6977,      0.6987,      0.6997,      0.7007,      0.7017,      0.7027,      0.7037,      0.7047,     0.70571,     0.70671,     0.70771,     0.70871,     0.70971,     0.71071,     0.71171,     0.71271,     0.71371,     0.71471,     0.71572,     0.71672,     0.71772,     0.71872,     0.71972,\n",
              "           0.72072,     0.72172,     0.72272,     0.72372,     0.72472,     0.72573,     0.72673,     0.72773,     0.72873,     0.72973,     0.73073,     0.73173,     0.73273,     0.73373,     0.73473,     0.73574,     0.73674,     0.73774,     0.73874,     0.73974,     0.74074,     0.74174,     0.74274,     0.74374,\n",
              "           0.74474,     0.74575,     0.74675,     0.74775,     0.74875,     0.74975,     0.75075,     0.75175,     0.75275,     0.75375,     0.75475,     0.75576,     0.75676,     0.75776,     0.75876,     0.75976,     0.76076,     0.76176,     0.76276,     0.76376,     0.76476,     0.76577,     0.76677,     0.76777,\n",
              "           0.76877,     0.76977,     0.77077,     0.77177,     0.77277,     0.77377,     0.77477,     0.77578,     0.77678,     0.77778,     0.77878,     0.77978,     0.78078,     0.78178,     0.78278,     0.78378,     0.78478,     0.78579,     0.78679,     0.78779,     0.78879,     0.78979,     0.79079,     0.79179,\n",
              "           0.79279,     0.79379,     0.79479,      0.7958,      0.7968,      0.7978,      0.7988,      0.7998,      0.8008,      0.8018,      0.8028,      0.8038,      0.8048,     0.80581,     0.80681,     0.80781,     0.80881,     0.80981,     0.81081,     0.81181,     0.81281,     0.81381,     0.81481,     0.81582,\n",
              "           0.81682,     0.81782,     0.81882,     0.81982,     0.82082,     0.82182,     0.82282,     0.82382,     0.82482,     0.82583,     0.82683,     0.82783,     0.82883,     0.82983,     0.83083,     0.83183,     0.83283,     0.83383,     0.83483,     0.83584,     0.83684,     0.83784,     0.83884,     0.83984,\n",
              "           0.84084,     0.84184,     0.84284,     0.84384,     0.84484,     0.84585,     0.84685,     0.84785,     0.84885,     0.84985,     0.85085,     0.85185,     0.85285,     0.85385,     0.85485,     0.85586,     0.85686,     0.85786,     0.85886,     0.85986,     0.86086,     0.86186,     0.86286,     0.86386,\n",
              "           0.86486,     0.86587,     0.86687,     0.86787,     0.86887,     0.86987,     0.87087,     0.87187,     0.87287,     0.87387,     0.87487,     0.87588,     0.87688,     0.87788,     0.87888,     0.87988,     0.88088,     0.88188,     0.88288,     0.88388,     0.88488,     0.88589,     0.88689,     0.88789,\n",
              "           0.88889,     0.88989,     0.89089,     0.89189,     0.89289,     0.89389,     0.89489,      0.8959,      0.8969,      0.8979,      0.8989,      0.8999,      0.9009,      0.9019,      0.9029,      0.9039,      0.9049,     0.90591,     0.90691,     0.90791,     0.90891,     0.90991,     0.91091,     0.91191,\n",
              "           0.91291,     0.91391,     0.91491,     0.91592,     0.91692,     0.91792,     0.91892,     0.91992,     0.92092,     0.92192,     0.92292,     0.92392,     0.92492,     0.92593,     0.92693,     0.92793,     0.92893,     0.92993,     0.93093,     0.93193,     0.93293,     0.93393,     0.93493,     0.93594,\n",
              "           0.93694,     0.93794,     0.93894,     0.93994,     0.94094,     0.94194,     0.94294,     0.94394,     0.94494,     0.94595,     0.94695,     0.94795,     0.94895,     0.94995,     0.95095,     0.95195,     0.95295,     0.95395,     0.95495,     0.95596,     0.95696,     0.95796,     0.95896,     0.95996,\n",
              "           0.96096,     0.96196,     0.96296,     0.96396,     0.96496,     0.96597,     0.96697,     0.96797,     0.96897,     0.96997,     0.97097,     0.97197,     0.97297,     0.97397,     0.97497,     0.97598,     0.97698,     0.97798,     0.97898,     0.97998,     0.98098,     0.98198,     0.98298,     0.98398,\n",
              "           0.98498,     0.98599,     0.98699,     0.98799,     0.98899,     0.98999,     0.99099,     0.99199,     0.99299,     0.99399,     0.99499,       0.996,       0.997,       0.998,       0.999,           1]), array([[   0.092506,    0.092506,     0.11859,     0.13813,     0.15394,     0.16751,     0.17983,     0.19085,     0.20159,     0.21127,     0.22058,      0.2292,     0.23744,     0.24476,     0.25265,     0.25975,      0.2663,     0.27306,     0.27967,      0.2859,     0.29183,     0.29782,     0.30354,\n",
              "            0.30925,     0.31491,     0.32052,     0.32585,     0.33115,     0.33608,     0.34093,     0.34607,     0.35116,     0.35564,     0.36052,     0.36518,     0.36987,     0.37464,     0.37898,     0.38403,     0.38813,     0.39252,     0.39707,     0.40108,     0.40564,     0.40972,     0.41335,\n",
              "            0.41716,     0.42075,     0.42492,     0.42886,     0.43287,     0.43639,     0.44079,     0.44405,     0.44796,     0.45181,     0.45571,     0.45896,      0.4629,     0.46635,     0.46988,     0.47395,     0.47717,     0.48103,     0.48449,     0.48762,     0.49092,     0.49402,     0.49835,\n",
              "            0.50183,     0.50522,     0.50828,     0.51092,     0.51417,     0.51756,     0.52072,     0.52325,     0.52682,     0.52997,     0.53306,     0.53675,     0.53936,     0.54199,      0.5453,     0.54784,     0.55151,     0.55384,     0.55629,     0.55898,     0.56124,      0.5646,     0.56715,\n",
              "            0.56932,      0.5719,     0.57442,     0.57705,     0.57943,     0.58203,     0.58449,     0.58616,     0.58862,     0.59137,     0.59383,     0.59676,     0.59857,     0.60115,     0.60382,      0.6058,     0.60741,     0.60959,     0.61199,     0.61375,     0.61624,      0.6185,     0.62127,\n",
              "            0.62286,     0.62513,     0.62687,     0.62913,     0.63074,     0.63308,     0.63504,     0.63691,     0.63961,     0.64172,     0.64417,     0.64579,     0.64724,     0.64934,     0.65115,     0.65292,     0.65492,     0.65706,     0.65889,     0.66068,     0.66254,     0.66475,      0.6662,\n",
              "            0.66797,     0.66938,     0.67092,     0.67273,     0.67436,     0.67607,     0.67785,     0.68039,     0.68191,     0.68342,     0.68512,     0.68694,     0.68855,     0.68987,     0.69147,     0.69303,     0.69446,     0.69579,     0.69799,     0.69969,     0.70061,     0.70191,     0.70366,\n",
              "            0.70528,     0.70721,     0.70889,      0.7104,     0.71193,     0.71354,     0.71439,     0.71592,      0.7179,      0.7197,     0.72124,     0.72299,     0.72367,     0.72552,     0.72731,     0.72869,      0.7295,     0.73115,     0.73292,     0.73438,     0.73521,     0.73702,     0.73865,\n",
              "            0.73931,     0.74114,       0.743,     0.74486,     0.74593,     0.74762,     0.74915,     0.74988,     0.75125,     0.75284,     0.75351,     0.75488,     0.75653,     0.75748,      0.7593,     0.76003,       0.762,      0.7638,     0.76457,     0.76612,     0.76717,     0.76915,     0.76969,\n",
              "             0.7712,     0.77278,     0.77328,      0.7746,     0.77568,      0.7771,     0.77781,     0.77924,     0.77994,     0.78191,     0.78265,     0.78431,     0.78519,     0.78662,     0.78737,       0.789,     0.78989,     0.79124,      0.7921,     0.79354,       0.794,     0.79538,     0.79592,\n",
              "             0.7975,     0.79825,     0.79894,     0.80091,      0.8016,     0.80306,     0.80392,     0.80536,     0.80609,     0.80651,     0.80775,     0.80821,     0.80958,      0.8103,     0.81092,     0.81194,     0.81263,     0.81344,     0.81491,     0.81565,     0.81706,     0.81765,     0.81816,\n",
              "            0.81972,     0.82007,     0.82083,     0.82209,     0.82278,     0.82349,      0.8249,     0.82549,     0.82709,     0.82769,     0.82821,     0.82919,     0.83037,     0.83141,     0.83211,     0.83291,      0.8335,     0.83451,     0.83591,     0.83708,     0.83794,     0.83888,     0.84033,\n",
              "             0.8407,     0.84119,     0.84193,     0.84374,     0.84445,     0.84552,     0.84684,     0.84746,     0.84794,     0.84848,     0.84967,      0.8503,     0.85073,     0.85133,      0.8527,     0.85355,     0.85409,     0.85482,     0.85617,     0.85712,     0.85768,      0.8584,      0.8589,\n",
              "            0.86002,     0.86059,     0.86132,     0.86189,     0.86263,     0.86331,       0.864,     0.86465,     0.86503,     0.86621,     0.86694,     0.86724,     0.86791,     0.86959,     0.87018,      0.8708,     0.87145,     0.87225,     0.87293,     0.87363,     0.87457,     0.87538,     0.87588,\n",
              "             0.8766,      0.8771,     0.87818,     0.87875,     0.87924,     0.87971,     0.87999,     0.88053,     0.88179,      0.8823,     0.88291,     0.88336,     0.88399,     0.88452,     0.88507,     0.88609,     0.88675,     0.88733,      0.8877,     0.88823,     0.88862,     0.89022,     0.89035,\n",
              "            0.89117,     0.89159,     0.89221,      0.8929,     0.89336,     0.89465,      0.8952,      0.8956,     0.89627,     0.89694,     0.89726,     0.89775,     0.89827,     0.89912,     0.89967,     0.90068,     0.90087,     0.90155,     0.90214,     0.90262,      0.9031,     0.90339,     0.90389,\n",
              "            0.90439,     0.90508,     0.90609,     0.90658,     0.90698,     0.90722,      0.9078,     0.90787,     0.90832,     0.90877,     0.90943,     0.90993,     0.91074,     0.91119,      0.9116,     0.91207,     0.91247,     0.91291,     0.91359,     0.91383,     0.91416,     0.91443,     0.91545,\n",
              "            0.91631,     0.91686,      0.9173,     0.91804,     0.91825,      0.9188,     0.91919,     0.91974,     0.92027,     0.92091,     0.92134,     0.92169,      0.9221,     0.92236,      0.9228,      0.9233,     0.92445,     0.92501,     0.92551,     0.92594,     0.92643,     0.92676,     0.92726,\n",
              "            0.92753,     0.92784,     0.92826,     0.92897,      0.9293,     0.92978,     0.93037,     0.93094,     0.93113,       0.932,     0.93224,     0.93258,     0.93293,     0.93345,     0.93379,     0.93402,     0.93447,     0.93487,     0.93536,     0.93576,     0.93623,     0.93682,      0.9372,\n",
              "            0.93742,     0.93791,     0.93832,     0.93855,     0.93894,     0.93903,     0.93939,     0.93952,     0.93974,     0.94003,     0.94043,     0.94073,     0.94113,     0.94193,     0.94232,     0.94253,     0.94287,     0.94318,     0.94376,     0.94418,     0.94467,      0.9452,     0.94546,\n",
              "            0.94574,     0.94597,     0.94617,     0.94639,     0.94665,     0.94698,     0.94732,     0.94759,     0.94785,     0.94812,     0.94843,      0.9487,     0.94929,     0.94951,     0.94999,     0.95028,     0.95061,     0.95093,     0.95116,     0.95159,     0.95214,     0.95236,      0.9528,\n",
              "            0.95299,     0.95344,     0.95398,     0.95439,     0.95512,     0.95556,      0.9559,     0.95611,     0.95639,     0.95667,     0.95697,     0.95743,     0.95796,     0.95797,     0.95815,     0.95846,     0.95856,     0.95875,     0.95897,     0.95916,     0.95951,     0.95985,     0.96031,\n",
              "            0.96084,      0.9612,     0.96141,     0.96146,     0.96176,       0.962,     0.96246,     0.96288,     0.96323,     0.96335,     0.96343,     0.96368,     0.96381,      0.9642,     0.96465,     0.96503,     0.96563,     0.96593,     0.96613,     0.96645,     0.96676,     0.96689,     0.96698,\n",
              "            0.96716,     0.96743,     0.96749,     0.96779,     0.96794,     0.96801,     0.96821,     0.96858,     0.96867,      0.9689,     0.96933,     0.96972,     0.96981,     0.96995,     0.97015,     0.97061,     0.97069,     0.97099,     0.97136,     0.97164,     0.97178,     0.97218,     0.97232,\n",
              "            0.97254,      0.9727,     0.97292,     0.97309,     0.97342,     0.97383,     0.97405,     0.97418,     0.97427,     0.97431,     0.97469,      0.9748,     0.97495,     0.97531,     0.97553,     0.97569,     0.97597,     0.97608,     0.97636,     0.97658,     0.97681,     0.97704,     0.97747,\n",
              "            0.97783,     0.97813,     0.97822,     0.97847,     0.97871,      0.9791,     0.97967,     0.97967,     0.97974,     0.97992,     0.98009,     0.98019,     0.98035,     0.98046,     0.98063,       0.981,      0.9811,     0.98153,     0.98199,     0.98203,     0.98227,     0.98312,     0.98317,\n",
              "            0.98335,     0.98339,     0.98358,     0.98376,     0.98394,     0.98399,     0.98403,       0.984,     0.98419,     0.98435,     0.98454,     0.98478,     0.98505,     0.98517,     0.98517,     0.98534,     0.98546,     0.98551,     0.98563,     0.98559,     0.98564,     0.98598,     0.98622,\n",
              "            0.98641,     0.98653,     0.98665,     0.98663,     0.98683,      0.9871,     0.98729,     0.98747,      0.9877,     0.98776,     0.98795,     0.98799,     0.98826,     0.98832,      0.9883,     0.98827,     0.98833,     0.98853,     0.98859,      0.9887,     0.98875,     0.98881,     0.98879,\n",
              "            0.98883,      0.9889,     0.98887,     0.98892,     0.98898,     0.98909,     0.98915,     0.98921,     0.98942,     0.98955,     0.98969,     0.98982,     0.98988,     0.98994,     0.99029,     0.99035,     0.99041,     0.99048,     0.99059,     0.99074,     0.99081,     0.99079,     0.99102,\n",
              "            0.99108,     0.99106,     0.99129,     0.99159,     0.99165,      0.9918,     0.99195,     0.99193,     0.99216,     0.99231,     0.99236,     0.99235,     0.99241,     0.99263,     0.99278,     0.99285,     0.99283,      0.9929,      0.9929,     0.99296,     0.99319,     0.99319,     0.99334,\n",
              "            0.99334,     0.99339,     0.99338,     0.99353,     0.99359,     0.99359,     0.99382,     0.99382,      0.9938,     0.99413,     0.99428,     0.99437,     0.99461,     0.99461,     0.99477,      0.9951,      0.9951,     0.99508,     0.99508,     0.99505,     0.99521,     0.99521,     0.99538,\n",
              "            0.99538,     0.99545,     0.99552,     0.99551,     0.99558,     0.99567,     0.99565,     0.99582,     0.99618,     0.99618,     0.99645,     0.99645,     0.99662,      0.9967,      0.9967,     0.99678,     0.99676,     0.99676,     0.99694,     0.99703,     0.99703,     0.99711,     0.99711,\n",
              "            0.99709,     0.99707,     0.99707,     0.99716,     0.99735,     0.99733,     0.99733,     0.99732,      0.9973,      0.9973,     0.99728,     0.99737,     0.99737,     0.99735,     0.99734,     0.99733,     0.99732,      0.9973,     0.99729,     0.99738,     0.99747,     0.99747,     0.99745,\n",
              "            0.99766,     0.99776,     0.99776,     0.99786,     0.99796,     0.99806,     0.99806,     0.99804,     0.99815,     0.99827,     0.99825,     0.99836,     0.99836,     0.99834,     0.99833,     0.99832,     0.99832,     0.99843,     0.99841,     0.99841,     0.99838,     0.99837,     0.99849,\n",
              "            0.99847,     0.99846,     0.99887,     0.99886,     0.99884,     0.99884,     0.99883,     0.99881,      0.9988,     0.99879,     0.99893,     0.99892,      0.9989,     0.99906,      0.9992,     0.99919,     0.99918,     0.99916,     0.99915,     0.99948,     0.99948,     0.99947,     0.99946,\n",
              "            0.99945,     0.99944,     0.99944,     0.99962,     0.99961,      0.9996,           1,           1,           1,           1,           1,           1,           1,           1,           1,           1,           1,           1,           1,           1,           1,           1,           1,\n",
              "                  1,           1,           1,           1,           1,           1,           1,           1,           1,           1,           1,           1,           1,           1,           1,           1,           1,           1,           1,           1,           1,           1,           1,\n",
              "                  1,           1,           1,           1,           1,           1,           1,           1,           1,           1,           1,           1,           1,           1,           1,           1,           1,           1,           1,           1,           1,           1,           1,\n",
              "                  1,           1,           1,           1,           1,           1,           1,           1,           1,           1,           1,           1,           1,           1,           1,           1,           1,           1,           1,           1,           1,           1,           1,\n",
              "                  1,           1,           1,           1,           1,           1,           1,           1,           1,           1,           1,           1,           1,           1,           1,           1,           1,           1,           1,           1,           1,           1,           1,\n",
              "                  1,           1,           1,           1,           1,           1,           1,           1,           1,           1,           1,           1,           1,           1,           1,           1,           1,           1,           1,           1,           1,           1,           1,\n",
              "                  1,           1,           1,           1,           1,           1,           1,           1,           1,           1,           1,           1,           1,           1,           1,           1,           1,           1,           1,           1,           1,           1,           1,\n",
              "                  1,           1,           1,           1,           1,           1,           1,           1,           1,           1,           1,           1,           1,           1,           1,           1,           1,           1,           1,           1,           1,           1,           1,\n",
              "                  1,           1,           1,           1,           1,           1,           1,           1,           1,           1,           1]]), 'Confidence', 'Precision'], [array([          0,    0.001001,    0.002002,    0.003003,    0.004004,    0.005005,    0.006006,    0.007007,    0.008008,    0.009009,     0.01001,    0.011011,    0.012012,    0.013013,    0.014014,    0.015015,    0.016016,    0.017017,    0.018018,    0.019019,     0.02002,    0.021021,    0.022022,    0.023023,\n",
              "          0.024024,    0.025025,    0.026026,    0.027027,    0.028028,    0.029029,     0.03003,    0.031031,    0.032032,    0.033033,    0.034034,    0.035035,    0.036036,    0.037037,    0.038038,    0.039039,     0.04004,    0.041041,    0.042042,    0.043043,    0.044044,    0.045045,    0.046046,    0.047047,\n",
              "          0.048048,    0.049049,     0.05005,    0.051051,    0.052052,    0.053053,    0.054054,    0.055055,    0.056056,    0.057057,    0.058058,    0.059059,     0.06006,    0.061061,    0.062062,    0.063063,    0.064064,    0.065065,    0.066066,    0.067067,    0.068068,    0.069069,     0.07007,    0.071071,\n",
              "          0.072072,    0.073073,    0.074074,    0.075075,    0.076076,    0.077077,    0.078078,    0.079079,     0.08008,    0.081081,    0.082082,    0.083083,    0.084084,    0.085085,    0.086086,    0.087087,    0.088088,    0.089089,     0.09009,    0.091091,    0.092092,    0.093093,    0.094094,    0.095095,\n",
              "          0.096096,    0.097097,    0.098098,    0.099099,      0.1001,      0.1011,      0.1021,      0.1031,      0.1041,     0.10511,     0.10611,     0.10711,     0.10811,     0.10911,     0.11011,     0.11111,     0.11211,     0.11311,     0.11411,     0.11512,     0.11612,     0.11712,     0.11812,     0.11912,\n",
              "           0.12012,     0.12112,     0.12212,     0.12312,     0.12412,     0.12513,     0.12613,     0.12713,     0.12813,     0.12913,     0.13013,     0.13113,     0.13213,     0.13313,     0.13413,     0.13514,     0.13614,     0.13714,     0.13814,     0.13914,     0.14014,     0.14114,     0.14214,     0.14314,\n",
              "           0.14414,     0.14515,     0.14615,     0.14715,     0.14815,     0.14915,     0.15015,     0.15115,     0.15215,     0.15315,     0.15415,     0.15516,     0.15616,     0.15716,     0.15816,     0.15916,     0.16016,     0.16116,     0.16216,     0.16316,     0.16416,     0.16517,     0.16617,     0.16717,\n",
              "           0.16817,     0.16917,     0.17017,     0.17117,     0.17217,     0.17317,     0.17417,     0.17518,     0.17618,     0.17718,     0.17818,     0.17918,     0.18018,     0.18118,     0.18218,     0.18318,     0.18418,     0.18519,     0.18619,     0.18719,     0.18819,     0.18919,     0.19019,     0.19119,\n",
              "           0.19219,     0.19319,     0.19419,      0.1952,      0.1962,      0.1972,      0.1982,      0.1992,      0.2002,      0.2012,      0.2022,      0.2032,      0.2042,     0.20521,     0.20621,     0.20721,     0.20821,     0.20921,     0.21021,     0.21121,     0.21221,     0.21321,     0.21421,     0.21522,\n",
              "           0.21622,     0.21722,     0.21822,     0.21922,     0.22022,     0.22122,     0.22222,     0.22322,     0.22422,     0.22523,     0.22623,     0.22723,     0.22823,     0.22923,     0.23023,     0.23123,     0.23223,     0.23323,     0.23423,     0.23524,     0.23624,     0.23724,     0.23824,     0.23924,\n",
              "           0.24024,     0.24124,     0.24224,     0.24324,     0.24424,     0.24525,     0.24625,     0.24725,     0.24825,     0.24925,     0.25025,     0.25125,     0.25225,     0.25325,     0.25425,     0.25526,     0.25626,     0.25726,     0.25826,     0.25926,     0.26026,     0.26126,     0.26226,     0.26326,\n",
              "           0.26426,     0.26527,     0.26627,     0.26727,     0.26827,     0.26927,     0.27027,     0.27127,     0.27227,     0.27327,     0.27427,     0.27528,     0.27628,     0.27728,     0.27828,     0.27928,     0.28028,     0.28128,     0.28228,     0.28328,     0.28428,     0.28529,     0.28629,     0.28729,\n",
              "           0.28829,     0.28929,     0.29029,     0.29129,     0.29229,     0.29329,     0.29429,      0.2953,      0.2963,      0.2973,      0.2983,      0.2993,      0.3003,      0.3013,      0.3023,      0.3033,      0.3043,     0.30531,     0.30631,     0.30731,     0.30831,     0.30931,     0.31031,     0.31131,\n",
              "           0.31231,     0.31331,     0.31431,     0.31532,     0.31632,     0.31732,     0.31832,     0.31932,     0.32032,     0.32132,     0.32232,     0.32332,     0.32432,     0.32533,     0.32633,     0.32733,     0.32833,     0.32933,     0.33033,     0.33133,     0.33233,     0.33333,     0.33433,     0.33534,\n",
              "           0.33634,     0.33734,     0.33834,     0.33934,     0.34034,     0.34134,     0.34234,     0.34334,     0.34434,     0.34535,     0.34635,     0.34735,     0.34835,     0.34935,     0.35035,     0.35135,     0.35235,     0.35335,     0.35435,     0.35536,     0.35636,     0.35736,     0.35836,     0.35936,\n",
              "           0.36036,     0.36136,     0.36236,     0.36336,     0.36436,     0.36537,     0.36637,     0.36737,     0.36837,     0.36937,     0.37037,     0.37137,     0.37237,     0.37337,     0.37437,     0.37538,     0.37638,     0.37738,     0.37838,     0.37938,     0.38038,     0.38138,     0.38238,     0.38338,\n",
              "           0.38438,     0.38539,     0.38639,     0.38739,     0.38839,     0.38939,     0.39039,     0.39139,     0.39239,     0.39339,     0.39439,      0.3954,      0.3964,      0.3974,      0.3984,      0.3994,      0.4004,      0.4014,      0.4024,      0.4034,      0.4044,     0.40541,     0.40641,     0.40741,\n",
              "           0.40841,     0.40941,     0.41041,     0.41141,     0.41241,     0.41341,     0.41441,     0.41542,     0.41642,     0.41742,     0.41842,     0.41942,     0.42042,     0.42142,     0.42242,     0.42342,     0.42442,     0.42543,     0.42643,     0.42743,     0.42843,     0.42943,     0.43043,     0.43143,\n",
              "           0.43243,     0.43343,     0.43443,     0.43544,     0.43644,     0.43744,     0.43844,     0.43944,     0.44044,     0.44144,     0.44244,     0.44344,     0.44444,     0.44545,     0.44645,     0.44745,     0.44845,     0.44945,     0.45045,     0.45145,     0.45245,     0.45345,     0.45445,     0.45546,\n",
              "           0.45646,     0.45746,     0.45846,     0.45946,     0.46046,     0.46146,     0.46246,     0.46346,     0.46446,     0.46547,     0.46647,     0.46747,     0.46847,     0.46947,     0.47047,     0.47147,     0.47247,     0.47347,     0.47447,     0.47548,     0.47648,     0.47748,     0.47848,     0.47948,\n",
              "           0.48048,     0.48148,     0.48248,     0.48348,     0.48448,     0.48549,     0.48649,     0.48749,     0.48849,     0.48949,     0.49049,     0.49149,     0.49249,     0.49349,     0.49449,      0.4955,      0.4965,      0.4975,      0.4985,      0.4995,      0.5005,      0.5015,      0.5025,      0.5035,\n",
              "            0.5045,     0.50551,     0.50651,     0.50751,     0.50851,     0.50951,     0.51051,     0.51151,     0.51251,     0.51351,     0.51451,     0.51552,     0.51652,     0.51752,     0.51852,     0.51952,     0.52052,     0.52152,     0.52252,     0.52352,     0.52452,     0.52553,     0.52653,     0.52753,\n",
              "           0.52853,     0.52953,     0.53053,     0.53153,     0.53253,     0.53353,     0.53453,     0.53554,     0.53654,     0.53754,     0.53854,     0.53954,     0.54054,     0.54154,     0.54254,     0.54354,     0.54454,     0.54555,     0.54655,     0.54755,     0.54855,     0.54955,     0.55055,     0.55155,\n",
              "           0.55255,     0.55355,     0.55455,     0.55556,     0.55656,     0.55756,     0.55856,     0.55956,     0.56056,     0.56156,     0.56256,     0.56356,     0.56456,     0.56557,     0.56657,     0.56757,     0.56857,     0.56957,     0.57057,     0.57157,     0.57257,     0.57357,     0.57457,     0.57558,\n",
              "           0.57658,     0.57758,     0.57858,     0.57958,     0.58058,     0.58158,     0.58258,     0.58358,     0.58458,     0.58559,     0.58659,     0.58759,     0.58859,     0.58959,     0.59059,     0.59159,     0.59259,     0.59359,     0.59459,      0.5956,      0.5966,      0.5976,      0.5986,      0.5996,\n",
              "            0.6006,      0.6016,      0.6026,      0.6036,      0.6046,     0.60561,     0.60661,     0.60761,     0.60861,     0.60961,     0.61061,     0.61161,     0.61261,     0.61361,     0.61461,     0.61562,     0.61662,     0.61762,     0.61862,     0.61962,     0.62062,     0.62162,     0.62262,     0.62362,\n",
              "           0.62462,     0.62563,     0.62663,     0.62763,     0.62863,     0.62963,     0.63063,     0.63163,     0.63263,     0.63363,     0.63463,     0.63564,     0.63664,     0.63764,     0.63864,     0.63964,     0.64064,     0.64164,     0.64264,     0.64364,     0.64464,     0.64565,     0.64665,     0.64765,\n",
              "           0.64865,     0.64965,     0.65065,     0.65165,     0.65265,     0.65365,     0.65465,     0.65566,     0.65666,     0.65766,     0.65866,     0.65966,     0.66066,     0.66166,     0.66266,     0.66366,     0.66466,     0.66567,     0.66667,     0.66767,     0.66867,     0.66967,     0.67067,     0.67167,\n",
              "           0.67267,     0.67367,     0.67467,     0.67568,     0.67668,     0.67768,     0.67868,     0.67968,     0.68068,     0.68168,     0.68268,     0.68368,     0.68468,     0.68569,     0.68669,     0.68769,     0.68869,     0.68969,     0.69069,     0.69169,     0.69269,     0.69369,     0.69469,      0.6957,\n",
              "            0.6967,      0.6977,      0.6987,      0.6997,      0.7007,      0.7017,      0.7027,      0.7037,      0.7047,     0.70571,     0.70671,     0.70771,     0.70871,     0.70971,     0.71071,     0.71171,     0.71271,     0.71371,     0.71471,     0.71572,     0.71672,     0.71772,     0.71872,     0.71972,\n",
              "           0.72072,     0.72172,     0.72272,     0.72372,     0.72472,     0.72573,     0.72673,     0.72773,     0.72873,     0.72973,     0.73073,     0.73173,     0.73273,     0.73373,     0.73473,     0.73574,     0.73674,     0.73774,     0.73874,     0.73974,     0.74074,     0.74174,     0.74274,     0.74374,\n",
              "           0.74474,     0.74575,     0.74675,     0.74775,     0.74875,     0.74975,     0.75075,     0.75175,     0.75275,     0.75375,     0.75475,     0.75576,     0.75676,     0.75776,     0.75876,     0.75976,     0.76076,     0.76176,     0.76276,     0.76376,     0.76476,     0.76577,     0.76677,     0.76777,\n",
              "           0.76877,     0.76977,     0.77077,     0.77177,     0.77277,     0.77377,     0.77477,     0.77578,     0.77678,     0.77778,     0.77878,     0.77978,     0.78078,     0.78178,     0.78278,     0.78378,     0.78478,     0.78579,     0.78679,     0.78779,     0.78879,     0.78979,     0.79079,     0.79179,\n",
              "           0.79279,     0.79379,     0.79479,      0.7958,      0.7968,      0.7978,      0.7988,      0.7998,      0.8008,      0.8018,      0.8028,      0.8038,      0.8048,     0.80581,     0.80681,     0.80781,     0.80881,     0.80981,     0.81081,     0.81181,     0.81281,     0.81381,     0.81481,     0.81582,\n",
              "           0.81682,     0.81782,     0.81882,     0.81982,     0.82082,     0.82182,     0.82282,     0.82382,     0.82482,     0.82583,     0.82683,     0.82783,     0.82883,     0.82983,     0.83083,     0.83183,     0.83283,     0.83383,     0.83483,     0.83584,     0.83684,     0.83784,     0.83884,     0.83984,\n",
              "           0.84084,     0.84184,     0.84284,     0.84384,     0.84484,     0.84585,     0.84685,     0.84785,     0.84885,     0.84985,     0.85085,     0.85185,     0.85285,     0.85385,     0.85485,     0.85586,     0.85686,     0.85786,     0.85886,     0.85986,     0.86086,     0.86186,     0.86286,     0.86386,\n",
              "           0.86486,     0.86587,     0.86687,     0.86787,     0.86887,     0.86987,     0.87087,     0.87187,     0.87287,     0.87387,     0.87487,     0.87588,     0.87688,     0.87788,     0.87888,     0.87988,     0.88088,     0.88188,     0.88288,     0.88388,     0.88488,     0.88589,     0.88689,     0.88789,\n",
              "           0.88889,     0.88989,     0.89089,     0.89189,     0.89289,     0.89389,     0.89489,      0.8959,      0.8969,      0.8979,      0.8989,      0.8999,      0.9009,      0.9019,      0.9029,      0.9039,      0.9049,     0.90591,     0.90691,     0.90791,     0.90891,     0.90991,     0.91091,     0.91191,\n",
              "           0.91291,     0.91391,     0.91491,     0.91592,     0.91692,     0.91792,     0.91892,     0.91992,     0.92092,     0.92192,     0.92292,     0.92392,     0.92492,     0.92593,     0.92693,     0.92793,     0.92893,     0.92993,     0.93093,     0.93193,     0.93293,     0.93393,     0.93493,     0.93594,\n",
              "           0.93694,     0.93794,     0.93894,     0.93994,     0.94094,     0.94194,     0.94294,     0.94394,     0.94494,     0.94595,     0.94695,     0.94795,     0.94895,     0.94995,     0.95095,     0.95195,     0.95295,     0.95395,     0.95495,     0.95596,     0.95696,     0.95796,     0.95896,     0.95996,\n",
              "           0.96096,     0.96196,     0.96296,     0.96396,     0.96496,     0.96597,     0.96697,     0.96797,     0.96897,     0.96997,     0.97097,     0.97197,     0.97297,     0.97397,     0.97497,     0.97598,     0.97698,     0.97798,     0.97898,     0.97998,     0.98098,     0.98198,     0.98298,     0.98398,\n",
              "           0.98498,     0.98599,     0.98699,     0.98799,     0.98899,     0.98999,     0.99099,     0.99199,     0.99299,     0.99399,     0.99499,       0.996,       0.997,       0.998,       0.999,           1]), array([[    0.67105,     0.67105,     0.66843,     0.66614,     0.66415,     0.66253,     0.66064,     0.65926,     0.65787,     0.65676,     0.65537,     0.65427,     0.65326,     0.65225,     0.65096,     0.64975,     0.64865,     0.64744,      0.6465,     0.64527,     0.64421,      0.6434,     0.64257,\n",
              "            0.64159,     0.64073,     0.63997,     0.63904,     0.63816,     0.63708,     0.63645,     0.63584,     0.63493,     0.63408,     0.63332,     0.63259,     0.63171,     0.63088,     0.63017,     0.62949,     0.62899,     0.62818,     0.62745,     0.62672,     0.62581,      0.6251,     0.62427,\n",
              "            0.62359,     0.62311,     0.62233,     0.62178,     0.62122,     0.62054,     0.61986,     0.61923,     0.61855,     0.61795,     0.61739,     0.61701,     0.61633,     0.61573,     0.61532,     0.61469,     0.61409,     0.61318,     0.61248,     0.61187,     0.61117,     0.61059,     0.61003,\n",
              "            0.60938,     0.60892,     0.60812,     0.60754,     0.60686,     0.60597,     0.60524,     0.60466,     0.60408,     0.60328,     0.60267,     0.60197,     0.60151,     0.60111,     0.60028,     0.59985,     0.59922,     0.59871,     0.59826,     0.59762,     0.59708,     0.59629,     0.59587,\n",
              "            0.59536,     0.59496,     0.59433,      0.5937,     0.59319,     0.59271,     0.59224,     0.59188,     0.59128,     0.59062,      0.5903,     0.58972,     0.58941,     0.58894,     0.58843,      0.5877,     0.58728,     0.58659,     0.58591,     0.58533,     0.58485,     0.58455,     0.58388,\n",
              "            0.58354,     0.58289,     0.58246,      0.5818,     0.58127,     0.58064,     0.58044,     0.58004,     0.57961,     0.57936,     0.57875,     0.57832,     0.57777,     0.57708,     0.57669,     0.57636,     0.57606,     0.57537,     0.57505,     0.57449,     0.57409,     0.57338,     0.57285,\n",
              "            0.57237,     0.57178,     0.57144,     0.57091,     0.57041,     0.57008,     0.56958,     0.56887,     0.56827,     0.56789,     0.56754,     0.56726,     0.56675,     0.56648,     0.56595,     0.56544,     0.56507,     0.56466,     0.56428,     0.56381,     0.56371,     0.56323,     0.56265,\n",
              "            0.56229,     0.56184,      0.5614,     0.56098,      0.5606,     0.56028,      0.5599,     0.55929,     0.55884,     0.55825,     0.55788,      0.5575,     0.55718,      0.5568,     0.55623,     0.55572,     0.55541,     0.55491,     0.55457,     0.55405,      0.5538,     0.55335,     0.55269,\n",
              "            0.55241,     0.55201,     0.55158,     0.55113,     0.55086,     0.55049,     0.54992,     0.54969,     0.54916,     0.54871,     0.54844,     0.54783,     0.54722,     0.54707,     0.54647,     0.54611,     0.54563,     0.54518,     0.54485,      0.5445,     0.54417,     0.54366,     0.54331,\n",
              "             0.5428,      0.5422,     0.54184,     0.54107,     0.54088,     0.54033,     0.54001,     0.53928,     0.53895,     0.53837,     0.53812,     0.53759,     0.53732,     0.53666,     0.53641,     0.53582,     0.53538,     0.53486,     0.53472,     0.53417,     0.53376,     0.53306,     0.53269,\n",
              "            0.53225,       0.532,     0.53162,     0.53099,     0.53077,     0.53031,     0.52998,     0.52915,     0.52877,     0.52837,     0.52769,     0.52739,     0.52691,     0.52653,     0.52623,      0.5256,     0.52529,     0.52499,     0.52431,     0.52406,     0.52345,      0.5231,     0.52291,\n",
              "            0.52227,     0.52178,     0.52137,     0.52081,     0.52049,     0.52023,     0.51967,      0.5194,     0.51889,     0.51854,     0.51819,     0.51796,     0.51733,       0.517,      0.5167,     0.51609,     0.51577,     0.51546,     0.51488,     0.51458,      0.5143,     0.51405,     0.51322,\n",
              "            0.51272,     0.51231,     0.51189,     0.51117,     0.51083,     0.51045,     0.50977,     0.50949,     0.50926,     0.50896,     0.50828,      0.5079,     0.50738,     0.50704,     0.50631,     0.50601,     0.50566,     0.50534,      0.5047,      0.5042,     0.50389,     0.50362,     0.50324,\n",
              "            0.50235,     0.50185,     0.50145,     0.50115,     0.50062,     0.50018,     0.49999,     0.49968,     0.49933,     0.49855,     0.49825,     0.49782,     0.49737,     0.49648,     0.49618,     0.49583,      0.4954,       0.495,     0.49469,     0.49434,     0.49366,     0.49321,     0.49287,\n",
              "            0.49263,     0.49238,     0.49167,     0.49119,     0.49081,      0.4905,     0.49021,     0.48986,     0.48922,     0.48892,     0.48854,     0.48808,     0.48764,     0.48728,     0.48703,     0.48625,     0.48589,     0.48542,     0.48493,     0.48459,     0.48421,     0.48338,       0.483,\n",
              "             0.4827,     0.48238,     0.48181,     0.48149,     0.48106,     0.48033,     0.47987,     0.47934,     0.47904,     0.47856,     0.47812,     0.47786,     0.47736,     0.47693,     0.47645,     0.47564,     0.47528,     0.47493,      0.4747,     0.47426,     0.47406,     0.47351,     0.47317,\n",
              "            0.47277,     0.47249,      0.4718,     0.47128,     0.47087,     0.47023,     0.46978,     0.46917,     0.46872,     0.46828,     0.46768,     0.46725,     0.46626,     0.46594,      0.4655,     0.46475,     0.46442,     0.46418,     0.46368,     0.46331,     0.46277,     0.46246,     0.46173,\n",
              "            0.46112,     0.46084,     0.46042,     0.45991,      0.4595,     0.45905,     0.45869,     0.45836,     0.45793,     0.45762,     0.45702,     0.45661,     0.45623,     0.45571,     0.45523,     0.45482,     0.45401,     0.45356,     0.45315,     0.45275,     0.45227,     0.45164,     0.45113,\n",
              "            0.45051,     0.45017,     0.44941,      0.4491,     0.44858,     0.44829,      0.4479,     0.44747,     0.44676,     0.44595,     0.44521,     0.44453,     0.44421,     0.44365,     0.44323,     0.44277,     0.44246,     0.44211,     0.44171,     0.44121,      0.4407,     0.44024,     0.43971,\n",
              "             0.4391,     0.43862,     0.43824,     0.43774,     0.43718,     0.43677,     0.43635,     0.43579,     0.43514,     0.43461,     0.43413,     0.43365,     0.43317,     0.43211,     0.43153,     0.43113,     0.43057,     0.43012,     0.42973,     0.42928,     0.42883,     0.42824,     0.42774,\n",
              "            0.42725,     0.42673,      0.4262,     0.42582,     0.42529,     0.42499,     0.42437,      0.4238,     0.42332,     0.42287,     0.42229,     0.42183,     0.42138,     0.42092,     0.42042,     0.42011,     0.41959,     0.41908,     0.41873,      0.4182,     0.41721,     0.41674,     0.41613,\n",
              "            0.41537,     0.41497,     0.41436,     0.41403,     0.41346,       0.413,     0.41247,     0.41181,     0.41128,     0.41068,      0.4103,      0.4099,     0.40947,     0.40904,     0.40861,     0.40821,     0.40779,      0.4072,     0.40673,     0.40611,     0.40556,      0.4049,     0.40432,\n",
              "            0.40381,     0.40353,     0.40311,     0.40243,      0.4019,     0.40139,     0.40078,     0.40008,      0.3995,     0.39882,     0.39836,     0.39793,      0.3974,      0.3971,     0.39617,     0.39572,     0.39511,     0.39448,       0.394,     0.39357,     0.39291,     0.39228,     0.39173,\n",
              "            0.39125,     0.39077,     0.39009,      0.3892,     0.38885,     0.38822,     0.38769,     0.38698,     0.38653,     0.38599,     0.38549,     0.38507,     0.38454,     0.38398,     0.38338,     0.38292,     0.38226,     0.38165,     0.38133,     0.38078,     0.38017,     0.37962,     0.37893,\n",
              "            0.37848,     0.37813,     0.37767,     0.37729,     0.37656,     0.37524,     0.37466,      0.3738,     0.37322,     0.37279,     0.37217,     0.37143,     0.37082,     0.37042,     0.36974,     0.36921,     0.36858,     0.36815,     0.36752,     0.36681,     0.36636,     0.36568,     0.36517,\n",
              "            0.36462,     0.36409,     0.36345,     0.36315,     0.36265,     0.36134,     0.36075,     0.36003,     0.35951,     0.35918,     0.35862,     0.35784,     0.35716,     0.35665,     0.35595,     0.35519,     0.35464,     0.35395,     0.35327,     0.35259,     0.35214,     0.35084,     0.35041,\n",
              "            0.34981,     0.34928,     0.34872,     0.34809,     0.34751,      0.3469,     0.34642,     0.34574,     0.34514,     0.34379,     0.34319,     0.34255,      0.3421,     0.34157,     0.34115,     0.34053,     0.33985,     0.33937,     0.33878,       0.338,     0.33742,     0.33691,     0.33553,\n",
              "            0.33467,     0.33414,     0.33356,     0.33297,     0.33241,     0.33175,     0.33085,     0.33036,     0.33004,     0.32938,     0.32857,     0.32748,     0.32685,     0.32637,     0.32571,     0.32495,     0.32439,     0.32386,      0.3233,     0.32209,     0.32126,     0.32086,     0.32025,\n",
              "            0.31915,     0.31875,     0.31802,     0.31729,     0.31658,     0.31536,     0.31473,     0.31425,     0.31349,     0.31275,     0.31206,     0.31118,      0.3107,     0.31015,      0.3086,     0.30786,     0.30728,      0.3067,     0.30518,     0.30475,     0.30422,     0.30364,     0.30315,\n",
              "            0.30231,     0.30183,     0.30125,     0.29998,     0.29938,     0.29887,       0.298,      0.2975,     0.29664,     0.29608,     0.29473,      0.2941,      0.2935,     0.29207,     0.29122,     0.29053,     0.28988,     0.28906,     0.28893,     0.28777,     0.28675,     0.28672,     0.28556,\n",
              "             0.2855,     0.28391,     0.28386,     0.28241,     0.28115,     0.28111,     0.27967,     0.27945,     0.27855,     0.27737,     0.27604,     0.27587,     0.27455,     0.27449,     0.27305,     0.27138,     0.27133,     0.27001,     0.26993,     0.26841,     0.26721,     0.26714,     0.26612,\n",
              "            0.26599,      0.2645,     0.26303,     0.26292,     0.26125,     0.26107,     0.25965,     0.25829,     0.25656,      0.2564,     0.25483,     0.25475,     0.25278,     0.25123,       0.251,     0.24965,     0.24836,     0.24833,     0.24661,     0.24513,     0.24507,     0.24351,     0.24343,\n",
              "            0.24193,     0.24048,      0.2404,     0.23885,     0.23738,     0.23579,      0.2357,     0.23426,     0.23259,     0.23248,     0.23109,     0.22928,     0.22918,     0.22786,     0.22641,     0.22632,     0.22476,     0.22303,     0.22282,     0.22095,     0.21881,     0.21873,     0.21705,\n",
              "            0.21517,     0.21341,     0.21327,     0.21144,     0.20955,     0.20746,     0.20733,      0.2055,     0.20355,     0.20332,      0.2013,     0.19943,      0.1993,     0.19747,     0.19615,     0.19427,     0.19413,     0.19204,     0.18967,     0.18959,     0.18687,     0.18478,     0.18295,\n",
              "            0.18044,     0.18022,     0.17844,     0.17639,     0.17401,     0.17382,     0.17168,     0.16963,     0.16725,     0.16709,     0.16467,     0.16285,     0.16031,      0.1601,     0.15746,     0.15512,     0.15297,     0.15023,     0.14755,     0.14518,      0.1449,     0.14218,     0.13927,\n",
              "             0.1364,     0.13414,     0.13393,     0.13143,     0.12883,     0.12571,     0.12312,     0.12286,     0.12003,     0.11697,     0.11426,     0.11164,      0.1091,     0.10901,     0.10644,     0.10089,     0.10074,    0.098119,    0.095294,    0.092713,    0.089823,    0.087024,     0.08433,\n",
              "           0.084022,    0.081273,    0.078272,    0.075347,    0.072922,    0.070153,    0.067959,    0.065462,    0.063268,    0.060758,    0.060443,    0.058072,    0.054441,    0.052298,    0.050129,    0.048061,    0.046219,    0.044206,    0.043999,    0.041754,    0.040165,    0.038122,    0.036332,\n",
              "           0.034894,    0.033204,    0.031665,    0.029925,    0.028663,    0.027276,    0.025964,    0.024677,    0.023491,    0.021247,    0.020288,    0.019152,    0.018168,    0.017461,    0.016577,    0.015568,    0.014735,    0.013146,     0.01264,    0.011984,    0.011302,    0.010469,   0.0097872,\n",
              "          0.0089794,   0.0084488,    0.007893,   0.0073877,   0.0070588,    0.006503,   0.0061741,   0.0056687,   0.0053398,   0.0051369,   0.0046315,    0.004353,   0.0039233,   0.0035439,   0.0031394,   0.0029365,    0.002658,   0.0023291,   0.0022018,   0.0020493,    0.001922,   0.0017695,   0.0015666,\n",
              "          0.0013637,   0.0012609,   0.0010839,  0.00090624,  0.00074234,  0.00055268,  0.00049918,  0.00040019,  0.00032518,  0.00030796,  0.00017444,  0.00016411,  0.00015377,  9.6236e-05,  7.9012e-05,  7.3729e-05,   7.138e-05,  6.9032e-05,  6.6683e-05,  6.4334e-05,  6.1986e-05,  5.9637e-05,  5.7288e-05,\n",
              "          5.494e-05,  5.2591e-05,  4.6726e-05,           0,           0,           0,           0,           0,           0,           0,           0,           0,           0,           0,           0,           0,           0,           0,           0,           0,           0,           0,           0,\n",
              "                  0,           0,           0,           0,           0,           0,           0,           0,           0,           0,           0,           0,           0,           0,           0,           0,           0,           0,           0,           0,           0,           0,           0,\n",
              "                  0,           0,           0,           0,           0,           0,           0,           0,           0,           0,           0,           0,           0,           0,           0,           0,           0,           0,           0,           0,           0,           0,           0,\n",
              "                  0,           0,           0,           0,           0,           0,           0,           0,           0,           0,           0]]), 'Confidence', 'Recall']]\n",
              "fitness: np.float64(0.35139031788085656)\n",
              "keys: ['metrics/precision(B)', 'metrics/recall(B)', 'metrics/mAP50(B)', 'metrics/mAP50-95(B)']\n",
              "maps: array([    0.32347])\n",
              "names: {0: 'face'}\n",
              "nt_per_class: array([39675])\n",
              "nt_per_image: array([3225])\n",
              "results_dict: {'metrics/precision(B)': np.float64(0.8119433853509019), 'metrics/recall(B)': np.float64(0.5255954631379962), 'metrics/mAP50(B)': np.float64(0.6026320144602568), 'metrics/mAP50-95(B)': np.float64(0.3234745738164787), 'fitness': np.float64(0.35139031788085656)}\n",
              "save_dir: PosixPath('runs/detect/train')\n",
              "speed: {'preprocess': 0.2007622099217558, 'inference': 1.9094071779837514, 'loss': 0.002592841860331286, 'postprocess': 2.4071540852709186}\n",
              "stats: {'tp': [], 'conf': [], 'pred_cls': [], 'target_cls': [], 'target_img': []}\n",
              "task: 'detect'"
            ]
          },
          "metadata": {},
          "execution_count": 9
        }
      ]
    },
    {
      "cell_type": "code",
      "source": [
        "# === Task 4: Fine-tune YOLOv8 on 700-image subset ===\n",
        "\n",
        "from ultralytics import YOLO\n",
        "\n",
        "model_finetuned = YOLO('yolov8n.pt')\n",
        "\n",
        "model_finetuned.train(\n",
        "    data='/content/widerface_yolo_format/dataset.yaml',\n",
        "    epochs=10,\n",
        "    imgsz=640,\n",
        "    batch=16,\n",
        "    name='yolov8_finetune',\n",
        "    warmup_epochs=5,\n",
        "    save_period=10,\n",
        "    patience=20,\n",
        "    pretrained=True\n",
        ")\n"
      ],
      "metadata": {
        "colab": {
          "base_uri": "https://localhost:8080/"
        },
        "id": "zU8rbny9g0rO",
        "outputId": "af58e26d-676f-4f85-8dae-0074dd3e0f09"
      },
      "execution_count": null,
      "outputs": [
        {
          "output_type": "stream",
          "name": "stdout",
          "text": [
            "Ultralytics 8.3.162 🚀 Python-3.11.13 torch-2.6.0+cu124 CUDA:0 (Tesla T4, 15095MiB)\n",
            "\u001b[34m\u001b[1mengine/trainer: \u001b[0magnostic_nms=False, amp=True, augment=False, auto_augment=randaugment, batch=16, bgr=0.0, box=7.5, cache=False, cfg=None, classes=None, close_mosaic=10, cls=0.5, conf=None, copy_paste=0.0, copy_paste_mode=flip, cos_lr=False, cutmix=0.0, data=/content/widerface_yolo_format/dataset.yaml, degrees=0.0, deterministic=True, device=None, dfl=1.5, dnn=False, dropout=0.0, dynamic=False, embed=None, epochs=10, erasing=0.4, exist_ok=False, fliplr=0.5, flipud=0.0, format=torchscript, fraction=1.0, freeze=None, half=False, hsv_h=0.015, hsv_s=0.7, hsv_v=0.4, imgsz=640, int8=False, iou=0.7, keras=False, kobj=1.0, line_width=None, lr0=0.01, lrf=0.01, mask_ratio=4, max_det=300, mixup=0.0, mode=train, model=yolov8n.pt, momentum=0.937, mosaic=1.0, multi_scale=False, name=yolov8_finetune_700, nbs=64, nms=False, opset=None, optimize=False, optimizer=auto, overlap_mask=True, patience=20, perspective=0.0, plots=True, pose=12.0, pretrained=True, profile=False, project=None, rect=False, resume=False, retina_masks=False, save=True, save_conf=False, save_crop=False, save_dir=runs/detect/yolov8_finetune_700, save_frames=False, save_json=False, save_period=10, save_txt=False, scale=0.5, seed=0, shear=0.0, show=False, show_boxes=True, show_conf=True, show_labels=True, simplify=True, single_cls=False, source=None, split=val, stream_buffer=False, task=detect, time=None, tracker=botsort.yaml, translate=0.1, val=True, verbose=True, vid_stride=1, visualize=False, warmup_bias_lr=0.1, warmup_epochs=5, warmup_momentum=0.8, weight_decay=0.0005, workers=8, workspace=None\n",
            "Overriding model.yaml nc=80 with nc=1\n",
            "\n",
            "                   from  n    params  module                                       arguments                     \n",
            "  0                  -1  1       464  ultralytics.nn.modules.conv.Conv             [3, 16, 3, 2]                 \n",
            "  1                  -1  1      4672  ultralytics.nn.modules.conv.Conv             [16, 32, 3, 2]                \n",
            "  2                  -1  1      7360  ultralytics.nn.modules.block.C2f             [32, 32, 1, True]             \n",
            "  3                  -1  1     18560  ultralytics.nn.modules.conv.Conv             [32, 64, 3, 2]                \n",
            "  4                  -1  2     49664  ultralytics.nn.modules.block.C2f             [64, 64, 2, True]             \n",
            "  5                  -1  1     73984  ultralytics.nn.modules.conv.Conv             [64, 128, 3, 2]               \n",
            "  6                  -1  2    197632  ultralytics.nn.modules.block.C2f             [128, 128, 2, True]           \n",
            "  7                  -1  1    295424  ultralytics.nn.modules.conv.Conv             [128, 256, 3, 2]              \n",
            "  8                  -1  1    460288  ultralytics.nn.modules.block.C2f             [256, 256, 1, True]           \n",
            "  9                  -1  1    164608  ultralytics.nn.modules.block.SPPF            [256, 256, 5]                 \n",
            " 10                  -1  1         0  torch.nn.modules.upsampling.Upsample         [None, 2, 'nearest']          \n",
            " 11             [-1, 6]  1         0  ultralytics.nn.modules.conv.Concat           [1]                           \n",
            " 12                  -1  1    148224  ultralytics.nn.modules.block.C2f             [384, 128, 1]                 \n",
            " 13                  -1  1         0  torch.nn.modules.upsampling.Upsample         [None, 2, 'nearest']          \n",
            " 14             [-1, 4]  1         0  ultralytics.nn.modules.conv.Concat           [1]                           \n",
            " 15                  -1  1     37248  ultralytics.nn.modules.block.C2f             [192, 64, 1]                  \n",
            " 16                  -1  1     36992  ultralytics.nn.modules.conv.Conv             [64, 64, 3, 2]                \n",
            " 17            [-1, 12]  1         0  ultralytics.nn.modules.conv.Concat           [1]                           \n",
            " 18                  -1  1    123648  ultralytics.nn.modules.block.C2f             [192, 128, 1]                 \n",
            " 19                  -1  1    147712  ultralytics.nn.modules.conv.Conv             [128, 128, 3, 2]              \n",
            " 20             [-1, 9]  1         0  ultralytics.nn.modules.conv.Concat           [1]                           \n",
            " 21                  -1  1    493056  ultralytics.nn.modules.block.C2f             [384, 256, 1]                 \n",
            " 22        [15, 18, 21]  1    751507  ultralytics.nn.modules.head.Detect           [1, [64, 128, 256]]           \n",
            "Model summary: 129 layers, 3,011,043 parameters, 3,011,027 gradients, 8.2 GFLOPs\n",
            "\n",
            "Transferred 319/355 items from pretrained weights\n",
            "Freezing layer 'model.22.dfl.conv.weight'\n",
            "\u001b[34m\u001b[1mAMP: \u001b[0mrunning Automatic Mixed Precision (AMP) checks...\n",
            "\u001b[34m\u001b[1mAMP: \u001b[0mchecks passed ✅\n",
            "\u001b[34m\u001b[1mtrain: \u001b[0mFast image access ✅ (ping: 0.0±0.0 ms, read: 2081.3±618.4 MB/s, size: 101.9 KB)\n"
          ]
        },
        {
          "output_type": "stream",
          "name": "stderr",
          "text": [
            "\u001b[34m\u001b[1mtrain: \u001b[0mScanning /content/widerface_yolo_format/labels/train.cache... 12880 images, 4 backgrounds, 1 corrupt: 100%|██████████| 12880/12880 [00:00<?, ?it/s]"
          ]
        },
        {
          "output_type": "stream",
          "name": "stdout",
          "text": [
            "\u001b[34m\u001b[1mtrain: \u001b[0m/content/widerface_yolo_format/images/train/2_Demonstration_Protesters_2_231.jpg: 1 duplicate labels removed\n",
            "\u001b[34m\u001b[1mtrain: \u001b[0m/content/widerface_yolo_format/images/train/37_Soccer_Soccer_37_851.jpg: 1 duplicate labels removed\n",
            "\u001b[34m\u001b[1mtrain: \u001b[0m/content/widerface_yolo_format/images/train/54_Rescue_rescuepeople_54_29.jpg: ignoring corrupt image/label: non-normalized or out of bounds coordinates [     1.0254]\n",
            "\u001b[34m\u001b[1mtrain: \u001b[0m/content/widerface_yolo_format/images/train/7_Cheering_Cheering_7_17.jpg: 1 duplicate labels removed\n",
            "\u001b[34m\u001b[1malbumentations: \u001b[0mBlur(p=0.01, blur_limit=(3, 7)), MedianBlur(p=0.01, blur_limit=(3, 7)), ToGray(p=0.01, method='weighted_average', num_output_channels=3), CLAHE(p=0.01, clip_limit=(1.0, 4.0), tile_grid_size=(8, 8))\n"
          ]
        },
        {
          "output_type": "stream",
          "name": "stderr",
          "text": [
            "\n"
          ]
        },
        {
          "output_type": "stream",
          "name": "stdout",
          "text": [
            "\u001b[34m\u001b[1mval: \u001b[0mFast image access ✅ (ping: 0.0±0.0 ms, read: 566.8±435.5 MB/s, size: 99.9 KB)\n"
          ]
        },
        {
          "output_type": "stream",
          "name": "stderr",
          "text": [
            "\u001b[34m\u001b[1mval: \u001b[0mScanning /content/widerface_yolo_format/labels/val.cache... 3226 images, 0 backgrounds, 1 corrupt: 100%|██████████| 3226/3226 [00:00<?, ?it/s]"
          ]
        },
        {
          "output_type": "stream",
          "name": "stdout",
          "text": [
            "\u001b[34m\u001b[1mval: \u001b[0m/content/widerface_yolo_format/images/val/21_Festival_Festival_21_604.jpg: 1 duplicate labels removed\n",
            "\u001b[34m\u001b[1mval: \u001b[0m/content/widerface_yolo_format/images/val/39_Ice_Skating_iceskiing_39_583.jpg: ignoring corrupt image/label: non-normalized or out of bounds coordinates [      1.002]\n"
          ]
        },
        {
          "output_type": "stream",
          "name": "stderr",
          "text": [
            "\n"
          ]
        },
        {
          "output_type": "stream",
          "name": "stdout",
          "text": [
            "Plotting labels to runs/detect/yolov8_finetune_700/labels.jpg... \n",
            "\u001b[34m\u001b[1moptimizer:\u001b[0m 'optimizer=auto' found, ignoring 'lr0=0.01' and 'momentum=0.937' and determining best 'optimizer', 'lr0' and 'momentum' automatically... \n",
            "\u001b[34m\u001b[1moptimizer:\u001b[0m AdamW(lr=0.002, momentum=0.9) with parameter groups 57 weight(decay=0.0), 64 weight(decay=0.0005), 63 bias(decay=0.0)\n",
            "Image sizes 640 train, 640 val\n",
            "Using 2 dataloader workers\n",
            "Logging results to \u001b[1mruns/detect/yolov8_finetune_700\u001b[0m\n",
            "Starting training for 10 epochs...\n",
            "Closing dataloader mosaic\n",
            "\u001b[34m\u001b[1malbumentations: \u001b[0mBlur(p=0.01, blur_limit=(3, 7)), MedianBlur(p=0.01, blur_limit=(3, 7)), ToGray(p=0.01, method='weighted_average', num_output_channels=3), CLAHE(p=0.01, clip_limit=(1.0, 4.0), tile_grid_size=(8, 8))\n",
            "\n",
            "      Epoch    GPU_mem   box_loss   cls_loss   dfl_loss  Instances       Size\n"
          ]
        },
        {
          "output_type": "stream",
          "name": "stderr",
          "text": [
            "       1/10      10.4G      1.882      1.621      1.179         87        640: 100%|██████████| 805/805 [04:48<00:00,  2.79it/s]\n",
            "                 Class     Images  Instances      Box(P          R      mAP50  mAP50-95): 100%|██████████| 101/101 [00:39<00:00,  2.57it/s]\n"
          ]
        },
        {
          "output_type": "stream",
          "name": "stdout",
          "text": [
            "                   all       3225      39675      0.735      0.446      0.498      0.244\n",
            "\n",
            "      Epoch    GPU_mem   box_loss   cls_loss   dfl_loss  Instances       Size\n"
          ]
        },
        {
          "output_type": "stream",
          "name": "stderr",
          "text": [
            "       2/10      9.45G      1.686      1.048      1.079        322        640: 100%|██████████| 805/805 [04:40<00:00,  2.87it/s]\n",
            "                 Class     Images  Instances      Box(P          R      mAP50  mAP50-95): 100%|██████████| 101/101 [00:35<00:00,  2.86it/s]\n"
          ]
        },
        {
          "output_type": "stream",
          "name": "stdout",
          "text": [
            "                   all       3225      39675      0.723      0.429      0.494       0.25\n",
            "\n",
            "      Epoch    GPU_mem   box_loss   cls_loss   dfl_loss  Instances       Size\n"
          ]
        },
        {
          "output_type": "stream",
          "name": "stderr",
          "text": [
            "       3/10      13.3G      1.655     0.9884      1.071        286        640: 100%|██████████| 805/805 [04:36<00:00,  2.91it/s]\n",
            "                 Class     Images  Instances      Box(P          R      mAP50  mAP50-95): 100%|██████████| 101/101 [00:38<00:00,  2.63it/s]\n"
          ]
        },
        {
          "output_type": "stream",
          "name": "stdout",
          "text": [
            "                   all       3225      39675      0.754      0.446      0.513      0.261\n",
            "\n",
            "      Epoch    GPU_mem   box_loss   cls_loss   dfl_loss  Instances       Size\n"
          ]
        },
        {
          "output_type": "stream",
          "name": "stderr",
          "text": [
            "       4/10      13.8G      1.615     0.9484      1.061        478        640: 100%|██████████| 805/805 [04:38<00:00,  2.89it/s]\n",
            "                 Class     Images  Instances      Box(P          R      mAP50  mAP50-95): 100%|██████████| 101/101 [00:37<00:00,  2.72it/s]\n"
          ]
        },
        {
          "output_type": "stream",
          "name": "stdout",
          "text": [
            "                   all       3225      39675      0.753      0.432      0.501      0.254\n",
            "\n",
            "      Epoch    GPU_mem   box_loss   cls_loss   dfl_loss  Instances       Size\n"
          ]
        },
        {
          "output_type": "stream",
          "name": "stderr",
          "text": [
            "       5/10      7.54G      1.601     0.9293      1.055         89        640:  20%|█▉        | 159/805 [00:56<05:18,  2.03it/s]"
          ]
        }
      ]
    },
    {
      "cell_type": "code",
      "source": [
        "model_orig = YOLO('yolov8n.pt')\n",
        "model_ft = YOLO('/content/runs/detect/yolov8_full_train/weights/best.pt')\n",
        "\n",
        "print(\"Evaluating Original YOLOv8 (Before Fine-Tuning)\")\n",
        "metrics_orig = model_orig.val(data='/content/widerface_yolo_format/dataset.yaml', split='val', imgsz=640)\n",
        "print(metrics_orig)\n",
        "\n",
        "print(\"Evaluating Fine-Tuned YOLOv8 (After Fine-Tuning)\")\n",
        "metrics_ft = model_ft.val(data='/content/widerface_yolo_format/dataset.yaml', split='val', imgsz=640)\n",
        "print(metrics_ft)"
      ],
      "metadata": {
        "id": "lucRirWrg2c3"
      },
      "execution_count": null,
      "outputs": []
    },
    {
      "cell_type": "code",
      "source": [
        "import os\n",
        "from IPython.display import display, Image\n",
        "\n",
        "sample_image = '/content/widerface_yolo_format/images/val/0_Parade_marchingband_1_749.jpg'\n",
        "\n",
        "model_orig.predict(\n",
        "    source=sample_image,\n",
        "    save=True,\n",
        "    conf=0.3,\n",
        "    project='/content/output_full_compare',\n",
        "    name='original',\n",
        "    exist_ok=True\n",
        ")\n",
        "\n",
        "model_ft.predict(\n",
        "    source=sample_image,\n",
        "    save=True,\n",
        "    conf=0.3,\n",
        "    project='/content/output_full_compare',\n",
        "    name='finetuned',\n",
        "    exist_ok=True\n",
        ")\n",
        "\n",
        "print(\"Original YOLOv8 Prediction:\")\n",
        "display(Image(filename='/content/output_full_compare/original/0_Parade_marchingband_1_749.jpg'))\n",
        "\n",
        "print(\"Fine-Tuned YOLOv8 Prediction:\")\n",
        "display(Image(filename='/content/output_full_compare/finetuned/0_Parade_marchingband_1_749.jpg'))"
      ],
      "metadata": {
        "id": "HAu7wjIzg3Fe"
      },
      "execution_count": null,
      "outputs": []
    },
    {
      "cell_type": "code",
      "source": [
        "# === Task 7: Run Fine-Tuned Model on New Image or Video (Optional) ===\n",
        "\n",
        "# On a test image\n",
        "model_ft.predict(source='/content/datasets/widerface/WIDER_val/images/xx.jpg', save=True)\n",
        "\n",
        "# On a full video\n",
        "model_ft.predict(\n",
        "    source='/content/drive/MyDrive/dataset/video/background video _ people _ walking _.mp4',\n",
        "    save=True,\n",
        "    conf=0.3\n",
        ")\n"
      ],
      "metadata": {
        "id": "OMhGa9Kag5nn"
      },
      "execution_count": null,
      "outputs": []
    },
    {
      "cell_type": "code",
      "source": [
        "import torch\n",
        "import torch.nn as nn\n",
        "import torch.optim as optim\n",
        "import torchvision.transforms as transforms\n",
        "from torch.utils.data import DataLoader, Dataset\n",
        "import os\n",
        "from PIL import Image\n",
        "from torchmetrics.detection.mean_ap import MeanAveragePrecision\n",
        "\n",
        "class YOLOv1(nn.Module):\n",
        "    def __init__(self, S=7, B=2, C=1):\n",
        "        super(YOLOv1, self).__init__()\n",
        "        self.S = S\n",
        "        self.B = B\n",
        "        self.C = C\n",
        "\n",
        "        self.features = nn.Sequential(\n",
        "            nn.Conv2d(3, 64, kernel_size=7, stride=2, padding=3),\n",
        "            nn.ReLU(),\n",
        "            nn.MaxPool2d(kernel_size=2, stride=2),\n",
        "            nn.Conv2d(64, 192, kernel_size=3, padding=1),\n",
        "            nn.ReLU(),\n",
        "            nn.MaxPool2d(kernel_size=2, stride=2),\n",
        "            nn.Conv2d(192, 128, kernel_size=1),\n",
        "            nn.ReLU(),\n",
        "            nn.Conv2d(128, 256, kernel_size=3, padding=1),\n",
        "            nn.ReLU(),\n",
        "            nn.MaxPool2d(kernel_size=2, stride=2),\n",
        "            nn.Conv2d(256, 256, kernel_size=3, padding=1),\n",
        "            nn.ReLU(),\n",
        "            nn.Conv2d(256, 512, kernel_size=3, padding=1),\n",
        "            nn.ReLU(),\n",
        "            nn.MaxPool2d(kernel_size=2, stride=2),\n",
        "            nn.Conv2d(512, 512, kernel_size=3, padding=1),\n",
        "            nn.ReLU(),\n",
        "            nn.Conv2d(512, 1024, kernel_size=3, padding=1),\n",
        "            nn.ReLU(),\n",
        "            nn.Conv2d(1024, 1024, kernel_size=3, padding=1),\n",
        "            nn.ReLU(),\n",
        "            nn.Conv2d(1024, 1024, kernel_size=3, padding=1),\n",
        "            nn.ReLU(),\n",
        "            nn.Flatten(),\n",
        "            nn.Linear(1024 * S * S, 4096),\n",
        "            nn.ReLU(),\n",
        "            nn.Dropout(p=0.5),\n",
        "            nn.Linear(4096, S * S * (B * 5 + C))\n",
        "        )\n",
        "\n",
        "    def forward(self, x):\n",
        "        return self.features(x).view(-1, self.S, self.S, self.B * 5 + self.C)\n",
        "\n",
        "class WiderFaceDataset(Dataset):\n",
        "    def __init__(self, img_dir, label_dir, S=7, transform=None):\n",
        "        self.img_dir = img_dir\n",
        "        self.label_dir = label_dir\n",
        "        self.transform = transform\n",
        "        self.S = S\n",
        "        self.img_files = [f for f in os.listdir(img_dir) if f.endswith(('.jpg', '.jpeg', '.png'))]\n",
        "\n",
        "    def __len__(self):\n",
        "        return len(self.img_files)\n",
        "\n",
        "    def __getitem__(self, idx):\n",
        "        img_name = self.img_files[idx]\n",
        "        img_path = os.path.join(self.img_dir, img_name)\n",
        "        label_path = os.path.join(self.label_dir, os.path.splitext(img_name)[0] + \".txt\")\n",
        "\n",
        "        img = Image.open(img_path).convert('RGB')\n",
        "        img_w, img_h = img.size\n",
        "\n",
        "        target = torch.zeros((self.S, self.S, 5 * 2 + 1))  # B=2, C=1\n",
        "\n",
        "        if os.path.exists(label_path):\n",
        "            with open(label_path, \"r\") as f:\n",
        "                for line in f:\n",
        "                    cls, x_center, y_center, width, height = map(float, line.strip().split())\n",
        "                    grid_x = min(int(x_center * self.S), self.S - 1)\n",
        "                    grid_y = min(int(y_center * self.S), self.S - 1)\n",
        "\n",
        "                    target[grid_y, grid_x, 0] = x_center * self.S - grid_x\n",
        "                    target[grid_y, grid_x, 1] = y_center * self.S - grid_y\n",
        "                    target[grid_y, grid_x, 2] = width * self.S\n",
        "                    target[grid_y, grid_x, 3] = height * self.S\n",
        "                    target[grid_y, grid_x, 4] = 1.0\n",
        "                    target[grid_y, grid_x, 10] = cls\n",
        "\n",
        "        if self.transform:\n",
        "            img = self.transform(img)\n",
        "\n",
        "        return img, target\n",
        "\n",
        "def calculate_iou(box1, box2):\n",
        "    x1, y1, w1, h1 = box1\n",
        "    x2, y2, w2, h2 = box2\n",
        "    w1_half, h1_half = w1 / 2, h1 / 2\n",
        "    w2_half, h2_half = w2 / 2, h2 / 2\n",
        "\n",
        "    x1_min, y1_min = x1 - w1_half, y1 - h1_half\n",
        "    x1_max, y1_max = x1 + w1_half, y1 + h1_half\n",
        "    x2_min, y2_min = x2 - w2_half, y2 - h2_half\n",
        "    x2_max, y2_max = x2 + w2_half, y2 + h2_half\n",
        "\n",
        "    inter_x_min = max(x1_min, x2_min)\n",
        "    inter_y_min = max(y1_min, y2_min)\n",
        "    inter_x_max = min(x1_max, x2_max)\n",
        "    inter_y_max = min(y1_max, y2_max)\n",
        "\n",
        "    inter_area = max(0, inter_x_max - inter_x_min) * max(0, inter_y_max - inter_y_min)\n",
        "    union_area = w1 * h1 + w2 * h2 - inter_area\n",
        "\n",
        "    return inter_area / union_area if union_area > 0 else 0\n",
        "\n",
        "def yolo_loss(preds, targets, S=7, B=2, lambda_coord=5.0, lambda_noobj=0.5):\n",
        "    batch_size = preds.size(0)\n",
        "    total_loss = 0\n",
        "\n",
        "    for i in range(batch_size):\n",
        "        pred = preds[i].view(S, S, B * 5 + 1)\n",
        "        target = targets[i].view(S, S, B * 5 + 1)\n",
        "\n",
        "        for j in range(S):\n",
        "            for k in range(S):\n",
        "                obj_mask = target[j, k, 4] > 0\n",
        "                noobj_mask = ~obj_mask\n",
        "\n",
        "                if obj_mask:\n",
        "                    best_iou = 0\n",
        "                    best_box_idx = 0\n",
        "                    for b in range(B):\n",
        "                        box_pred = pred[j, k, 5 * b:5 * (b + 1)]\n",
        "                        x, y, w, h, conf = box_pred\n",
        "                        target_box = target[j, k, :5]\n",
        "                        iou = calculate_iou((x, y, w, h), (target_box[0], target_box[1], target_box[2], target_box[3]))\n",
        "                        if iou > best_iou:\n",
        "                            best_iou = iou\n",
        "                            best_box_idx = b\n",
        "\n",
        "                    best_pred = pred[j, k, 5 * best_box_idx:5 * (best_box_idx + 1)]\n",
        "                    target_box = target[j, k, :5]\n",
        "                    coord_loss = nn.MSELoss()(best_pred[:4], target_box[:4]) * lambda_coord\n",
        "                    conf_loss = nn.MSELoss()(best_pred[4], target_box[4])\n",
        "                    class_loss = nn.MSELoss()(pred[j, k, 10], target[j, k, 10])\n",
        "                    total_loss += coord_loss + conf_loss + class_loss\n",
        "\n",
        "                for b in range(B):\n",
        "                    noobj_conf = pred[j, k, 5 * b + 4]\n",
        "                    total_loss += nn.MSELoss()(noobj_conf, torch.tensor(0.0, device=pred.device)) * lambda_noobj * noobj_mask.float()\n",
        "\n",
        "    return total_loss / batch_size\n",
        "\n",
        "# === Training Setup ===\n",
        "S = 7\n",
        "B = 2\n",
        "C = 1\n",
        "learning_rate = 0.001\n",
        "num_epochs = 10\n",
        "batch_size = 16\n",
        "image_size = 224\n",
        "\n",
        "transform = transforms.Compose([\n",
        "    transforms.Resize((image_size, image_size)),\n",
        "    transforms.ToTensor(),\n",
        "    transforms.Normalize(mean=[0.485, 0.456, 0.406],\n",
        "                         std=[0.229, 0.224, 0.225])\n",
        "])\n",
        "\n",
        "# ✅ Update these paths to your 700-image subset\n",
        "train_img_dir = \"/content/widerface_yolo_700_subset/images/train\"\n",
        "train_label_dir = \"/content/widerface_yolo_700_subset/labels/train\"\n",
        "val_img_dir = \"/content/widerface_yolo_700_subset/images/val\"\n",
        "val_label_dir = \"/content/widerface_yolo_700_subset/labels/val\"\n",
        "\n",
        "train_dataset = WiderFaceDataset(train_img_dir, train_label_dir, S=S, transform=transform)\n",
        "val_dataset = WiderFaceDataset(val_img_dir, val_label_dir, S=S, transform=transform)\n",
        "\n",
        "train_loader = DataLoader(train_dataset, batch_size=batch_size, shuffle=True)\n",
        "val_loader = DataLoader(val_dataset, batch_size=batch_size, shuffle=False)\n",
        "\n",
        "device = torch.device(\"cuda\" if torch.cuda.is_available() else \"cpu\")\n",
        "model = YOLOv1(S=S, B=B, C=C).to(device)\n",
        "optimizer = optim.Adam(model.parameters(), lr=learning_rate)\n",
        "metric = MeanAveragePrecision().to(device)\n",
        "\n",
        "for epoch in range(num_epochs):\n",
        "    model.train()\n",
        "    total_loss = 0\n",
        "    for batch_idx, (images, targets) in enumerate(train_loader):\n",
        "        images, targets = images.to(device), targets.to(device)\n",
        "        optimizer.zero_grad()\n",
        "        outputs = model(images)\n",
        "        loss = yolo_loss(outputs, targets, S=S, B=B)\n",
        "        loss.backward()\n",
        "        optimizer.step()\n",
        "        total_loss += loss.item()\n",
        "\n",
        "        if batch_idx % 10 == 0:\n",
        "            print(f\"Epoch [{epoch+1}/{num_epochs}], Step [{batch_idx}/{len(train_loader)}], Loss: {loss.item():.4f}\")\n",
        "\n",
        "    print(f\"Epoch [{epoch+1}/{num_epochs}], Avg Loss: {total_loss / len(train_loader):.4f}\")\n",
        "\n",
        "# ✅ Save trained model\n",
        "torch.save(model.state_dict(), \"yolov1_widerface_700subset.pth\")\n"
      ],
      "metadata": {
        "id": "rCHh3ziSg9Mm"
      },
      "execution_count": null,
      "outputs": []
    },
    {
      "cell_type": "code",
      "source": [],
      "metadata": {
        "id": "mzX9Uqzkg9v-"
      },
      "execution_count": null,
      "outputs": []
    }
  ]
}