{
  "nbformat": 4,
  "nbformat_minor": 0,
  "metadata": {
    "colab": {
      "provenance": [],
      "gpuType": "T4"
    },
    "kernelspec": {
      "name": "python3",
      "display_name": "Python 3"
    },
    "language_info": {
      "name": "python"
    },
    "accelerator": "GPU"
  },
  "cells": [
    {
      "cell_type": "code",
      "source": [
        "import tensorflow as tf\n",
        "from tensorflow.keras.datasets import mnist"
      ],
      "metadata": {
        "id": "QCbIontWn_S-"
      },
      "execution_count": null,
      "outputs": []
    },
    {
      "cell_type": "code",
      "source": [
        "(x_train, y_train), (x_test, y_test) = mnist.load_data()\n",
        "x_train = x_train.reshape(-1, 784).astype('float32') / 255.0\n",
        "x_test = x_test.reshape(-1, 784).astype('float32') / 255.0"
      ],
      "metadata": {
        "id": "vEoKTpk7oArY"
      },
      "execution_count": null,
      "outputs": []
    },
    {
      "cell_type": "code",
      "source": [
        "weights = {\n",
        "    'W1': tf.Variable(tf.random.normal([784, 256], stddev=0.1)),\n",
        "    'b1': tf.Variable(tf.zeros([256])),\n",
        "    'W2': tf.Variable(tf.random.normal([256, 128], stddev=0.1)),\n",
        "    'b2': tf.Variable(tf.zeros([128])),\n",
        "    'W3': tf.Variable(tf.random.normal([128, 64], stddev=0.1)),\n",
        "    'b3': tf.Variable(tf.zeros([64])),\n",
        "    'W4': tf.Variable(tf.random.normal([64, 10], stddev=0.1)),\n",
        "    'b4': tf.Variable(tf.zeros([10]))\n",
        "}"
      ],
      "metadata": {
        "id": "_SSPT_pSoCNY"
      },
      "execution_count": null,
      "outputs": []
    },
    {
      "cell_type": "code",
      "source": [
        "def forward(x):\n",
        "    Z1 = tf.matmul(x, weights['W1']) + weights['b1']\n",
        "    A1 = tf.nn.relu(Z1)\n",
        "    Z2 = tf.matmul(A1, weights['W2']) + weights['b2']\n",
        "    A2 = tf.nn.relu(Z2)\n",
        "    Z3 = tf.matmul(A2, weights['W3']) + weights['b3']\n",
        "    A3 = tf.nn.relu(Z3)\n",
        "    Z4 = tf.matmul(A3, weights['W4']) + weights['b4']\n",
        "    return tf.nn.softmax(Z4)"
      ],
      "metadata": {
        "id": "s-siRoljoFT3"
      },
      "execution_count": null,
      "outputs": []
    },
    {
      "cell_type": "code",
      "source": [
        "def train_with_tape(epochs=5, lr=0.01):\n",
        "    for epoch in range(epochs):\n",
        "        for x_batch, y_batch in tf.data.Dataset.from_tensor_slices((x_train, y_train)).batch(32):\n",
        "            with tf.GradientTape() as tape:\n",
        "                preds = forward(x_batch)\n",
        "                loss = tf.reduce_mean(\n",
        "                    tf.keras.losses.sparse_categorical_crossentropy(y_batch, preds))\n",
        "\n",
        "            grads = tape.gradient(loss, list(weights.values()))\n",
        "\n",
        "            for (w, g) in zip(weights.values(), grads):\n",
        "                w.assign_sub(lr * g)"
      ],
      "metadata": {
        "id": "KcR0a7xerfdR"
      },
      "execution_count": null,
      "outputs": []
    },
    {
      "cell_type": "code",
      "source": [
        "def train_with_fit():\n",
        "    model = tf.keras.Sequential([\n",
        "        tf.keras.layers.Dense(256, activation='relu', input_shape=(784,)),\n",
        "        tf.keras.layers.Dense(128, activation='relu'),\n",
        "        tf.keras.layers.Dense(64, activation='relu'),\n",
        "        tf.keras.layers.Dense(10, activation='softmax')\n",
        "    ])\n",
        "    model.compile(optimizer='adam',\n",
        "                 loss='sparse_categorical_crossentropy',\n",
        "                 metrics=['accuracy'])\n",
        "    model.fit(x_train, y_train, epochs=5, batch_size=32)\n",
        "    return model"
      ],
      "metadata": {
        "id": "cNENynvloIMq"
      },
      "execution_count": null,
      "outputs": []
    },
    {
      "cell_type": "code",
      "source": [
        "tape_weights = train_with_tape()\n",
        "fit_model = train_with_fit()\n",
        "\n",
        "print(\"GradientTape Test Accuracy:\",\n",
        "      tf.reduce_mean(tf.metrics.sparse_categorical_accuracy(\n",
        "          y_test, forward(x_test))).numpy())\n",
        "print(\"model.fit Test Accuracy:\", fit_model.evaluate(x_test, y_test, verbose=0)[1])"
      ],
      "metadata": {
        "id": "QEdTlH5qoKJI"
      },
      "execution_count": null,
      "outputs": []
    }
  ]
}